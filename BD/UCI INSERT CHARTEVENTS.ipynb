{
 "cells": [
  {
   "cell_type": "code",
   "execution_count": 15,
   "metadata": {},
   "outputs": [],
   "source": [
    "import pymysql\n",
    "import requests\n",
    "import pandas as pd\n",
    "import numpy as np"
   ]
  },
  {
   "attachments": {},
   "cell_type": "markdown",
   "metadata": {},
   "source": [
    "### Genera un df con el archivo `csv` \"CHARTEVENTS\""
   ]
  },
  {
   "cell_type": "code",
   "execution_count": 17,
   "metadata": {},
   "outputs": [
    {
     "data": {
      "text/html": [
       "<div>\n",
       "<style scoped>\n",
       "    .dataframe tbody tr th:only-of-type {\n",
       "        vertical-align: middle;\n",
       "    }\n",
       "\n",
       "    .dataframe tbody tr th {\n",
       "        vertical-align: top;\n",
       "    }\n",
       "\n",
       "    .dataframe thead th {\n",
       "        text-align: right;\n",
       "    }\n",
       "</style>\n",
       "<table border=\"1\" class=\"dataframe\">\n",
       "  <thead>\n",
       "    <tr style=\"text-align: right;\">\n",
       "      <th></th>\n",
       "      <th>row_id</th>\n",
       "      <th>subject_id</th>\n",
       "      <th>hadm_id</th>\n",
       "      <th>icustay_id</th>\n",
       "      <th>itemid</th>\n",
       "      <th>charttime</th>\n",
       "      <th>storetime</th>\n",
       "      <th>cgid</th>\n",
       "      <th>value</th>\n",
       "      <th>valuenum</th>\n",
       "      <th>valueuom</th>\n",
       "      <th>warning</th>\n",
       "      <th>error</th>\n",
       "      <th>resultstatus</th>\n",
       "      <th>stopped</th>\n",
       "    </tr>\n",
       "  </thead>\n",
       "  <tbody>\n",
       "    <tr>\n",
       "      <th>0</th>\n",
       "      <td>272587133</td>\n",
       "      <td>41976</td>\n",
       "      <td>130681</td>\n",
       "      <td>265505.0</td>\n",
       "      <td>227375</td>\n",
       "      <td>30/10/2200 08:11</td>\n",
       "      <td>30/10/2200 08:11</td>\n",
       "      <td>17574</td>\n",
       "      <td>No</td>\n",
       "      <td>NaN</td>\n",
       "      <td>NaN</td>\n",
       "      <td>0</td>\n",
       "      <td>0</td>\n",
       "      <td>NaN</td>\n",
       "      <td>NaN</td>\n",
       "    </tr>\n",
       "    <tr>\n",
       "      <th>1</th>\n",
       "      <td>272587134</td>\n",
       "      <td>41976</td>\n",
       "      <td>130681</td>\n",
       "      <td>265505.0</td>\n",
       "      <td>228096</td>\n",
       "      <td>30/10/2200 08:11</td>\n",
       "      <td>30/10/2200 08:11</td>\n",
       "      <td>17574</td>\n",
       "      <td>-1 Awakens to voice (eye opening/contact) &gt; 10...</td>\n",
       "      <td>-1.0</td>\n",
       "      <td>NaN</td>\n",
       "      <td>0</td>\n",
       "      <td>0</td>\n",
       "      <td>NaN</td>\n",
       "      <td>NaN</td>\n",
       "    </tr>\n",
       "    <tr>\n",
       "      <th>2</th>\n",
       "      <td>272587135</td>\n",
       "      <td>41976</td>\n",
       "      <td>130681</td>\n",
       "      <td>265505.0</td>\n",
       "      <td>226381</td>\n",
       "      <td>30/10/2200 08:27</td>\n",
       "      <td>30/10/2200 08:27</td>\n",
       "      <td>20889</td>\n",
       "      <td>Married</td>\n",
       "      <td>2.0</td>\n",
       "      <td>NaN</td>\n",
       "      <td>0</td>\n",
       "      <td>0</td>\n",
       "      <td>NaN</td>\n",
       "      <td>NaN</td>\n",
       "    </tr>\n",
       "  </tbody>\n",
       "</table>\n",
       "</div>"
      ],
      "text/plain": [
       "      row_id  subject_id  hadm_id  icustay_id  itemid         charttime  \\\n",
       "0  272587133       41976   130681    265505.0  227375  30/10/2200 08:11   \n",
       "1  272587134       41976   130681    265505.0  228096  30/10/2200 08:11   \n",
       "2  272587135       41976   130681    265505.0  226381  30/10/2200 08:27   \n",
       "\n",
       "          storetime   cgid                                              value  \\\n",
       "0  30/10/2200 08:11  17574                                                 No   \n",
       "1  30/10/2200 08:11  17574  -1 Awakens to voice (eye opening/contact) > 10...   \n",
       "2  30/10/2200 08:27  20889                                            Married   \n",
       "\n",
       "   valuenum  valueuom  warning  error  resultstatus  stopped  \n",
       "0       NaN       NaN        0      0           NaN      NaN  \n",
       "1      -1.0       NaN        0      0           NaN      NaN  \n",
       "2       2.0       NaN        0      0           NaN      NaN  "
      ]
     },
     "execution_count": 17,
     "metadata": {},
     "output_type": "execute_result"
    }
   ],
   "source": [
    "df = pd.read_csv('C:\\\\ProgramData\\\\MySQL\\\\MySQL Server 8.0\\\\Uploads\\\\CHARTEVENTS-7.csv', encoding='UTF-8', delimiter=',', decimal='.')\n",
    "df.head(3)"
   ]
  },
  {
   "cell_type": "code",
   "execution_count": 18,
   "metadata": {},
   "outputs": [],
   "source": [
    "df = df.replace(np.nan, 0)"
   ]
  },
  {
   "cell_type": "markdown",
   "metadata": {},
   "source": [
    "### Se conecta con la BD MySQL AWS"
   ]
  },
  {
   "cell_type": "code",
   "execution_count": null,
   "metadata": {},
   "outputs": [],
   "source": [
    "con = pymysql.connect(\n",
    "      host='database-proyecto-final.cpjrl88bhdul.us-east-1.rds.amazonaws.com',\n",
    "      database='databaseuci',\n",
    "      user='admin',\n",
    "      password='datascience'\n",
    ")"
   ]
  },
  {
   "attachments": {},
   "cell_type": "markdown",
   "metadata": {},
   "source": [
    "### Inserta los registros del df \"CHARTEVENTS\" en la BD"
   ]
  },
  {
   "cell_type": "code",
   "execution_count": 19,
   "metadata": {},
   "outputs": [
    {
     "ename": "KeyboardInterrupt",
     "evalue": "",
     "output_type": "error",
     "traceback": [
      "\u001b[1;31m---------------------------------------------------------------------------\u001b[0m",
      "\u001b[1;31mKeyboardInterrupt\u001b[0m                         Traceback (most recent call last)",
      "\u001b[1;32md:\\Henry\\Repo\\PF\\Scripts\\UCI INSERT CHARTEVENTS.ipynb Cell 8\u001b[0m in \u001b[0;36m2\n\u001b[0;32m     <a href='vscode-notebook-cell:/d%3A/Henry/Repo/PF/Scripts/UCI%20INSERT%20CHARTEVENTS.ipynb#X10sZmlsZQ%3D%3D?line=22'>23</a>\u001b[0m stop \u001b[39m=\u001b[39m df\u001b[39m.\u001b[39mloc[i, \u001b[39m'\u001b[39m\u001b[39mstopped\u001b[39m\u001b[39m'\u001b[39m]\n\u001b[0;32m     <a href='vscode-notebook-cell:/d%3A/Henry/Repo/PF/Scripts/UCI%20INSERT%20CHARTEVENTS.ipynb#X10sZmlsZQ%3D%3D?line=23'>24</a>\u001b[0m reg_s \u001b[39m=\u001b[39m (row, subj, hadm, icus, itid, chtm, sttm, cgid, valu, valn, valm, warn, erro, rest, stop)\n\u001b[1;32m---> <a href='vscode-notebook-cell:/d%3A/Henry/Repo/PF/Scripts/UCI%20INSERT%20CHARTEVENTS.ipynb#X10sZmlsZQ%3D%3D?line=24'>25</a>\u001b[0m cursor\u001b[39m.\u001b[39;49mexecute(sql_insert, reg_s)\n\u001b[0;32m     <a href='vscode-notebook-cell:/d%3A/Henry/Repo/PF/Scripts/UCI%20INSERT%20CHARTEVENTS.ipynb#X10sZmlsZQ%3D%3D?line=25'>26</a>\u001b[0m num_reng \u001b[39m+\u001b[39m\u001b[39m=\u001b[39m \u001b[39m1\u001b[39m\n\u001b[0;32m     <a href='vscode-notebook-cell:/d%3A/Henry/Repo/PF/Scripts/UCI%20INSERT%20CHARTEVENTS.ipynb#X10sZmlsZQ%3D%3D?line=26'>27</a>\u001b[0m \u001b[39mif\u001b[39;00m num_reng \u001b[39m==\u001b[39m \u001b[39m100\u001b[39m:\n",
      "File \u001b[1;32mc:\\ProgramData\\Anaconda3\\envs\\henry\\lib\\site-packages\\pymysql\\cursors.py:148\u001b[0m, in \u001b[0;36mCursor.execute\u001b[1;34m(self, query, args)\u001b[0m\n\u001b[0;32m    144\u001b[0m     \u001b[39mpass\u001b[39;00m\n\u001b[0;32m    146\u001b[0m query \u001b[39m=\u001b[39m \u001b[39mself\u001b[39m\u001b[39m.\u001b[39mmogrify(query, args)\n\u001b[1;32m--> 148\u001b[0m result \u001b[39m=\u001b[39m \u001b[39mself\u001b[39;49m\u001b[39m.\u001b[39;49m_query(query)\n\u001b[0;32m    149\u001b[0m \u001b[39mself\u001b[39m\u001b[39m.\u001b[39m_executed \u001b[39m=\u001b[39m query\n\u001b[0;32m    150\u001b[0m \u001b[39mreturn\u001b[39;00m result\n",
      "File \u001b[1;32mc:\\ProgramData\\Anaconda3\\envs\\henry\\lib\\site-packages\\pymysql\\cursors.py:310\u001b[0m, in \u001b[0;36mCursor._query\u001b[1;34m(self, q)\u001b[0m\n\u001b[0;32m    308\u001b[0m \u001b[39mself\u001b[39m\u001b[39m.\u001b[39m_last_executed \u001b[39m=\u001b[39m q\n\u001b[0;32m    309\u001b[0m \u001b[39mself\u001b[39m\u001b[39m.\u001b[39m_clear_result()\n\u001b[1;32m--> 310\u001b[0m conn\u001b[39m.\u001b[39;49mquery(q)\n\u001b[0;32m    311\u001b[0m \u001b[39mself\u001b[39m\u001b[39m.\u001b[39m_do_get_result()\n\u001b[0;32m    312\u001b[0m \u001b[39mreturn\u001b[39;00m \u001b[39mself\u001b[39m\u001b[39m.\u001b[39mrowcount\n",
      "File \u001b[1;32mc:\\ProgramData\\Anaconda3\\envs\\henry\\lib\\site-packages\\pymysql\\connections.py:548\u001b[0m, in \u001b[0;36mConnection.query\u001b[1;34m(self, sql, unbuffered)\u001b[0m\n\u001b[0;32m    546\u001b[0m     sql \u001b[39m=\u001b[39m sql\u001b[39m.\u001b[39mencode(\u001b[39mself\u001b[39m\u001b[39m.\u001b[39mencoding, \u001b[39m\"\u001b[39m\u001b[39msurrogateescape\u001b[39m\u001b[39m\"\u001b[39m)\n\u001b[0;32m    547\u001b[0m \u001b[39mself\u001b[39m\u001b[39m.\u001b[39m_execute_command(COMMAND\u001b[39m.\u001b[39mCOM_QUERY, sql)\n\u001b[1;32m--> 548\u001b[0m \u001b[39mself\u001b[39m\u001b[39m.\u001b[39m_affected_rows \u001b[39m=\u001b[39m \u001b[39mself\u001b[39;49m\u001b[39m.\u001b[39;49m_read_query_result(unbuffered\u001b[39m=\u001b[39;49munbuffered)\n\u001b[0;32m    549\u001b[0m \u001b[39mreturn\u001b[39;00m \u001b[39mself\u001b[39m\u001b[39m.\u001b[39m_affected_rows\n",
      "File \u001b[1;32mc:\\ProgramData\\Anaconda3\\envs\\henry\\lib\\site-packages\\pymysql\\connections.py:775\u001b[0m, in \u001b[0;36mConnection._read_query_result\u001b[1;34m(self, unbuffered)\u001b[0m\n\u001b[0;32m    773\u001b[0m \u001b[39melse\u001b[39;00m:\n\u001b[0;32m    774\u001b[0m     result \u001b[39m=\u001b[39m MySQLResult(\u001b[39mself\u001b[39m)\n\u001b[1;32m--> 775\u001b[0m     result\u001b[39m.\u001b[39;49mread()\n\u001b[0;32m    776\u001b[0m \u001b[39mself\u001b[39m\u001b[39m.\u001b[39m_result \u001b[39m=\u001b[39m result\n\u001b[0;32m    777\u001b[0m \u001b[39mif\u001b[39;00m result\u001b[39m.\u001b[39mserver_status \u001b[39mis\u001b[39;00m \u001b[39mnot\u001b[39;00m \u001b[39mNone\u001b[39;00m:\n",
      "File \u001b[1;32mc:\\ProgramData\\Anaconda3\\envs\\henry\\lib\\site-packages\\pymysql\\connections.py:1156\u001b[0m, in \u001b[0;36mMySQLResult.read\u001b[1;34m(self)\u001b[0m\n\u001b[0;32m   1154\u001b[0m \u001b[39mdef\u001b[39;00m \u001b[39mread\u001b[39m(\u001b[39mself\u001b[39m):\n\u001b[0;32m   1155\u001b[0m     \u001b[39mtry\u001b[39;00m:\n\u001b[1;32m-> 1156\u001b[0m         first_packet \u001b[39m=\u001b[39m \u001b[39mself\u001b[39;49m\u001b[39m.\u001b[39;49mconnection\u001b[39m.\u001b[39;49m_read_packet()\n\u001b[0;32m   1158\u001b[0m         \u001b[39mif\u001b[39;00m first_packet\u001b[39m.\u001b[39mis_ok_packet():\n\u001b[0;32m   1159\u001b[0m             \u001b[39mself\u001b[39m\u001b[39m.\u001b[39m_read_ok_packet(first_packet)\n",
      "File \u001b[1;32mc:\\ProgramData\\Anaconda3\\envs\\henry\\lib\\site-packages\\pymysql\\connections.py:692\u001b[0m, in \u001b[0;36mConnection._read_packet\u001b[1;34m(self, packet_type)\u001b[0m\n\u001b[0;32m    690\u001b[0m buff \u001b[39m=\u001b[39m \u001b[39mbytearray\u001b[39m()\n\u001b[0;32m    691\u001b[0m \u001b[39mwhile\u001b[39;00m \u001b[39mTrue\u001b[39;00m:\n\u001b[1;32m--> 692\u001b[0m     packet_header \u001b[39m=\u001b[39m \u001b[39mself\u001b[39;49m\u001b[39m.\u001b[39;49m_read_bytes(\u001b[39m4\u001b[39;49m)\n\u001b[0;32m    693\u001b[0m     \u001b[39m# if DEBUG: dump_packet(packet_header)\u001b[39;00m\n\u001b[0;32m    695\u001b[0m     btrl, btrh, packet_number \u001b[39m=\u001b[39m struct\u001b[39m.\u001b[39munpack(\u001b[39m\"\u001b[39m\u001b[39m<HBB\u001b[39m\u001b[39m\"\u001b[39m, packet_header)\n",
      "File \u001b[1;32mc:\\ProgramData\\Anaconda3\\envs\\henry\\lib\\site-packages\\pymysql\\connections.py:732\u001b[0m, in \u001b[0;36mConnection._read_bytes\u001b[1;34m(self, num_bytes)\u001b[0m\n\u001b[0;32m    730\u001b[0m \u001b[39mwhile\u001b[39;00m \u001b[39mTrue\u001b[39;00m:\n\u001b[0;32m    731\u001b[0m     \u001b[39mtry\u001b[39;00m:\n\u001b[1;32m--> 732\u001b[0m         data \u001b[39m=\u001b[39m \u001b[39mself\u001b[39;49m\u001b[39m.\u001b[39;49m_rfile\u001b[39m.\u001b[39;49mread(num_bytes)\n\u001b[0;32m    733\u001b[0m         \u001b[39mbreak\u001b[39;00m\n\u001b[0;32m    734\u001b[0m     \u001b[39mexcept\u001b[39;00m (\u001b[39mIOError\u001b[39;00m, \u001b[39mOSError\u001b[39;00m) \u001b[39mas\u001b[39;00m e:\n",
      "File \u001b[1;32mc:\\ProgramData\\Anaconda3\\envs\\henry\\lib\\socket.py:705\u001b[0m, in \u001b[0;36mSocketIO.readinto\u001b[1;34m(self, b)\u001b[0m\n\u001b[0;32m    703\u001b[0m \u001b[39mwhile\u001b[39;00m \u001b[39mTrue\u001b[39;00m:\n\u001b[0;32m    704\u001b[0m     \u001b[39mtry\u001b[39;00m:\n\u001b[1;32m--> 705\u001b[0m         \u001b[39mreturn\u001b[39;00m \u001b[39mself\u001b[39;49m\u001b[39m.\u001b[39;49m_sock\u001b[39m.\u001b[39;49mrecv_into(b)\n\u001b[0;32m    706\u001b[0m     \u001b[39mexcept\u001b[39;00m timeout:\n\u001b[0;32m    707\u001b[0m         \u001b[39mself\u001b[39m\u001b[39m.\u001b[39m_timeout_occurred \u001b[39m=\u001b[39m \u001b[39mTrue\u001b[39;00m\n",
      "\u001b[1;31mKeyboardInterrupt\u001b[0m: "
     ]
    }
   ],
   "source": [
    "sql_insert = ''' INSERT \n",
    "                   INTO  CHARTEVENTS\n",
    "                         (row_id, subject_id, hadm_id, icustay_id, itemid, charttime, storetime, cgid, value, valuenum,\n",
    "                          valueuom, warning, error, resultstatus, stopped)  \n",
    "                 VALUES  (%s, %s, %s, %s, %s, %s, %s, %s, %s, %s, %s, %s, %s, %s, %s) '''\n",
    "num_reng = 0\n",
    "cursor = con.cursor()\n",
    "for i in range(0, len(df)):\n",
    "    row = int(df.loc[i, 'row_id'])\n",
    "    subj = int(df.loc[i, 'subject_id'])\n",
    "    hadm = int(df.loc[i, 'hadm_id'])\n",
    "    icus = int(df.loc[i, 'icustay_id'])\n",
    "    itid = int(df.loc[i, 'itemid'])\n",
    "    chtm = df.loc[i, 'charttime']\n",
    "    sttm = df.loc[i, 'storetime']\n",
    "    cgid = int(df.loc[i, 'cgid'])\n",
    "    valu = df.loc[i, 'value']\n",
    "    valn = int(df.loc[i, 'valuenum'])\n",
    "    valm = df.loc[i, 'valueuom']\n",
    "    warn = int(df.loc[i, 'warning'])\n",
    "    erro = int(df.loc[i, 'error'])\n",
    "    rest = df.loc[i, 'resultstatus']\n",
    "    stop = df.loc[i, 'stopped']\n",
    "    reg_s = (row, subj, hadm, icus, itid, chtm, sttm, cgid, valu, valn, valm, warn, erro, rest, stop)\n",
    "    cursor.execute(sql_insert, reg_s)\n",
    "    num_reng += 1\n",
    "    if num_reng == 100:\n",
    "        con.commit()\n",
    "        num_reng = 0"
   ]
  },
  {
   "attachments": {},
   "cell_type": "markdown",
   "metadata": {},
   "source": [
    "### Confirma la inserción de los registros a la BD"
   ]
  },
  {
   "cell_type": "code",
   "execution_count": 20,
   "metadata": {},
   "outputs": [
    {
     "ename": "InterfaceError",
     "evalue": "(0, '')",
     "output_type": "error",
     "traceback": [
      "\u001b[1;31m---------------------------------------------------------------------------\u001b[0m",
      "\u001b[1;31mInterfaceError\u001b[0m                            Traceback (most recent call last)",
      "\u001b[1;32md:\\Henry\\Repo\\PF\\Scripts\\UCI INSERT CHARTEVENTS.ipynb Cell 10\u001b[0m in \u001b[0;36m1\n\u001b[1;32m----> <a href='vscode-notebook-cell:/d%3A/Henry/Repo/PF/Scripts/UCI%20INSERT%20CHARTEVENTS.ipynb#X12sZmlsZQ%3D%3D?line=0'>1</a>\u001b[0m con\u001b[39m.\u001b[39;49mcommit()\n",
      "File \u001b[1;32mc:\\ProgramData\\Anaconda3\\envs\\henry\\lib\\site-packages\\pymysql\\connections.py:469\u001b[0m, in \u001b[0;36mConnection.commit\u001b[1;34m(self)\u001b[0m\n\u001b[0;32m    462\u001b[0m \u001b[39mdef\u001b[39;00m \u001b[39mcommit\u001b[39m(\u001b[39mself\u001b[39m):\n\u001b[0;32m    463\u001b[0m     \u001b[39m\"\"\"\u001b[39;00m\n\u001b[0;32m    464\u001b[0m \u001b[39m    Commit changes to stable storage.\u001b[39;00m\n\u001b[0;32m    465\u001b[0m \n\u001b[0;32m    466\u001b[0m \u001b[39m    See `Connection.commit() <https://www.python.org/dev/peps/pep-0249/#commit>`_\u001b[39;00m\n\u001b[0;32m    467\u001b[0m \u001b[39m    in the specification.\u001b[39;00m\n\u001b[0;32m    468\u001b[0m \u001b[39m    \"\"\"\u001b[39;00m\n\u001b[1;32m--> 469\u001b[0m     \u001b[39mself\u001b[39;49m\u001b[39m.\u001b[39;49m_execute_command(COMMAND\u001b[39m.\u001b[39;49mCOM_QUERY, \u001b[39m\"\u001b[39;49m\u001b[39mCOMMIT\u001b[39;49m\u001b[39m\"\u001b[39;49m)\n\u001b[0;32m    470\u001b[0m     \u001b[39mself\u001b[39m\u001b[39m.\u001b[39m_read_ok_packet()\n",
      "File \u001b[1;32mc:\\ProgramData\\Anaconda3\\envs\\henry\\lib\\site-packages\\pymysql\\connections.py:793\u001b[0m, in \u001b[0;36mConnection._execute_command\u001b[1;34m(self, command, sql)\u001b[0m\n\u001b[0;32m    788\u001b[0m \u001b[39m\"\"\"\u001b[39;00m\n\u001b[0;32m    789\u001b[0m \u001b[39m:raise InterfaceError: If the connection is closed.\u001b[39;00m\n\u001b[0;32m    790\u001b[0m \u001b[39m:raise ValueError: If no username was specified.\u001b[39;00m\n\u001b[0;32m    791\u001b[0m \u001b[39m\"\"\"\u001b[39;00m\n\u001b[0;32m    792\u001b[0m \u001b[39mif\u001b[39;00m \u001b[39mnot\u001b[39;00m \u001b[39mself\u001b[39m\u001b[39m.\u001b[39m_sock:\n\u001b[1;32m--> 793\u001b[0m     \u001b[39mraise\u001b[39;00m err\u001b[39m.\u001b[39mInterfaceError(\u001b[39m0\u001b[39m, \u001b[39m\"\u001b[39m\u001b[39m\"\u001b[39m)\n\u001b[0;32m    795\u001b[0m \u001b[39m# If the last query was unbuffered, make sure it finishes before\u001b[39;00m\n\u001b[0;32m    796\u001b[0m \u001b[39m# sending new commands\u001b[39;00m\n\u001b[0;32m    797\u001b[0m \u001b[39mif\u001b[39;00m \u001b[39mself\u001b[39m\u001b[39m.\u001b[39m_result \u001b[39mis\u001b[39;00m \u001b[39mnot\u001b[39;00m \u001b[39mNone\u001b[39;00m:\n",
      "\u001b[1;31mInterfaceError\u001b[0m: (0, '')"
     ]
    }
   ],
   "source": [
    "con.commit()"
   ]
  },
  {
   "cell_type": "markdown",
   "metadata": {},
   "source": [
    "### Cierra el cursor y la conexion a la BD"
   ]
  },
  {
   "cell_type": "code",
   "execution_count": 14,
   "metadata": {},
   "outputs": [],
   "source": [
    "cursor.close()\n",
    "con.close()"
   ]
  }
 ],
 "metadata": {
  "kernelspec": {
   "display_name": "Python 3.10.6 ('spyder-env')",
   "language": "python",
   "name": "python3"
  },
  "language_info": {
   "codemirror_mode": {
    "name": "ipython",
    "version": 3
   },
   "file_extension": ".py",
   "mimetype": "text/x-python",
   "name": "python",
   "nbconvert_exporter": "python",
   "pygments_lexer": "ipython3",
   "version": "3.10.9"
  },
  "orig_nbformat": 4,
  "vscode": {
   "interpreter": {
    "hash": "db9742d71afbc4cd9ba311cf401982ea65339721199a1967326796af4afacaff"
   }
  }
 },
 "nbformat": 4,
 "nbformat_minor": 2
}
