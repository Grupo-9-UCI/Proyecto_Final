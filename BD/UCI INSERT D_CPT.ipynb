{
 "cells": [
  {
   "cell_type": "code",
   "execution_count": 1,
   "metadata": {},
   "outputs": [],
   "source": [
    "import pymysql\n",
    "import requests\n",
    "import pandas as pd\n",
    "import numpy as np"
   ]
  },
  {
   "attachments": {},
   "cell_type": "markdown",
   "metadata": {},
   "source": [
    "### Se conecta con la BD MySQL AWS"
   ]
  },
  {
   "cell_type": "code",
   "execution_count": 2,
   "metadata": {},
   "outputs": [],
   "source": [
    "con = pymysql.connect(\n",
    "      host='database-proyecto-final.cpjrl88bhdul.us-east-1.rds.amazonaws.com',\n",
    "      database='databaseuci',\n",
    "      user='admin',\n",
    "      password='datascience'\n",
    ")"
   ]
  },
  {
   "attachments": {},
   "cell_type": "markdown",
   "metadata": {},
   "source": [
    "### Genera un df con el archivo `csv` \"D_CPT\""
   ]
  },
  {
   "cell_type": "code",
   "execution_count": 3,
   "metadata": {},
   "outputs": [
    {
     "data": {
      "text/html": [
       "<div>\n",
       "<style scoped>\n",
       "    .dataframe tbody tr th:only-of-type {\n",
       "        vertical-align: middle;\n",
       "    }\n",
       "\n",
       "    .dataframe tbody tr th {\n",
       "        vertical-align: top;\n",
       "    }\n",
       "\n",
       "    .dataframe thead th {\n",
       "        text-align: right;\n",
       "    }\n",
       "</style>\n",
       "<table border=\"1\" class=\"dataframe\">\n",
       "  <thead>\n",
       "    <tr style=\"text-align: right;\">\n",
       "      <th></th>\n",
       "      <th>row_id</th>\n",
       "      <th>category</th>\n",
       "      <th>sectionrange</th>\n",
       "      <th>sectionheader</th>\n",
       "      <th>subsectionrange</th>\n",
       "      <th>subsectionheader</th>\n",
       "      <th>codesuffix</th>\n",
       "      <th>mincodeinsubsection</th>\n",
       "      <th>maxcodeinsubsection</th>\n",
       "    </tr>\n",
       "  </thead>\n",
       "  <tbody>\n",
       "    <tr>\n",
       "      <th>0</th>\n",
       "      <td>1</td>\n",
       "      <td>1</td>\n",
       "      <td>99201-99499</td>\n",
       "      <td>Evaluation and management</td>\n",
       "      <td>99201-99216</td>\n",
       "      <td>Office/other outpatient services</td>\n",
       "      <td>NaN</td>\n",
       "      <td>99201</td>\n",
       "      <td>99216</td>\n",
       "    </tr>\n",
       "    <tr>\n",
       "      <th>1</th>\n",
       "      <td>2</td>\n",
       "      <td>1</td>\n",
       "      <td>99201-99499</td>\n",
       "      <td>Evaluation and management</td>\n",
       "      <td>99217-99220</td>\n",
       "      <td>Hospital observation services</td>\n",
       "      <td>NaN</td>\n",
       "      <td>99217</td>\n",
       "      <td>99220</td>\n",
       "    </tr>\n",
       "    <tr>\n",
       "      <th>2</th>\n",
       "      <td>3</td>\n",
       "      <td>1</td>\n",
       "      <td>99201-99499</td>\n",
       "      <td>Evaluation and management</td>\n",
       "      <td>99221-99239</td>\n",
       "      <td>Hospital inpatient services</td>\n",
       "      <td>NaN</td>\n",
       "      <td>99221</td>\n",
       "      <td>99239</td>\n",
       "    </tr>\n",
       "  </tbody>\n",
       "</table>\n",
       "</div>"
      ],
      "text/plain": [
       "   row_id  category sectionrange              sectionheader subsectionrange  \\\n",
       "0       1         1  99201-99499  Evaluation and management     99201-99216   \n",
       "1       2         1  99201-99499  Evaluation and management     99217-99220   \n",
       "2       3         1  99201-99499  Evaluation and management     99221-99239   \n",
       "\n",
       "                   subsectionheader codesuffix  mincodeinsubsection  \\\n",
       "0  Office/other outpatient services        NaN                99201   \n",
       "1     Hospital observation services        NaN                99217   \n",
       "2       Hospital inpatient services        NaN                99221   \n",
       "\n",
       "   maxcodeinsubsection  \n",
       "0                99216  \n",
       "1                99220  \n",
       "2                99239  "
      ]
     },
     "execution_count": 3,
     "metadata": {},
     "output_type": "execute_result"
    }
   ],
   "source": [
    "df = pd.read_csv('C:\\\\ProgramData\\\\MySQL\\\\MySQL Server 8.0\\\\Uploads\\\\D_CPT.csv', encoding='UTF-8', delimiter=',', decimal='.')\n",
    "df.head(3)"
   ]
  },
  {
   "cell_type": "code",
   "execution_count": 4,
   "metadata": {},
   "outputs": [],
   "source": [
    "df = df.replace(np.nan, 0)"
   ]
  },
  {
   "attachments": {},
   "cell_type": "markdown",
   "metadata": {},
   "source": [
    "### Inserta los registros del df \"D_CPT\" en la BD"
   ]
  },
  {
   "cell_type": "code",
   "execution_count": 5,
   "metadata": {},
   "outputs": [],
   "source": [
    "sql_insert = ''' INSERT \n",
    "                   INTO  D_CPT\n",
    "                         (row_id, category, sectionrange, sectionheader, subsectionrange, subsectionheader, codesuffix, \n",
    "                          mincodeinsubsection, maxcodeinsubsection)\n",
    "                 VALUES  (%s, %s, %s, %s, %s, %s, %s, %s, %s) '''\n",
    "num_reng = 0\n",
    "cursor = con.cursor()\n",
    "for i in range(0, len(df)):\n",
    "    row = int(df.loc[i, 'row_id'])\n",
    "    catg = int(df.loc[i, 'category'])\n",
    "    sern = df.loc[i, 'sectionrange']\n",
    "    sehd = df.loc[i, 'sectionheader']\n",
    "    subr = df.loc[i, 'subsectionrange']\n",
    "    subh = df.loc[i, 'subsectionheader']\n",
    "    cdsf = df.loc[i, 'codesuffix']\n",
    "    minc = int(df.loc[i, 'mincodeinsubsection'])\n",
    "    maxc = int(df.loc[i, 'maxcodeinsubsection'])\n",
    "    reg_s = (row, catg, sern, sehd, subr, subh, cdsf, minc, maxc)\n",
    "    cursor.execute(sql_insert, reg_s)\n",
    "    num_reng += 1\n",
    "    if num_reng == 100:\n",
    "        con.commit()\n",
    "        num_reng = 0"
   ]
  },
  {
   "attachments": {},
   "cell_type": "markdown",
   "metadata": {},
   "source": [
    "### Confirma la inserción de los registros a la BD"
   ]
  },
  {
   "cell_type": "code",
   "execution_count": 6,
   "metadata": {},
   "outputs": [],
   "source": [
    "con.commit()"
   ]
  },
  {
   "cell_type": "markdown",
   "metadata": {},
   "source": [
    "### Cierra el cursor y la conexion a la BD"
   ]
  },
  {
   "cell_type": "code",
   "execution_count": 7,
   "metadata": {},
   "outputs": [],
   "source": [
    "cursor.close()\n",
    "con.close()"
   ]
  }
 ],
 "metadata": {
  "kernelspec": {
   "display_name": "Python 3.10.6 ('spyder-env')",
   "language": "python",
   "name": "python3"
  },
  "language_info": {
   "codemirror_mode": {
    "name": "ipython",
    "version": 3
   },
   "file_extension": ".py",
   "mimetype": "text/x-python",
   "name": "python",
   "nbconvert_exporter": "python",
   "pygments_lexer": "ipython3",
   "version": "3.10.9"
  },
  "orig_nbformat": 4,
  "vscode": {
   "interpreter": {
    "hash": "db9742d71afbc4cd9ba311cf401982ea65339721199a1967326796af4afacaff"
   }
  }
 },
 "nbformat": 4,
 "nbformat_minor": 2
}
