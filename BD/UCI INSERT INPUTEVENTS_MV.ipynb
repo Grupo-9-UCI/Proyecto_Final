{
 "cells": [
  {
   "cell_type": "code",
   "execution_count": 4,
   "metadata": {},
   "outputs": [],
   "source": [
    "import pymysql\n",
    "import requests\n",
    "import pandas as pd\n",
    "import numpy as np"
   ]
  },
  {
   "attachments": {},
   "cell_type": "markdown",
   "metadata": {},
   "source": [
    "### Genera un df con el archivo csv \"INPUTEVENTS_MV\""
   ]
  },
  {
   "cell_type": "code",
   "execution_count": 6,
   "metadata": {},
   "outputs": [
    {
     "data": {
      "text/html": [
       "<div>\n",
       "<style scoped>\n",
       "    .dataframe tbody tr th:only-of-type {\n",
       "        vertical-align: middle;\n",
       "    }\n",
       "\n",
       "    .dataframe tbody tr th {\n",
       "        vertical-align: top;\n",
       "    }\n",
       "\n",
       "    .dataframe thead th {\n",
       "        text-align: right;\n",
       "    }\n",
       "</style>\n",
       "<table border=\"1\" class=\"dataframe\">\n",
       "  <thead>\n",
       "    <tr style=\"text-align: right;\">\n",
       "      <th></th>\n",
       "      <th>row_id</th>\n",
       "      <th>subject_id</th>\n",
       "      <th>hadm_id</th>\n",
       "      <th>icustay_id</th>\n",
       "      <th>starttime</th>\n",
       "      <th>endtime</th>\n",
       "      <th>itemid</th>\n",
       "      <th>amount</th>\n",
       "      <th>amountuom</th>\n",
       "      <th>rate</th>\n",
       "      <th>...</th>\n",
       "      <th>totalamountuom</th>\n",
       "      <th>isopenbag</th>\n",
       "      <th>continueinnextdept</th>\n",
       "      <th>cancelreason</th>\n",
       "      <th>statusdescription</th>\n",
       "      <th>comments_editedby</th>\n",
       "      <th>comments_canceledby</th>\n",
       "      <th>comments_date</th>\n",
       "      <th>originalamount</th>\n",
       "      <th>originalrate</th>\n",
       "    </tr>\n",
       "  </thead>\n",
       "  <tbody>\n",
       "    <tr>\n",
       "      <th>0</th>\n",
       "      <td>118897</td>\n",
       "      <td>42367</td>\n",
       "      <td>139932</td>\n",
       "      <td>250305</td>\n",
       "      <td>2147-10-29 16:45:00</td>\n",
       "      <td>2147-10-29 16:46:00</td>\n",
       "      <td>225799</td>\n",
       "      <td>60.000000</td>\n",
       "      <td>ml</td>\n",
       "      <td>NaN</td>\n",
       "      <td>...</td>\n",
       "      <td>ml</td>\n",
       "      <td>0</td>\n",
       "      <td>0</td>\n",
       "      <td>0</td>\n",
       "      <td>FinishedRunning</td>\n",
       "      <td>NaN</td>\n",
       "      <td>NaN</td>\n",
       "      <td>NaN</td>\n",
       "      <td>60.0</td>\n",
       "      <td>60.0</td>\n",
       "    </tr>\n",
       "    <tr>\n",
       "      <th>1</th>\n",
       "      <td>118898</td>\n",
       "      <td>42367</td>\n",
       "      <td>139932</td>\n",
       "      <td>250305</td>\n",
       "      <td>2147-10-20 13:17:00</td>\n",
       "      <td>2147-10-20 13:18:00</td>\n",
       "      <td>223258</td>\n",
       "      <td>10.000000</td>\n",
       "      <td>units</td>\n",
       "      <td>NaN</td>\n",
       "      <td>...</td>\n",
       "      <td>NaN</td>\n",
       "      <td>0</td>\n",
       "      <td>0</td>\n",
       "      <td>1</td>\n",
       "      <td>Rewritten</td>\n",
       "      <td>NaN</td>\n",
       "      <td>RN</td>\n",
       "      <td>2147-10-20 13:18:00</td>\n",
       "      <td>10.0</td>\n",
       "      <td>10.0</td>\n",
       "    </tr>\n",
       "    <tr>\n",
       "      <th>2</th>\n",
       "      <td>118899</td>\n",
       "      <td>42367</td>\n",
       "      <td>139932</td>\n",
       "      <td>250305</td>\n",
       "      <td>2147-10-29 03:23:00</td>\n",
       "      <td>2147-10-29 03:53:00</td>\n",
       "      <td>226089</td>\n",
       "      <td>99.999999</td>\n",
       "      <td>ml</td>\n",
       "      <td>199.999998</td>\n",
       "      <td>...</td>\n",
       "      <td>ml</td>\n",
       "      <td>0</td>\n",
       "      <td>0</td>\n",
       "      <td>0</td>\n",
       "      <td>FinishedRunning</td>\n",
       "      <td>NaN</td>\n",
       "      <td>NaN</td>\n",
       "      <td>NaN</td>\n",
       "      <td>100.0</td>\n",
       "      <td>200.0</td>\n",
       "    </tr>\n",
       "  </tbody>\n",
       "</table>\n",
       "<p>3 rows × 31 columns</p>\n",
       "</div>"
      ],
      "text/plain": [
       "   row_id  subject_id  hadm_id  icustay_id            starttime  \\\n",
       "0  118897       42367   139932      250305  2147-10-29 16:45:00   \n",
       "1  118898       42367   139932      250305  2147-10-20 13:17:00   \n",
       "2  118899       42367   139932      250305  2147-10-29 03:23:00   \n",
       "\n",
       "               endtime  itemid     amount amountuom        rate  ...  \\\n",
       "0  2147-10-29 16:46:00  225799  60.000000        ml         NaN  ...   \n",
       "1  2147-10-20 13:18:00  223258  10.000000     units         NaN  ...   \n",
       "2  2147-10-29 03:53:00  226089  99.999999        ml  199.999998  ...   \n",
       "\n",
       "  totalamountuom isopenbag  continueinnextdept  cancelreason  \\\n",
       "0             ml         0                   0             0   \n",
       "1            NaN         0                   0             1   \n",
       "2             ml         0                   0             0   \n",
       "\n",
       "   statusdescription comments_editedby comments_canceledby  \\\n",
       "0    FinishedRunning               NaN                 NaN   \n",
       "1          Rewritten               NaN                  RN   \n",
       "2    FinishedRunning               NaN                 NaN   \n",
       "\n",
       "         comments_date originalamount  originalrate  \n",
       "0                  NaN           60.0          60.0  \n",
       "1  2147-10-20 13:18:00           10.0          10.0  \n",
       "2                  NaN          100.0         200.0  \n",
       "\n",
       "[3 rows x 31 columns]"
      ]
     },
     "execution_count": 6,
     "metadata": {},
     "output_type": "execute_result"
    }
   ],
   "source": [
    "df = pd.read_csv('C:\\\\Users\\\\cfari\\OneDrive\\\\Escritorio\\\\PF_GRUPAL\\\\DATASET\\\\INPUTEVENTS_MV.csv', encoding='UTF-8', delimiter=',', decimal='.')\n",
    "df.head(3)"
   ]
  },
  {
   "cell_type": "code",
   "execution_count": 7,
   "metadata": {},
   "outputs": [],
   "source": [
    "df = df.replace(np.nan, 0)"
   ]
  },
  {
   "attachments": {},
   "cell_type": "markdown",
   "metadata": {},
   "source": [
    "### Se conecta con la BD MySQL "
   ]
  },
  {
   "cell_type": "code",
   "execution_count": null,
   "metadata": {},
   "outputs": [],
   "source": [
    "con = pymysql.connect(\n",
    "      host='database-proyecto-final.cpjrl88bhdul.us-east-1.rds.amazonaws.com',\n",
    "      database='databaseuci',\n",
    "      user='admin',\n",
    "      password='datascience'\n",
    ")"
   ]
  },
  {
   "attachments": {},
   "cell_type": "markdown",
   "metadata": {},
   "source": [
    "### Inserta los registros del df \"INPUTEVENTS_MV\" en la BD"
   ]
  },
  {
   "cell_type": "code",
   "execution_count": 8,
   "metadata": {},
   "outputs": [],
   "source": [
    "sql_insert = ''' INSERT \n",
    "                   INTO  INPUTEVENTS_MV\n",
    "                         (row_id,subject_id,hadm_id,icustay_id,starttime,endtime,itemid,amount,amountuom,rate,rateuom,storetime,cgid,orderid,linkorderid,\n",
    "                         ordercategoryname,secondaryordercategoryname,ordercomponenttypedescription,ordercategorydescription,patientweight,totalamount,\n",
    "                         totalamountuom,isopenbag,continueinnextdept,cancelreason,statusdescription,comments_editedby,comments_canceledby,\n",
    "                         comments_date,originalamount,originalrate)\n",
    "                 VALUES  (%s, %s, %s, %s, %s, %s, %s, %s, %s, %s, %s, %s, %s, %s, %s, %s, %s, %s, %s, %s, %s, %s, %s, %s, %s, %s, %s, %s, %s, %s, %s) '''\n",
    "cursor = con.cursor()\n",
    "for i in range(0, len(df)):\n",
    "    row = int(df.loc[i, 'row_id'])\n",
    "    subj = int(df.loc[i, 'subject_id'])\n",
    "    hadm = int(df.loc[i, 'hadm_id'])\n",
    "    icus = int(df.loc[i, 'icustay_id'])\n",
    "    stt = df.loc[i, 'starttime']\n",
    "    end = df.loc[i, 'endtime']\n",
    "    itd = int(df.loc[i, 'itemid'])\n",
    "    amt = float(df.loc[i, 'amount'])\n",
    "    amm = df.loc[i, 'amountuom']\n",
    "    rat = float(df.loc[i, 'rate'])\n",
    "    rtm = df.loc[i, 'rateuom']\n",
    "    stm = df.loc[i, 'storetime']\n",
    "    cgi = int(df.loc[i, 'cgid'])\n",
    "    oid = int(df.loc[i, 'orderid'])\n",
    "    lkd = int(df.loc[i, 'linkorderid'])\n",
    "    ocn = df.loc[i, 'ordercategoryname']\n",
    "    scn = df.loc[i, 'secondaryordercategoryname']\n",
    "    ocd = df.loc[i, 'ordercomponenttypedescription']\n",
    "    otd = df.loc[i, 'ordercategorydescription']\n",
    "    ptt = float(df.loc[i, 'patientweight'])\n",
    "    tta = float(df.loc[i, 'totalamount'])\n",
    "    tat = df.loc[i, 'totalamountuom']\n",
    "    ipg = int(df.loc[i, 'isopenbag'])\n",
    "    cnd = int(df.loc[i, 'continueinnextdept'])\n",
    "    crn = int(df.loc[i, 'cancelreason'])\n",
    "    std = df.loc[i, 'statusdescription']\n",
    "    cme = df.loc[i, 'comments_editedby']\n",
    "    cmc = df.loc[i, 'comments_canceledby']\n",
    "    cmd = df.loc[i, 'comments_date']\n",
    "    ogm = float(df.loc[i, 'originalamount'])\n",
    "    oge = float(df.loc[i, 'originalrate'])\n",
    "    reg_s = (row, subj, hadm, icus, stt, end, itd, amt, amm, rat, rtm, stm, cgi, oid, lkd, ocn, scn, ocd, otd, ptt, tta, tat, ipg, cnd, crn, std, cme, cmc, cmd, ogm, oge)\n",
    "    cursor.execute(sql_insert, reg_s)\n",
    "#cursor.fetchone()"
   ]
  },
  {
   "attachments": {},
   "cell_type": "markdown",
   "metadata": {},
   "source": [
    "### Confirma la inserción de los registros a la BD"
   ]
  },
  {
   "cell_type": "code",
   "execution_count": 9,
   "metadata": {},
   "outputs": [],
   "source": [
    "con.commit()"
   ]
  },
  {
   "attachments": {},
   "cell_type": "markdown",
   "metadata": {},
   "source": [
    "### Cierra el cursor y la conexion a la BD"
   ]
  },
  {
   "cell_type": "code",
   "execution_count": 10,
   "metadata": {},
   "outputs": [],
   "source": [
    "cursor.close()\n",
    "con.close()"
   ]
  }
 ],
 "metadata": {
  "kernelspec": {
   "display_name": "Python 3",
   "language": "python",
   "name": "python3"
  },
  "language_info": {
   "codemirror_mode": {
    "name": "ipython",
    "version": 3
   },
   "file_extension": ".py",
   "mimetype": "text/x-python",
   "name": "python",
   "nbconvert_exporter": "python",
   "pygments_lexer": "ipython3",
   "version": "3.10.6"
  },
  "orig_nbformat": 4
 },
 "nbformat": 4,
 "nbformat_minor": 2
}
