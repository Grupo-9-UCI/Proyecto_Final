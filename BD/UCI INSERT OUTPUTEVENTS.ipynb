{
 "cells": [
  {
   "cell_type": "code",
   "execution_count": 17,
   "metadata": {},
   "outputs": [],
   "source": [
    "import pymysql\n",
    "import requests\n",
    "import pandas as pd\n",
    "import numpy as np"
   ]
  },
  {
   "attachments": {},
   "cell_type": "markdown",
   "metadata": {},
   "source": [
    "### Genera un df con el archivo csv \"OUTPUTEVENTS\""
   ]
  },
  {
   "cell_type": "code",
   "execution_count": 19,
   "metadata": {},
   "outputs": [
    {
     "data": {
      "text/html": [
       "<div>\n",
       "<style scoped>\n",
       "    .dataframe tbody tr th:only-of-type {\n",
       "        vertical-align: middle;\n",
       "    }\n",
       "\n",
       "    .dataframe tbody tr th {\n",
       "        vertical-align: top;\n",
       "    }\n",
       "\n",
       "    .dataframe thead th {\n",
       "        text-align: right;\n",
       "    }\n",
       "</style>\n",
       "<table border=\"1\" class=\"dataframe\">\n",
       "  <thead>\n",
       "    <tr style=\"text-align: right;\">\n",
       "      <th></th>\n",
       "      <th>row_id</th>\n",
       "      <th>subject_id</th>\n",
       "      <th>hadm_id</th>\n",
       "      <th>icustay_id</th>\n",
       "      <th>charttime</th>\n",
       "      <th>itemid</th>\n",
       "      <th>value</th>\n",
       "      <th>valueuom</th>\n",
       "      <th>storetime</th>\n",
       "      <th>cgid</th>\n",
       "      <th>stopped</th>\n",
       "      <th>newbottle</th>\n",
       "      <th>iserror</th>\n",
       "    </tr>\n",
       "  </thead>\n",
       "  <tbody>\n",
       "    <tr>\n",
       "      <th>0</th>\n",
       "      <td>6540</td>\n",
       "      <td>10114</td>\n",
       "      <td>167957</td>\n",
       "      <td>234989.0</td>\n",
       "      <td>2171-10-30 20:00:00</td>\n",
       "      <td>40055</td>\n",
       "      <td>39.0</td>\n",
       "      <td>ml</td>\n",
       "      <td>2171-10-30 20:38:00</td>\n",
       "      <td>15029</td>\n",
       "      <td>NaN</td>\n",
       "      <td>NaN</td>\n",
       "      <td>NaN</td>\n",
       "    </tr>\n",
       "    <tr>\n",
       "      <th>1</th>\n",
       "      <td>6541</td>\n",
       "      <td>10114</td>\n",
       "      <td>167957</td>\n",
       "      <td>234989.0</td>\n",
       "      <td>2171-10-30 21:00:00</td>\n",
       "      <td>40055</td>\n",
       "      <td>35.0</td>\n",
       "      <td>ml</td>\n",
       "      <td>2171-10-30 21:18:00</td>\n",
       "      <td>15029</td>\n",
       "      <td>NaN</td>\n",
       "      <td>NaN</td>\n",
       "      <td>NaN</td>\n",
       "    </tr>\n",
       "    <tr>\n",
       "      <th>2</th>\n",
       "      <td>6542</td>\n",
       "      <td>10114</td>\n",
       "      <td>167957</td>\n",
       "      <td>234989.0</td>\n",
       "      <td>2171-10-30 23:00:00</td>\n",
       "      <td>40055</td>\n",
       "      <td>100.0</td>\n",
       "      <td>ml</td>\n",
       "      <td>2171-10-30 23:31:00</td>\n",
       "      <td>15029</td>\n",
       "      <td>NaN</td>\n",
       "      <td>NaN</td>\n",
       "      <td>NaN</td>\n",
       "    </tr>\n",
       "  </tbody>\n",
       "</table>\n",
       "</div>"
      ],
      "text/plain": [
       "   row_id  subject_id  hadm_id  icustay_id            charttime  itemid  \\\n",
       "0    6540       10114   167957    234989.0  2171-10-30 20:00:00   40055   \n",
       "1    6541       10114   167957    234989.0  2171-10-30 21:00:00   40055   \n",
       "2    6542       10114   167957    234989.0  2171-10-30 23:00:00   40055   \n",
       "\n",
       "   value valueuom            storetime   cgid  stopped  newbottle  iserror  \n",
       "0   39.0       ml  2171-10-30 20:38:00  15029      NaN        NaN      NaN  \n",
       "1   35.0       ml  2171-10-30 21:18:00  15029      NaN        NaN      NaN  \n",
       "2  100.0       ml  2171-10-30 23:31:00  15029      NaN        NaN      NaN  "
      ]
     },
     "execution_count": 19,
     "metadata": {},
     "output_type": "execute_result"
    }
   ],
   "source": [
    "df = pd.read_csv('C:\\\\Users\\\\cfari\\OneDrive\\\\Escritorio\\\\PF_GRUPAL\\\\DATASET\\\\OUTPUTEVENTS.csv', encoding='UTF-8', delimiter=',', decimal='.')\n",
    "df.head(3)"
   ]
  },
  {
   "cell_type": "code",
   "execution_count": 20,
   "metadata": {},
   "outputs": [],
   "source": [
    "df = df.replace(np.nan, 0)"
   ]
  },
  {
   "attachments": {},
   "cell_type": "markdown",
   "metadata": {},
   "source": [
    "### Se conecta con la BD MySQL"
   ]
  },
  {
   "cell_type": "code",
   "execution_count": null,
   "metadata": {},
   "outputs": [],
   "source": [
    "con = pymysql.connect(\n",
    "      host='database-proyecto-final.cpjrl88bhdul.us-east-1.rds.amazonaws.com',\n",
    "      database='databaseuci',\n",
    "      user='admin',\n",
    "      password='datascience'\n",
    ")"
   ]
  },
  {
   "attachments": {},
   "cell_type": "markdown",
   "metadata": {},
   "source": [
    "### Inserta los registros del df \"OUTPUTEVENTS\" en la BD"
   ]
  },
  {
   "cell_type": "code",
   "execution_count": 21,
   "metadata": {},
   "outputs": [],
   "source": [
    "sql_insert = ''' INSERT \n",
    "                   INTO  OUTPUTEVENTS\n",
    "                         (row_id,subject_id,hadm_id,icustay_id,charttime,itemid,value,valueuom,storetime,cgid,stopped,newbottle,iserror)\n",
    "                 VALUES  (%s, %s, %s, %s, %s, %s, %s, %s, %s, %s, %s, %s, %s) '''\n",
    "cursor = con.cursor()\n",
    "for i in range(0, len(df)):\n",
    "    row = int(df.loc[i, 'row_id'])\n",
    "    subj = int(df.loc[i, 'subject_id'])\n",
    "    hadm = int(df.loc[i, 'hadm_id'])\n",
    "    icus = int(df.loc[i, 'icustay_id'])\n",
    "    cht = df.loc[i, 'charttime']\n",
    "    itd  = int(df.loc[i, 'itemid'])\n",
    "    val = float(df.loc[i, 'value'])\n",
    "    vlm = df.loc[i, 'valueuom']\n",
    "    stm = df.loc[i, 'storetime']\n",
    "    cgi = int(df.loc[i, 'cgid'])\n",
    "    stp = df.loc[i, 'stopped']\n",
    "    nbt = int(df.loc[i, 'newbottle'])\n",
    "    isr = int(df.loc[i, 'iserror'])\n",
    "    reg_s = (row, subj, hadm, icus, cht, itd, val, vlm, stm, cgi, stp, nbt, isr)\n",
    "    cursor.execute(sql_insert, reg_s)\n",
    "#cursor.fetchone()"
   ]
  },
  {
   "attachments": {},
   "cell_type": "markdown",
   "metadata": {},
   "source": [
    "### Confirma la inserción de los registros a la BD"
   ]
  },
  {
   "cell_type": "code",
   "execution_count": 22,
   "metadata": {},
   "outputs": [],
   "source": [
    "con.commit()"
   ]
  },
  {
   "attachments": {},
   "cell_type": "markdown",
   "metadata": {},
   "source": [
    "### Cierra el cursor y la conexión a la BD"
   ]
  },
  {
   "cell_type": "code",
   "execution_count": 23,
   "metadata": {},
   "outputs": [],
   "source": [
    "cursor.close()\n",
    "con.close()"
   ]
  }
 ],
 "metadata": {
  "kernelspec": {
   "display_name": "Python 3",
   "language": "python",
   "name": "python3"
  },
  "language_info": {
   "codemirror_mode": {
    "name": "ipython",
    "version": 3
   },
   "file_extension": ".py",
   "mimetype": "text/x-python",
   "name": "python",
   "nbconvert_exporter": "python",
   "pygments_lexer": "ipython3",
   "version": "3.10.6"
  },
  "orig_nbformat": 4
 },
 "nbformat": 4,
 "nbformat_minor": 2
}
