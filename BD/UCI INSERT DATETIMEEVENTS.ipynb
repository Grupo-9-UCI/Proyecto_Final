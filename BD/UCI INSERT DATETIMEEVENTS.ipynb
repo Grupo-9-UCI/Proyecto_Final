{
 "cells": [
  {
   "cell_type": "code",
   "execution_count": 1,
   "metadata": {},
   "outputs": [],
   "source": [
    "import pymysql\n",
    "import requests\n",
    "import pandas as pd\n",
    "import numpy as np"
   ]
  },
  {
   "attachments": {},
   "cell_type": "markdown",
   "metadata": {},
   "source": [
    "### Se conecta con la BD MySQL AWS"
   ]
  },
  {
   "cell_type": "code",
   "execution_count": 2,
   "metadata": {},
   "outputs": [],
   "source": [
    "con = pymysql.connect(\n",
    "      host='database-proyecto-final.cpjrl88bhdul.us-east-1.rds.amazonaws.com',\n",
    "      database='databaseuci',\n",
    "      user='admin',\n",
    "      password='datascience'\n",
    ")"
   ]
  },
  {
   "attachments": {},
   "cell_type": "markdown",
   "metadata": {},
   "source": [
    "### Genera un df con el archivo `csv` \"DATETIMEEVENTS\""
   ]
  },
  {
   "cell_type": "code",
   "execution_count": 3,
   "metadata": {},
   "outputs": [
    {
     "data": {
      "text/html": [
       "<div>\n",
       "<style scoped>\n",
       "    .dataframe tbody tr th:only-of-type {\n",
       "        vertical-align: middle;\n",
       "    }\n",
       "\n",
       "    .dataframe tbody tr th {\n",
       "        vertical-align: top;\n",
       "    }\n",
       "\n",
       "    .dataframe thead th {\n",
       "        text-align: right;\n",
       "    }\n",
       "</style>\n",
       "<table border=\"1\" class=\"dataframe\">\n",
       "  <thead>\n",
       "    <tr style=\"text-align: right;\">\n",
       "      <th></th>\n",
       "      <th>row_id</th>\n",
       "      <th>subject_id</th>\n",
       "      <th>hadm_id</th>\n",
       "      <th>icustay_id</th>\n",
       "      <th>itemid</th>\n",
       "      <th>charttime</th>\n",
       "      <th>storetime</th>\n",
       "      <th>cgid</th>\n",
       "      <th>value</th>\n",
       "      <th>valueuom</th>\n",
       "      <th>warning</th>\n",
       "      <th>error</th>\n",
       "      <th>resultstatus</th>\n",
       "      <th>stopped</th>\n",
       "    </tr>\n",
       "  </thead>\n",
       "  <tbody>\n",
       "    <tr>\n",
       "      <th>0</th>\n",
       "      <td>208474</td>\n",
       "      <td>10076</td>\n",
       "      <td>198503</td>\n",
       "      <td>201006.0</td>\n",
       "      <td>5684</td>\n",
       "      <td>2107-03-25 04:00:00</td>\n",
       "      <td>2107-03-25 04:34:00</td>\n",
       "      <td>20482</td>\n",
       "      <td>2107-03-24 00:00:00</td>\n",
       "      <td>Date</td>\n",
       "      <td>NaN</td>\n",
       "      <td>NaN</td>\n",
       "      <td>NaN</td>\n",
       "      <td>NotStopd</td>\n",
       "    </tr>\n",
       "    <tr>\n",
       "      <th>1</th>\n",
       "      <td>208475</td>\n",
       "      <td>10076</td>\n",
       "      <td>198503</td>\n",
       "      <td>201006.0</td>\n",
       "      <td>5684</td>\n",
       "      <td>2107-03-25 07:00:00</td>\n",
       "      <td>2107-03-25 07:06:00</td>\n",
       "      <td>15004</td>\n",
       "      <td>2107-03-24 00:00:00</td>\n",
       "      <td>Date</td>\n",
       "      <td>NaN</td>\n",
       "      <td>NaN</td>\n",
       "      <td>NaN</td>\n",
       "      <td>NotStopd</td>\n",
       "    </tr>\n",
       "    <tr>\n",
       "      <th>2</th>\n",
       "      <td>208836</td>\n",
       "      <td>10076</td>\n",
       "      <td>198503</td>\n",
       "      <td>201006.0</td>\n",
       "      <td>5684</td>\n",
       "      <td>2107-03-26 04:00:00</td>\n",
       "      <td>2107-03-26 05:31:00</td>\n",
       "      <td>20834</td>\n",
       "      <td>2107-03-24 00:00:00</td>\n",
       "      <td>Date</td>\n",
       "      <td>NaN</td>\n",
       "      <td>NaN</td>\n",
       "      <td>NaN</td>\n",
       "      <td>NotStopd</td>\n",
       "    </tr>\n",
       "  </tbody>\n",
       "</table>\n",
       "</div>"
      ],
      "text/plain": [
       "   row_id  subject_id  hadm_id  icustay_id  itemid            charttime  \\\n",
       "0  208474       10076   198503    201006.0    5684  2107-03-25 04:00:00   \n",
       "1  208475       10076   198503    201006.0    5684  2107-03-25 07:00:00   \n",
       "2  208836       10076   198503    201006.0    5684  2107-03-26 04:00:00   \n",
       "\n",
       "             storetime   cgid                value valueuom  warning  error  \\\n",
       "0  2107-03-25 04:34:00  20482  2107-03-24 00:00:00     Date      NaN    NaN   \n",
       "1  2107-03-25 07:06:00  15004  2107-03-24 00:00:00     Date      NaN    NaN   \n",
       "2  2107-03-26 05:31:00  20834  2107-03-24 00:00:00     Date      NaN    NaN   \n",
       "\n",
       "   resultstatus   stopped  \n",
       "0           NaN  NotStopd  \n",
       "1           NaN  NotStopd  \n",
       "2           NaN  NotStopd  "
      ]
     },
     "execution_count": 3,
     "metadata": {},
     "output_type": "execute_result"
    }
   ],
   "source": [
    "df = pd.read_csv('C:\\\\ProgramData\\\\MySQL\\\\MySQL Server 8.0\\\\Uploads\\\\DATETIMEEVENTS.csv', encoding='UTF-8', delimiter=',', decimal='.')\n",
    "df.head(3)"
   ]
  },
  {
   "cell_type": "code",
   "execution_count": 15,
   "metadata": {},
   "outputs": [],
   "source": [
    "df = df.replace(np.nan, 0)"
   ]
  },
  {
   "attachments": {},
   "cell_type": "markdown",
   "metadata": {},
   "source": [
    "### Inserta los registros del df \"DATETIMEEVENTS\" en la BD"
   ]
  },
  {
   "cell_type": "code",
   "execution_count": 16,
   "metadata": {},
   "outputs": [],
   "source": [
    "sql_insert = ''' INSERT \n",
    "                   INTO  DATETIMEVENTS\n",
    "                         (row_id, subject_id, hadm_id, icustay_id, itemid, charttime, storetime, cgid, value, valueuom,\n",
    "                          warning, error, resultstatus, stopped)\n",
    "                 VALUES  (%s, %s, %s, %s, %s, %s, %s, %s, %s, %s, %s, %s, %s, %s) '''\n",
    "cursor = con.cursor()\n",
    "for i in range(0, len(df)):\n",
    "    row = int(df.loc[i, 'row_id'])\n",
    "    subj = int(df.loc[i, 'subject_id'])\n",
    "    hadm = int(df.loc[i, 'hadm_id'])\n",
    "    icus = int(df.loc[i, 'icustay_id'])\n",
    "    itid = int(df.loc[i, 'itemid'])\n",
    "    chtm = df.loc[i, 'charttime']\n",
    "    srtm = df.loc[i, 'storetime']\n",
    "    cgid = int(df.loc[i, 'cgid'])\n",
    "    valu = df.loc[i, 'value']\n",
    "    valm = df.loc[i, 'valueuom']\n",
    "    warn = int(df.loc[i, 'warning'])\n",
    "    erro = int(df.loc[i, 'error'])\n",
    "    rest = df.loc[i, 'resultstatus']\n",
    "    stop = df.loc[i, 'stopped']\n",
    "    reg_s = (row, subj, hadm, icus, itid, chtm, srtm, cgid, valu, valm, warn, erro, rest, stop)\n",
    "    cursor.execute(sql_insert, reg_s)\n"
   ]
  },
  {
   "attachments": {},
   "cell_type": "markdown",
   "metadata": {},
   "source": [
    "### Confirma la inserción de los registros a la BD"
   ]
  },
  {
   "cell_type": "code",
   "execution_count": 17,
   "metadata": {},
   "outputs": [],
   "source": [
    "con.commit()"
   ]
  },
  {
   "cell_type": "markdown",
   "metadata": {},
   "source": [
    "### Cierra el cursor y la conexion a la BD"
   ]
  },
  {
   "cell_type": "code",
   "execution_count": 18,
   "metadata": {},
   "outputs": [],
   "source": [
    "cursor.close()\n",
    "con.close()"
   ]
  }
 ],
 "metadata": {
  "kernelspec": {
   "display_name": "Python 3.10.6 ('spyder-env')",
   "language": "python",
   "name": "python3"
  },
  "language_info": {
   "codemirror_mode": {
    "name": "ipython",
    "version": 3
   },
   "file_extension": ".py",
   "mimetype": "text/x-python",
   "name": "python",
   "nbconvert_exporter": "python",
   "pygments_lexer": "ipython3",
   "version": "3.10.9"
  },
  "orig_nbformat": 4,
  "vscode": {
   "interpreter": {
    "hash": "db9742d71afbc4cd9ba311cf401982ea65339721199a1967326796af4afacaff"
   }
  }
 },
 "nbformat": 4,
 "nbformat_minor": 2
}
