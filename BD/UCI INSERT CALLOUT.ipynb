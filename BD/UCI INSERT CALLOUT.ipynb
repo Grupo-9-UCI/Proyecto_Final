{
 "cells": [
  {
   "cell_type": "code",
   "execution_count": 1,
   "metadata": {},
   "outputs": [],
   "source": [
    "import pymysql\n",
    "import requests\n",
    "import pandas as pd\n",
    "import numpy as np"
   ]
  },
  {
   "attachments": {},
   "cell_type": "markdown",
   "metadata": {},
   "source": [
    "### Se conecta con la BD MySQL AWS"
   ]
  },
  {
   "cell_type": "code",
   "execution_count": 7,
   "metadata": {},
   "outputs": [],
   "source": [
    "con = pymysql.connect(\n",
    "      host='database-proyecto-final.cpjrl88bhdul.us-east-1.rds.amazonaws.com',\n",
    "      database='databaseuci',\n",
    "      user='admin',\n",
    "      password='datascience'\n",
    ")"
   ]
  },
  {
   "attachments": {},
   "cell_type": "markdown",
   "metadata": {},
   "source": [
    "### Genera un df con el archivo `csv` \"CALLOUT\""
   ]
  },
  {
   "cell_type": "code",
   "execution_count": 3,
   "metadata": {},
   "outputs": [
    {
     "data": {
      "text/html": [
       "<div>\n",
       "<style scoped>\n",
       "    .dataframe tbody tr th:only-of-type {\n",
       "        vertical-align: middle;\n",
       "    }\n",
       "\n",
       "    .dataframe tbody tr th {\n",
       "        vertical-align: top;\n",
       "    }\n",
       "\n",
       "    .dataframe thead th {\n",
       "        text-align: right;\n",
       "    }\n",
       "</style>\n",
       "<table border=\"1\" class=\"dataframe\">\n",
       "  <thead>\n",
       "    <tr style=\"text-align: right;\">\n",
       "      <th></th>\n",
       "      <th>row_id</th>\n",
       "      <th>subject_id</th>\n",
       "      <th>hadm_id</th>\n",
       "      <th>submit_wardid</th>\n",
       "      <th>submit_careunit</th>\n",
       "      <th>curr_wardid</th>\n",
       "      <th>curr_careunit</th>\n",
       "      <th>callout_wardid</th>\n",
       "      <th>callout_service</th>\n",
       "      <th>request_tele</th>\n",
       "      <th>...</th>\n",
       "      <th>callout_status</th>\n",
       "      <th>callout_outcome</th>\n",
       "      <th>discharge_wardid</th>\n",
       "      <th>acknowledge_status</th>\n",
       "      <th>createtime</th>\n",
       "      <th>updatetime</th>\n",
       "      <th>acknowledgetime</th>\n",
       "      <th>outcometime</th>\n",
       "      <th>firstreservationtime</th>\n",
       "      <th>currentreservationtime</th>\n",
       "    </tr>\n",
       "  </thead>\n",
       "  <tbody>\n",
       "    <tr>\n",
       "      <th>0</th>\n",
       "      <td>3917</td>\n",
       "      <td>10017</td>\n",
       "      <td>199207</td>\n",
       "      <td>7</td>\n",
       "      <td>NaN</td>\n",
       "      <td>45</td>\n",
       "      <td>CCU</td>\n",
       "      <td>1</td>\n",
       "      <td>MED</td>\n",
       "      <td>1</td>\n",
       "      <td>...</td>\n",
       "      <td>Inactive</td>\n",
       "      <td>Discharged</td>\n",
       "      <td>45.0</td>\n",
       "      <td>Acknowledged</td>\n",
       "      <td>2149-05-31 10:44:34</td>\n",
       "      <td>2149-05-31 10:44:34</td>\n",
       "      <td>2149-05-31 15:08:04</td>\n",
       "      <td>2149-05-31 22:40:02</td>\n",
       "      <td>NaN</td>\n",
       "      <td>NaN</td>\n",
       "    </tr>\n",
       "    <tr>\n",
       "      <th>1</th>\n",
       "      <td>3919</td>\n",
       "      <td>10026</td>\n",
       "      <td>103770</td>\n",
       "      <td>33</td>\n",
       "      <td>NaN</td>\n",
       "      <td>3</td>\n",
       "      <td>SICU</td>\n",
       "      <td>3</td>\n",
       "      <td>NMED</td>\n",
       "      <td>1</td>\n",
       "      <td>...</td>\n",
       "      <td>Inactive</td>\n",
       "      <td>Discharged</td>\n",
       "      <td>3.0</td>\n",
       "      <td>Revised</td>\n",
       "      <td>2195-05-18 13:56:20</td>\n",
       "      <td>2195-05-19 15:45:30</td>\n",
       "      <td>NaN</td>\n",
       "      <td>2195-05-19 17:40:03</td>\n",
       "      <td>NaN</td>\n",
       "      <td>NaN</td>\n",
       "    </tr>\n",
       "    <tr>\n",
       "      <th>2</th>\n",
       "      <td>3920</td>\n",
       "      <td>10027</td>\n",
       "      <td>199395</td>\n",
       "      <td>12</td>\n",
       "      <td>NaN</td>\n",
       "      <td>55</td>\n",
       "      <td>CSRU</td>\n",
       "      <td>55</td>\n",
       "      <td>CSURG</td>\n",
       "      <td>1</td>\n",
       "      <td>...</td>\n",
       "      <td>Inactive</td>\n",
       "      <td>Discharged</td>\n",
       "      <td>55.0</td>\n",
       "      <td>Acknowledged</td>\n",
       "      <td>2190-07-20 08:15:20</td>\n",
       "      <td>2190-07-20 08:15:20</td>\n",
       "      <td>2190-07-20 08:57:46</td>\n",
       "      <td>2190-07-20 17:10:02</td>\n",
       "      <td>NaN</td>\n",
       "      <td>NaN</td>\n",
       "    </tr>\n",
       "  </tbody>\n",
       "</table>\n",
       "<p>3 rows × 24 columns</p>\n",
       "</div>"
      ],
      "text/plain": [
       "   row_id  subject_id  hadm_id  submit_wardid submit_careunit  curr_wardid  \\\n",
       "0    3917       10017   199207              7             NaN           45   \n",
       "1    3919       10026   103770             33             NaN            3   \n",
       "2    3920       10027   199395             12             NaN           55   \n",
       "\n",
       "  curr_careunit  callout_wardid callout_service  request_tele  ...  \\\n",
       "0           CCU               1             MED             1  ...   \n",
       "1          SICU               3            NMED             1  ...   \n",
       "2          CSRU              55           CSURG             1  ...   \n",
       "\n",
       "   callout_status  callout_outcome  discharge_wardid  acknowledge_status  \\\n",
       "0        Inactive       Discharged              45.0        Acknowledged   \n",
       "1        Inactive       Discharged               3.0             Revised   \n",
       "2        Inactive       Discharged              55.0        Acknowledged   \n",
       "\n",
       "            createtime           updatetime      acknowledgetime  \\\n",
       "0  2149-05-31 10:44:34  2149-05-31 10:44:34  2149-05-31 15:08:04   \n",
       "1  2195-05-18 13:56:20  2195-05-19 15:45:30                  NaN   \n",
       "2  2190-07-20 08:15:20  2190-07-20 08:15:20  2190-07-20 08:57:46   \n",
       "\n",
       "           outcometime firstreservationtime currentreservationtime  \n",
       "0  2149-05-31 22:40:02                  NaN                    NaN  \n",
       "1  2195-05-19 17:40:03                  NaN                    NaN  \n",
       "2  2190-07-20 17:10:02                  NaN                    NaN  \n",
       "\n",
       "[3 rows x 24 columns]"
      ]
     },
     "execution_count": 3,
     "metadata": {},
     "output_type": "execute_result"
    }
   ],
   "source": [
    "df = pd.read_csv('C:\\\\ProgramData\\\\MySQL\\\\MySQL Server 8.0\\\\Uploads\\\\CALLOUT.csv', encoding='UTF-8', delimiter=',', decimal='.')\n",
    "df.head(3)"
   ]
  },
  {
   "cell_type": "code",
   "execution_count": 4,
   "metadata": {},
   "outputs": [],
   "source": [
    "df = df.replace(np.nan, 0)"
   ]
  },
  {
   "attachments": {},
   "cell_type": "markdown",
   "metadata": {},
   "source": [
    "### Inserta los registros del df \"CALLOUT\" en la BD"
   ]
  },
  {
   "cell_type": "code",
   "execution_count": 8,
   "metadata": {},
   "outputs": [],
   "source": [
    "sql_insert = ''' INSERT \n",
    "                   INTO  CALLOUT\n",
    "                         (row_id, subject_id, hadm_id, submit_wardid, submit_careunit, curr_wardid, curr_careunit, \n",
    "                          callout_wardid, callout_service, request_tele, request_resp, request_cdiff, request_mrsa,\n",
    "                          request_vre, callout_status, callout_outcome, discharge_wardid, acknowledge_status, createtime,\n",
    "                          updatetime, acknowledgetime, outcometime, firstreservationtime, currentreservationtime)\n",
    "                 VALUES  (%s, %s, %s, %s, %s, %s, %s, %s, %s, %s, %s, %s, %s, %s, %s, %s, %s, %s, %s, %s, %s, %s, %s, %s) '''\n",
    "num_reng = 0\n",
    "cursor = con.cursor()\n",
    "for i in range(0, len(df)):\n",
    "    row = int(df.loc[i, 'row_id'])\n",
    "    subj = int(df.loc[i, 'subject_id'])\n",
    "    hadm = int(df.loc[i, 'hadm_id'])\n",
    "    subw = int(df.loc[i, 'submit_wardid'])\n",
    "    subc = df.loc[i, 'submit_careunit']\n",
    "    curw = int(df.loc[i, 'curr_wardid'])\n",
    "    curc = df.loc[i, 'curr_careunit']\n",
    "    couw = int(df.loc[i, 'callout_wardid'])\n",
    "    cous = df.loc[i, 'callout_service']\n",
    "    retl = int(df.loc[i, 'request_tele'])\n",
    "    rers = int(df.loc[i, 'request_resp'])\n",
    "    recd = int(df.loc[i, 'request_cdiff'])\n",
    "    mrsa = int(df.loc[i, 'request_mrsa'])\n",
    "    revr = int(df.loc[i, 'request_vre'])\n",
    "    cost = df.loc[i, 'callout_status']\n",
    "    cout = df.loc[i, 'callout_outcome']\n",
    "    disw = int(df.loc[i, 'discharge_wardid'])\n",
    "    akst = df.loc[i, 'acknowledge_status']\n",
    "    crtm = df.loc[i, 'createtime']\n",
    "    uptm = df.loc[i, 'updatetime']\n",
    "    aktm = df.loc[i, 'acknowledgetime']\n",
    "    outm = df.loc[i, 'outcometime']\n",
    "    frtm = df.loc[i, 'firstreservationtime']\n",
    "    curt = df.loc[i, 'currentreservationtime']\n",
    "    reg_s = (row, subj, hadm, subw, subc, curw, curc, couw, cous, retl, rers, recd, mrsa, revr, cost, cout, disw, akst, crtm,\n",
    "             uptm, aktm, outm, frtm, curt)\n",
    "    cursor.execute(sql_insert, reg_s)\n",
    "    num_reng += 1\n",
    "    if num_reng == 100:\n",
    "        con.commit()\n",
    "        num_reng = 0\n"
   ]
  },
  {
   "attachments": {},
   "cell_type": "markdown",
   "metadata": {},
   "source": [
    "### Confirma la inserción de los registros a la BD"
   ]
  },
  {
   "cell_type": "code",
   "execution_count": 9,
   "metadata": {},
   "outputs": [],
   "source": [
    "con.commit()"
   ]
  },
  {
   "cell_type": "markdown",
   "metadata": {},
   "source": [
    "### Cierra el cursor y la conexion a la BD"
   ]
  },
  {
   "cell_type": "code",
   "execution_count": 10,
   "metadata": {},
   "outputs": [],
   "source": [
    "cursor.close()\n",
    "con.close()"
   ]
  }
 ],
 "metadata": {
  "kernelspec": {
   "display_name": "Python 3.10.6 ('spyder-env')",
   "language": "python",
   "name": "python3"
  },
  "language_info": {
   "codemirror_mode": {
    "name": "ipython",
    "version": 3
   },
   "file_extension": ".py",
   "mimetype": "text/x-python",
   "name": "python",
   "nbconvert_exporter": "python",
   "pygments_lexer": "ipython3",
   "version": "3.10.9"
  },
  "orig_nbformat": 4,
  "vscode": {
   "interpreter": {
    "hash": "db9742d71afbc4cd9ba311cf401982ea65339721199a1967326796af4afacaff"
   }
  }
 },
 "nbformat": 4,
 "nbformat_minor": 2
}
