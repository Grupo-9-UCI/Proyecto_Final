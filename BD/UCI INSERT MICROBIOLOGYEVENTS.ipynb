{
 "cells": [
  {
   "cell_type": "code",
   "execution_count": 1,
   "metadata": {},
   "outputs": [],
   "source": [
    "import pymysql\n",
    "import requests\n",
    "import pandas as pd\n",
    "import numpy as np"
   ]
  },
  {
   "attachments": {},
   "cell_type": "markdown",
   "metadata": {},
   "source": [
    "### Genera un df con el archivo csv \"MICROBIOLOGYEVENTS\""
   ]
  },
  {
   "cell_type": "code",
   "execution_count": 3,
   "metadata": {},
   "outputs": [
    {
     "data": {
      "text/html": [
       "<div>\n",
       "<style scoped>\n",
       "    .dataframe tbody tr th:only-of-type {\n",
       "        vertical-align: middle;\n",
       "    }\n",
       "\n",
       "    .dataframe tbody tr th {\n",
       "        vertical-align: top;\n",
       "    }\n",
       "\n",
       "    .dataframe thead th {\n",
       "        text-align: right;\n",
       "    }\n",
       "</style>\n",
       "<table border=\"1\" class=\"dataframe\">\n",
       "  <thead>\n",
       "    <tr style=\"text-align: right;\">\n",
       "      <th></th>\n",
       "      <th>row_id</th>\n",
       "      <th>subject_id</th>\n",
       "      <th>hadm_id</th>\n",
       "      <th>chartdate</th>\n",
       "      <th>charttime</th>\n",
       "      <th>spec_itemid</th>\n",
       "      <th>spec_type_desc</th>\n",
       "      <th>org_itemid</th>\n",
       "      <th>org_name</th>\n",
       "      <th>isolate_num</th>\n",
       "      <th>ab_itemid</th>\n",
       "      <th>ab_name</th>\n",
       "      <th>dilution_text</th>\n",
       "      <th>dilution_comparison</th>\n",
       "      <th>dilution_value</th>\n",
       "      <th>interpretation</th>\n",
       "    </tr>\n",
       "  </thead>\n",
       "  <tbody>\n",
       "    <tr>\n",
       "      <th>0</th>\n",
       "      <td>134694</td>\n",
       "      <td>10006</td>\n",
       "      <td>142345</td>\n",
       "      <td>2164-10-23 00:00:00</td>\n",
       "      <td>2164-10-23 15:30:00</td>\n",
       "      <td>70012</td>\n",
       "      <td>BLOOD CULTURE</td>\n",
       "      <td>80155.0</td>\n",
       "      <td>STAPHYLOCOCCUS, COAGULASE NEGATIVE</td>\n",
       "      <td>2.0</td>\n",
       "      <td>NaN</td>\n",
       "      <td>NaN</td>\n",
       "      <td>NaN</td>\n",
       "      <td>NaN</td>\n",
       "      <td>NaN</td>\n",
       "      <td>NaN</td>\n",
       "    </tr>\n",
       "    <tr>\n",
       "      <th>1</th>\n",
       "      <td>134695</td>\n",
       "      <td>10006</td>\n",
       "      <td>142345</td>\n",
       "      <td>2164-10-23 00:00:00</td>\n",
       "      <td>2164-10-23 15:30:00</td>\n",
       "      <td>70012</td>\n",
       "      <td>BLOOD CULTURE</td>\n",
       "      <td>80155.0</td>\n",
       "      <td>STAPHYLOCOCCUS, COAGULASE NEGATIVE</td>\n",
       "      <td>1.0</td>\n",
       "      <td>90015.0</td>\n",
       "      <td>VANCOMYCIN</td>\n",
       "      <td>2</td>\n",
       "      <td>=</td>\n",
       "      <td>2.0</td>\n",
       "      <td>S</td>\n",
       "    </tr>\n",
       "    <tr>\n",
       "      <th>2</th>\n",
       "      <td>134696</td>\n",
       "      <td>10006</td>\n",
       "      <td>142345</td>\n",
       "      <td>2164-10-23 00:00:00</td>\n",
       "      <td>2164-10-23 15:30:00</td>\n",
       "      <td>70012</td>\n",
       "      <td>BLOOD CULTURE</td>\n",
       "      <td>80155.0</td>\n",
       "      <td>STAPHYLOCOCCUS, COAGULASE NEGATIVE</td>\n",
       "      <td>1.0</td>\n",
       "      <td>90012.0</td>\n",
       "      <td>GENTAMICIN</td>\n",
       "      <td>&lt;=0.5</td>\n",
       "      <td>&lt;=</td>\n",
       "      <td>1.0</td>\n",
       "      <td>S</td>\n",
       "    </tr>\n",
       "  </tbody>\n",
       "</table>\n",
       "</div>"
      ],
      "text/plain": [
       "   row_id  subject_id  hadm_id            chartdate            charttime  \\\n",
       "0  134694       10006   142345  2164-10-23 00:00:00  2164-10-23 15:30:00   \n",
       "1  134695       10006   142345  2164-10-23 00:00:00  2164-10-23 15:30:00   \n",
       "2  134696       10006   142345  2164-10-23 00:00:00  2164-10-23 15:30:00   \n",
       "\n",
       "   spec_itemid spec_type_desc  org_itemid                            org_name  \\\n",
       "0        70012  BLOOD CULTURE     80155.0  STAPHYLOCOCCUS, COAGULASE NEGATIVE   \n",
       "1        70012  BLOOD CULTURE     80155.0  STAPHYLOCOCCUS, COAGULASE NEGATIVE   \n",
       "2        70012  BLOOD CULTURE     80155.0  STAPHYLOCOCCUS, COAGULASE NEGATIVE   \n",
       "\n",
       "   isolate_num  ab_itemid     ab_name dilution_text dilution_comparison  \\\n",
       "0          2.0        NaN         NaN           NaN                 NaN   \n",
       "1          1.0    90015.0  VANCOMYCIN             2                   =   \n",
       "2          1.0    90012.0  GENTAMICIN         <=0.5                  <=   \n",
       "\n",
       "   dilution_value interpretation  \n",
       "0             NaN            NaN  \n",
       "1             2.0              S  \n",
       "2             1.0              S  "
      ]
     },
     "execution_count": 3,
     "metadata": {},
     "output_type": "execute_result"
    }
   ],
   "source": [
    "df = pd.read_csv('C:\\\\Users\\\\cfari\\OneDrive\\\\Escritorio\\\\PF_GRUPAL\\\\DATASET\\\\MICROBIOLOGYEVENTS.csv', encoding='UTF-8', delimiter=',', decimal='.')\n",
    "df.head(3)"
   ]
  },
  {
   "cell_type": "code",
   "execution_count": 4,
   "metadata": {},
   "outputs": [],
   "source": [
    "df = df.replace(np.nan, 0)"
   ]
  },
  {
   "attachments": {},
   "cell_type": "markdown",
   "metadata": {},
   "source": [
    "### Se conecta con la BD MySQL"
   ]
  },
  {
   "cell_type": "code",
   "execution_count": null,
   "metadata": {},
   "outputs": [],
   "source": [
    "con = pymysql.connect(\n",
    "      host='database-proyecto-final.cpjrl88bhdul.us-east-1.rds.amazonaws.com',\n",
    "      database='databaseuci',\n",
    "      user='admin',\n",
    "      password='datascience'\n",
    ")"
   ]
  },
  {
   "attachments": {},
   "cell_type": "markdown",
   "metadata": {},
   "source": [
    "### Inserta los registros del df \"MICROBIOLOGYEVENTS\" en la BD"
   ]
  },
  {
   "cell_type": "code",
   "execution_count": 5,
   "metadata": {},
   "outputs": [],
   "source": [
    "sql_insert = ''' INSERT \n",
    "                   INTO  MICROBIOLOGYEVENTS\n",
    "                         (row_id,subject_id,hadm_id,chartdate,charttime,spec_itemid,spec_type_desc,org_itemid,\n",
    "                         org_name,isolate_num,ab_itemid,ab_name,dilution_text,dilution_comparison,\n",
    "                         dilution_value,interpretation)\n",
    "                 VALUES  (%s, %s, %s, %s, %s, %s, %s, %s, %s, %s, %s, %s, %s, %s, %s, %s) '''\n",
    "cursor = con.cursor()\n",
    "for i in range(0, len(df)):\n",
    "    row = int(df.loc[i, 'row_id'])\n",
    "    subj = int(df.loc[i, 'subject_id'])\n",
    "    hadm = int(df.loc[i, 'hadm_id'])\n",
    "    chd = df.loc[i, 'chartdate']\n",
    "    cht = df.loc[i, 'charttime']\n",
    "    sit = int(df.loc[i, 'spec_itemid'])\n",
    "    std = df.loc[i, 'spec_type_desc']\n",
    "    ogi = int(df.loc[i, 'org_itemid'])\n",
    "    agn = df.loc[i, 'org_name']\n",
    "    isn = int(df.loc[i, 'isolate_num'])\n",
    "    abi = int(df.loc[i, 'ab_itemid'])\n",
    "    abn = df.loc[i, 'ab_name']\n",
    "    dlt = df.loc[i, 'dilution_text']\n",
    "    dic = df.loc[i, 'dilution_comparison']\n",
    "    div = float(df.loc[i, 'dilution_value'])\n",
    "    itp = df.loc[i, 'interpretation']\n",
    "    reg_s = (row, subj, hadm, chd, cht, sit, std, ogi, agn, isn, abi, abn, dlt, dic, div, itp)\n",
    "    cursor.execute(sql_insert, reg_s)\n",
    "#cursor.fetchone()"
   ]
  },
  {
   "attachments": {},
   "cell_type": "markdown",
   "metadata": {},
   "source": [
    "### Confirma la inserción de los registros a la BD"
   ]
  },
  {
   "cell_type": "code",
   "execution_count": 6,
   "metadata": {},
   "outputs": [],
   "source": [
    "con.commit()"
   ]
  },
  {
   "attachments": {},
   "cell_type": "markdown",
   "metadata": {},
   "source": [
    "### Cierra el cursor y la conexión a la BD"
   ]
  },
  {
   "cell_type": "code",
   "execution_count": 7,
   "metadata": {},
   "outputs": [],
   "source": [
    "cursor.close()\n",
    "con.close()\n"
   ]
  }
 ],
 "metadata": {
  "kernelspec": {
   "display_name": "Python 3",
   "language": "python",
   "name": "python3"
  },
  "language_info": {
   "codemirror_mode": {
    "name": "ipython",
    "version": 3
   },
   "file_extension": ".py",
   "mimetype": "text/x-python",
   "name": "python",
   "nbconvert_exporter": "python",
   "pygments_lexer": "ipython3",
   "version": "3.10.6"
  },
  "orig_nbformat": 4
 },
 "nbformat": 4,
 "nbformat_minor": 2
}
