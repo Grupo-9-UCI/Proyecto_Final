{
 "cells": [
  {
   "cell_type": "code",
   "execution_count": 1,
   "metadata": {},
   "outputs": [],
   "source": [
    "import pymysql\n",
    "import requests\n",
    "import pandas as pd\n",
    "import numpy as np"
   ]
  },
  {
   "attachments": {},
   "cell_type": "markdown",
   "metadata": {},
   "source": [
    "### Genera un df con el archivo `csv` \"DRGCODES\""
   ]
  },
  {
   "cell_type": "code",
   "execution_count": 3,
   "metadata": {},
   "outputs": [
    {
     "data": {
      "text/html": [
       "<div>\n",
       "<style scoped>\n",
       "    .dataframe tbody tr th:only-of-type {\n",
       "        vertical-align: middle;\n",
       "    }\n",
       "\n",
       "    .dataframe tbody tr th {\n",
       "        vertical-align: top;\n",
       "    }\n",
       "\n",
       "    .dataframe thead th {\n",
       "        text-align: right;\n",
       "    }\n",
       "</style>\n",
       "<table border=\"1\" class=\"dataframe\">\n",
       "  <thead>\n",
       "    <tr style=\"text-align: right;\">\n",
       "      <th></th>\n",
       "      <th>row_id</th>\n",
       "      <th>subject_id</th>\n",
       "      <th>hadm_id</th>\n",
       "      <th>drg_type</th>\n",
       "      <th>drg_code</th>\n",
       "      <th>description</th>\n",
       "      <th>drg_severity</th>\n",
       "      <th>drg_mortality</th>\n",
       "    </tr>\n",
       "  </thead>\n",
       "  <tbody>\n",
       "    <tr>\n",
       "      <th>0</th>\n",
       "      <td>1338</td>\n",
       "      <td>10130</td>\n",
       "      <td>156668</td>\n",
       "      <td>HCFA</td>\n",
       "      <td>148</td>\n",
       "      <td>MAJOR SMALL &amp; LARGE BOWEL PROCEDURES WITH COMP...</td>\n",
       "      <td>NaN</td>\n",
       "      <td>NaN</td>\n",
       "    </tr>\n",
       "    <tr>\n",
       "      <th>1</th>\n",
       "      <td>2188</td>\n",
       "      <td>10114</td>\n",
       "      <td>167957</td>\n",
       "      <td>HCFA</td>\n",
       "      <td>518</td>\n",
       "      <td>PERCUTANEOUS CARDIOVASCULAR PROCEDURES WITHOUT...</td>\n",
       "      <td>NaN</td>\n",
       "      <td>NaN</td>\n",
       "    </tr>\n",
       "    <tr>\n",
       "      <th>2</th>\n",
       "      <td>2599</td>\n",
       "      <td>10117</td>\n",
       "      <td>187023</td>\n",
       "      <td>HCFA</td>\n",
       "      <td>185</td>\n",
       "      <td>DENTAL &amp; ORAL DIS EXCEPT EXTRACTIONS &amp; RESTORA...</td>\n",
       "      <td>NaN</td>\n",
       "      <td>NaN</td>\n",
       "    </tr>\n",
       "  </tbody>\n",
       "</table>\n",
       "</div>"
      ],
      "text/plain": [
       "   row_id  subject_id  hadm_id drg_type  drg_code  \\\n",
       "0    1338       10130   156668     HCFA       148   \n",
       "1    2188       10114   167957     HCFA       518   \n",
       "2    2599       10117   187023     HCFA       185   \n",
       "\n",
       "                                         description  drg_severity  \\\n",
       "0  MAJOR SMALL & LARGE BOWEL PROCEDURES WITH COMP...           NaN   \n",
       "1  PERCUTANEOUS CARDIOVASCULAR PROCEDURES WITHOUT...           NaN   \n",
       "2  DENTAL & ORAL DIS EXCEPT EXTRACTIONS & RESTORA...           NaN   \n",
       "\n",
       "   drg_mortality  \n",
       "0            NaN  \n",
       "1            NaN  \n",
       "2            NaN  "
      ]
     },
     "execution_count": 3,
     "metadata": {},
     "output_type": "execute_result"
    }
   ],
   "source": [
    "df = pd.read_csv('C:\\\\ProgramData\\\\MySQL\\\\MySQL Server 8.0\\\\Uploads\\\\DRGCODES.csv', encoding='UTF-8', delimiter=',', decimal='.')\n",
    "df.head(3)"
   ]
  },
  {
   "cell_type": "code",
   "execution_count": 4,
   "metadata": {},
   "outputs": [],
   "source": [
    "df = df.replace(np.nan, 0)"
   ]
  },
  {
   "cell_type": "markdown",
   "metadata": {},
   "source": [
    "### Se conecta con la BD MySQL AWS"
   ]
  },
  {
   "cell_type": "code",
   "execution_count": null,
   "metadata": {},
   "outputs": [],
   "source": [
    "con = pymysql.connect(\n",
    "      host='database-proyecto-final.cpjrl88bhdul.us-east-1.rds.amazonaws.com',\n",
    "      database='databaseuci',\n",
    "      user='admin',\n",
    "      password='datascience'\n",
    ")"
   ]
  },
  {
   "attachments": {},
   "cell_type": "markdown",
   "metadata": {},
   "source": [
    "### Inserta los registros del df \"DRGCODES\" en la BD"
   ]
  },
  {
   "cell_type": "code",
   "execution_count": 5,
   "metadata": {},
   "outputs": [],
   "source": [
    "sql_insert = ''' INSERT \n",
    "                   INTO  DRGCODES\n",
    "                         (row_id, subject_id, hadm_id, drg_type, drg_code, description, drg_severity, drg_mortality)\n",
    "                 VALUES  (%s, %s, %s, %s, %s, %s, %s, %s) '''\n",
    "num_reng = 0\n",
    "cursor = con.cursor()\n",
    "for i in range(0, len(df)):\n",
    "    row = int(df.loc[i, 'row_id'])\n",
    "    sbid = int(df.loc[i, 'subject_id'])\n",
    "    hadm = int(df.loc[i, 'hadm_id'])\n",
    "    drtp = df.loc[i, 'drg_type']\n",
    "    drcd = df.loc[i, 'drg_code']\n",
    "    desc = df.loc[i, 'description']\n",
    "    drsv = int(df.loc[i, 'drg_severity'])\n",
    "    drmr = int(df.loc[i, 'drg_mortality'])\n",
    "    reg_s = (row, sbid, hadm, drtp, drcd, desc, drsv, drmr)\n",
    "    cursor.execute(sql_insert, reg_s)\n",
    "    num_reng += 1\n",
    "    if num_reng == 100:\n",
    "        con.commit()\n",
    "        num_reng = 0"
   ]
  },
  {
   "attachments": {},
   "cell_type": "markdown",
   "metadata": {},
   "source": [
    "### Confirma la inserción de los registros a la BD"
   ]
  },
  {
   "cell_type": "code",
   "execution_count": 6,
   "metadata": {},
   "outputs": [],
   "source": [
    "con.commit()"
   ]
  },
  {
   "cell_type": "markdown",
   "metadata": {},
   "source": [
    "### Cierra el cursor y la conexion a la BD"
   ]
  },
  {
   "cell_type": "code",
   "execution_count": 7,
   "metadata": {},
   "outputs": [],
   "source": [
    "cursor.close()\n",
    "con.close()"
   ]
  }
 ],
 "metadata": {
  "kernelspec": {
   "display_name": "Python 3.10.6 ('spyder-env')",
   "language": "python",
   "name": "python3"
  },
  "language_info": {
   "codemirror_mode": {
    "name": "ipython",
    "version": 3
   },
   "file_extension": ".py",
   "mimetype": "text/x-python",
   "name": "python",
   "nbconvert_exporter": "python",
   "pygments_lexer": "ipython3",
   "version": "3.10.9"
  },
  "orig_nbformat": 4,
  "vscode": {
   "interpreter": {
    "hash": "db9742d71afbc4cd9ba311cf401982ea65339721199a1967326796af4afacaff"
   }
  }
 },
 "nbformat": 4,
 "nbformat_minor": 2
}
