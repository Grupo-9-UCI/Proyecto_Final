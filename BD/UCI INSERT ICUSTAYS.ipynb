{
 "cells": [
  {
   "cell_type": "code",
   "execution_count": 1,
   "metadata": {},
   "outputs": [],
   "source": [
    "import pymysql\n",
    "import requests\n",
    "import pandas as pd\n",
    "import numpy as np"
   ]
  },
  {
   "attachments": {},
   "cell_type": "markdown",
   "metadata": {},
   "source": [
    "### Genera un df con el archivo csv \"ICUSTAYS\""
   ]
  },
  {
   "cell_type": "code",
   "execution_count": 3,
   "metadata": {},
   "outputs": [
    {
     "data": {
      "text/html": [
       "<div>\n",
       "<style scoped>\n",
       "    .dataframe tbody tr th:only-of-type {\n",
       "        vertical-align: middle;\n",
       "    }\n",
       "\n",
       "    .dataframe tbody tr th {\n",
       "        vertical-align: top;\n",
       "    }\n",
       "\n",
       "    .dataframe thead th {\n",
       "        text-align: right;\n",
       "    }\n",
       "</style>\n",
       "<table border=\"1\" class=\"dataframe\">\n",
       "  <thead>\n",
       "    <tr style=\"text-align: right;\">\n",
       "      <th></th>\n",
       "      <th>row_id</th>\n",
       "      <th>subject_id</th>\n",
       "      <th>hadm_id</th>\n",
       "      <th>icustay_id</th>\n",
       "      <th>dbsource</th>\n",
       "      <th>first_careunit</th>\n",
       "      <th>last_careunit</th>\n",
       "      <th>first_wardid</th>\n",
       "      <th>last_wardid</th>\n",
       "      <th>intime</th>\n",
       "      <th>outtime</th>\n",
       "      <th>los</th>\n",
       "    </tr>\n",
       "  </thead>\n",
       "  <tbody>\n",
       "    <tr>\n",
       "      <th>0</th>\n",
       "      <td>12742</td>\n",
       "      <td>10006</td>\n",
       "      <td>142345</td>\n",
       "      <td>206504</td>\n",
       "      <td>carevue</td>\n",
       "      <td>MICU</td>\n",
       "      <td>MICU</td>\n",
       "      <td>52</td>\n",
       "      <td>52</td>\n",
       "      <td>2164-10-23 21:10:15</td>\n",
       "      <td>2164-10-25 12:21:07</td>\n",
       "      <td>1.6325</td>\n",
       "    </tr>\n",
       "    <tr>\n",
       "      <th>1</th>\n",
       "      <td>12747</td>\n",
       "      <td>10011</td>\n",
       "      <td>105331</td>\n",
       "      <td>232110</td>\n",
       "      <td>carevue</td>\n",
       "      <td>MICU</td>\n",
       "      <td>MICU</td>\n",
       "      <td>15</td>\n",
       "      <td>15</td>\n",
       "      <td>2126-08-14 22:34:00</td>\n",
       "      <td>2126-08-28 18:59:00</td>\n",
       "      <td>13.8507</td>\n",
       "    </tr>\n",
       "    <tr>\n",
       "      <th>2</th>\n",
       "      <td>12749</td>\n",
       "      <td>10013</td>\n",
       "      <td>165520</td>\n",
       "      <td>264446</td>\n",
       "      <td>carevue</td>\n",
       "      <td>MICU</td>\n",
       "      <td>MICU</td>\n",
       "      <td>15</td>\n",
       "      <td>15</td>\n",
       "      <td>2125-10-04 23:38:00</td>\n",
       "      <td>2125-10-07 15:13:52</td>\n",
       "      <td>2.6499</td>\n",
       "    </tr>\n",
       "  </tbody>\n",
       "</table>\n",
       "</div>"
      ],
      "text/plain": [
       "   row_id  subject_id  hadm_id  icustay_id dbsource first_careunit  \\\n",
       "0   12742       10006   142345      206504  carevue           MICU   \n",
       "1   12747       10011   105331      232110  carevue           MICU   \n",
       "2   12749       10013   165520      264446  carevue           MICU   \n",
       "\n",
       "  last_careunit  first_wardid  last_wardid               intime  \\\n",
       "0          MICU            52           52  2164-10-23 21:10:15   \n",
       "1          MICU            15           15  2126-08-14 22:34:00   \n",
       "2          MICU            15           15  2125-10-04 23:38:00   \n",
       "\n",
       "               outtime      los  \n",
       "0  2164-10-25 12:21:07   1.6325  \n",
       "1  2126-08-28 18:59:00  13.8507  \n",
       "2  2125-10-07 15:13:52   2.6499  "
      ]
     },
     "execution_count": 3,
     "metadata": {},
     "output_type": "execute_result"
    }
   ],
   "source": [
    "df = pd.read_csv('C:\\\\Users\\\\cfari\\OneDrive\\\\Escritorio\\\\PF_GRUPAL\\\\DATASET\\\\ICUSTAYS.csv', encoding='UTF-8', delimiter=',', decimal='.')\n",
    "df.head(3)"
   ]
  },
  {
   "cell_type": "code",
   "execution_count": 4,
   "metadata": {},
   "outputs": [],
   "source": [
    "df = df.replace(np.nan, 0)"
   ]
  },
  {
   "attachments": {},
   "cell_type": "markdown",
   "metadata": {},
   "source": [
    "### Se conecta con la BD MySQL "
   ]
  },
  {
   "cell_type": "code",
   "execution_count": null,
   "metadata": {},
   "outputs": [],
   "source": [
    "con = pymysql.connect(\n",
    "      host='database-proyecto-final.cpjrl88bhdul.us-east-1.rds.amazonaws.com',\n",
    "      database='databaseuci',\n",
    "      user='admin',\n",
    "      password='datascience'\n",
    ")"
   ]
  },
  {
   "attachments": {},
   "cell_type": "markdown",
   "metadata": {},
   "source": [
    "### Inserta los registros del df \"ICUSTAYS\" en la BD"
   ]
  },
  {
   "cell_type": "code",
   "execution_count": 5,
   "metadata": {},
   "outputs": [],
   "source": [
    "sql_insert = ''' INSERT \n",
    "                   INTO  ICUSTAYS\n",
    "                         (row_id,subject_id,hadm_id,icustay_id,dbsource,first_careunit,last_careunit,first_wardid,last_wardid,intime,outtime,los)\n",
    "                 VALUES  (%s, %s, %s, %s, %s, %s, %s, %s, %s, %s, %s, %s) '''\n",
    "cursor = con.cursor()\n",
    "for i in range(0, len(df)):\n",
    "    row = int(df.loc[i, 'row_id'])\n",
    "    subj = int(df.loc[i, 'subject_id'])\n",
    "    hadm = int(df.loc[i, 'hadm_id'])\n",
    "    icus = int(df.loc[i, 'icustay_id'])\n",
    "    dbc = df.loc[i, 'dbsource']\n",
    "    fic = df.loc[i, 'first_careunit']\n",
    "    lsc = df.loc[i, 'last_careunit']\n",
    "    fiw = int(df.loc[i, 'first_wardid'])\n",
    "    law = int(df.loc[i, 'last_wardid'])\n",
    "    inm = df.loc[i, 'intime']\n",
    "    out = df.loc[i, 'outtime']\n",
    "    los = float (df.loc[i, 'los'])\n",
    "    reg_s = (row, subj, hadm, icus, dbc, fic, lsc, fiw, law, inm, out, los)\n",
    "    cursor.execute(sql_insert, reg_s)\n",
    "#cursor.fetchone()"
   ]
  },
  {
   "attachments": {},
   "cell_type": "markdown",
   "metadata": {},
   "source": [
    "### Confirma la inserción de los registros a la BD"
   ]
  },
  {
   "cell_type": "code",
   "execution_count": 6,
   "metadata": {},
   "outputs": [],
   "source": [
    "con.commit()"
   ]
  },
  {
   "attachments": {},
   "cell_type": "markdown",
   "metadata": {},
   "source": [
    "### Cierra el cursor y la conexion a la BD"
   ]
  },
  {
   "cell_type": "code",
   "execution_count": 7,
   "metadata": {},
   "outputs": [],
   "source": [
    "cursor.close()\n",
    "con.close()"
   ]
  }
 ],
 "metadata": {
  "kernelspec": {
   "display_name": "Python 3",
   "language": "python",
   "name": "python3"
  },
  "language_info": {
   "codemirror_mode": {
    "name": "ipython",
    "version": 3
   },
   "file_extension": ".py",
   "mimetype": "text/x-python",
   "name": "python",
   "nbconvert_exporter": "python",
   "pygments_lexer": "ipython3",
   "version": "3.10.6"
  },
  "orig_nbformat": 4
 },
 "nbformat": 4,
 "nbformat_minor": 2
}
