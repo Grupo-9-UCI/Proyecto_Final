{
 "cells": [
  {
   "cell_type": "code",
   "execution_count": 8,
   "metadata": {},
   "outputs": [],
   "source": [
    "from pyspark.sql import SparkSession\n",
    "\n",
    "\n",
    "# MySQL Connection details\n",
    "MYSQL_JDBC_DRIVE = 'com.mysql.jdbc.Driver'\n",
    "MYSQL_SERVER = 'database-proyecto-final.cpjrl88bhdul.us-east-1.rds.amazonaws.com'\n",
    "MYSQL_DBNAME = 'databaseuci'\n",
    "MYSQL_USERNAME = 'admin'\n",
    "MYSQL_PASSWORD = 'datascience'\n",
    "\n",
    "\n",
    "URL = f'jdbc:mysql://{MYSQL_SERVER}/{MYSQL_DBNAME}'"
   ]
  },
  {
   "cell_type": "code",
   "execution_count": 9,
   "metadata": {},
   "outputs": [],
   "source": [
    "# Solucion para el Py4JJavaError\n",
    "# https://github.com/maxpumperla/elephas/issues/183\n",
    "# \n",
    "import findspark\n",
    "findspark.init()"
   ]
  },
  {
   "cell_type": "code",
   "execution_count": 10,
   "metadata": {},
   "outputs": [],
   "source": [
    "def get_data_location(data_key):\n",
    "        return f'dataset/{data_key}.csv'\n",
    "\n"
   ]
  },
  {
   "cell_type": "code",
   "execution_count": null,
   "metadata": {},
   "outputs": [],
   "source": [
    "name_tables_2 = ['ADMISSIONS',\n",
    "    'CALLOUT',\n",
    "    'CAREGIVERS',\n",
    "    'CHARTEVENTS',\n",
    "    'CPTEVENTS',\n",
    "    'DATETIMEEVENTS',\n",
    "    'DIAGNOSES_ICD',\n",
    "    'DRGCODES',\n",
    "    'D_CPT',\n",
    "    'D_ICD_DIAGNOSES',\n",
    "    'D_ICD_PROCEDURES',\n",
    "    'D_ITEMS',\n",
    "    'D_LABITEMS',\n",
    "    'ICUSTAYS',\n",
    "    'INPUTEVENTS_CV',\n",
    "    'INPUTEVENTS_MV',\n",
    "    'LABEVENTS',\n",
    "    'MICROBIOLOGYEVENTS',\n",
    "    'NOTEEVENTS',\n",
    "    'OUTPUTEVENTS',\n",
    "    'PATIENTS',\n",
    "    'PRESCRIPTIONS',\n",
    "    'PROCEDUREEVENTS_MV',\n",
    "    'PROCEDURES_ICD',\n",
    "    'SERVICES',\n",
    "    'TRANSFERS']"
   ]
  },
  {
   "cell_type": "code",
   "execution_count": 11,
   "metadata": {},
   "outputs": [],
   "source": [
    "name_tables = ['ADMISSIONS',\n",
    "    'CALLOUT',\n",
    "    'CAREGIVERS']"
   ]
  },
  {
   "cell_type": "code",
   "execution_count": 19,
   "metadata": {},
   "outputs": [],
   "source": [
    "name_tables = ['D_ITEMS',\n",
    "    'D_LABITEMS',\n",
    "    'ICUSTAYS']\n",
    "\n",
    "\n",
    "\n"
   ]
  },
  {
   "cell_type": "code",
   "execution_count": 12,
   "metadata": {},
   "outputs": [],
   "source": [
    "def read_csv(file, spark ):\n",
    "    return spark.read.csv(file, header = True)"
   ]
  },
  {
   "cell_type": "code",
   "execution_count": 13,
   "metadata": {},
   "outputs": [],
   "source": [
    "def write_to_mysql(df_aux, table_name):\n",
    "    \n",
    "    df_aux.write.mode(\"append\") \\\n",
    "    .format('jdbc')\\\n",
    "    .option('driver', MYSQL_JDBC_DRIVE)\\\n",
    "    .option('url', URL)\\\n",
    "    .option('dbtable', table_name)\\\n",
    "    .option('user', MYSQL_USERNAME)\\\n",
    "    .option('password', MYSQL_PASSWORD)\\\n",
    "    .save()\n",
    "\n",
    "    print(f'Se cargo exitosamente la tabla: {table_name}')"
   ]
  },
  {
   "cell_type": "code",
   "execution_count": 14,
   "metadata": {},
   "outputs": [
    {
     "name": "stdout",
     "output_type": "stream",
     "text": [
      "Se cargo exitosamente la tabla: ADMISSIONS\n",
      "Se cargo exitosamente la tabla: CALLOUT\n",
      "Se cargo exitosamente la tabla: CAREGIVERS\n"
     ]
    }
   ],
   "source": [
    "\n",
    "\n",
    "if __name__ == '__main__':\n",
    "\n",
    "    # Crea una sesion para Spark\n",
    "    spark = SparkSession \\\n",
    "                .builder \\\n",
    "                .appName(\"Python Spark MYSQL\") \\\n",
    "                .getOrCreate()\n",
    "\n",
    "\n",
    "    \n",
    "    for table in name_tables:\n",
    "\n",
    "        location = get_data_location(table)\n",
    "        df = read_csv(location, spark)\n",
    "        write_to_mysql(df, table)\n",
    "\n",
    "\n",
    "\n"
   ]
  },
  {
   "cell_type": "code",
   "execution_count": 16,
   "metadata": {},
   "outputs": [
    {
     "name": "stdout",
     "output_type": "stream",
     "text": [
      "Se cargo exitosamente la tabla: CPTEVENTS\n",
      "Se cargo exitosamente la tabla: DATETIMEEVENTS\n",
      "Se cargo exitosamente la tabla: DIAGNOSES_ICD\n",
      "Se cargo exitosamente la tabla: DRGCODES\n"
     ]
    }
   ],
   "source": [
    "if __name__ == '__main__':\n",
    "\n",
    "    # Crea una sesion para Spark\n",
    "    spark = SparkSession \\\n",
    "                .builder \\\n",
    "                .appName(\"Python Spark MYSQL\") \\\n",
    "                .getOrCreate()\n",
    "\n",
    "\n",
    "    \n",
    "    for table in name_tables:\n",
    "\n",
    "        location = get_data_location(table)\n",
    "        df = read_csv(location, spark)\n",
    "        write_to_mysql(df, table)\n"
   ]
  },
  {
   "cell_type": "code",
   "execution_count": 18,
   "metadata": {},
   "outputs": [
    {
     "name": "stdout",
     "output_type": "stream",
     "text": [
      "Se cargo exitosamente la tabla: D_CPT\n",
      "Se cargo exitosamente la tabla: D_ICD_DIAGNOSES\n",
      "Se cargo exitosamente la tabla: D_ICD_PROCEDURES\n"
     ]
    }
   ],
   "source": [
    "if __name__ == '__main__':\n",
    "\n",
    "    # Crea una sesion para Spark\n",
    "    spark = SparkSession \\\n",
    "                .builder \\\n",
    "                .appName(\"Python Spark MYSQL\") \\\n",
    "                .getOrCreate()\n",
    "\n",
    "\n",
    "    \n",
    "    for table in name_tables:\n",
    "\n",
    "        location = get_data_location(table)\n",
    "        df = read_csv(location, spark)\n",
    "        write_to_mysql(df, table)\n"
   ]
  },
  {
   "cell_type": "code",
   "execution_count": null,
   "metadata": {},
   "outputs": [],
   "source": []
  },
  {
   "cell_type": "code",
   "execution_count": null,
   "metadata": {},
   "outputs": [],
   "source": []
  },
  {
   "cell_type": "code",
   "execution_count": null,
   "metadata": {},
   "outputs": [],
   "source": []
  },
  {
   "cell_type": "code",
   "execution_count": null,
   "metadata": {},
   "outputs": [],
   "source": []
  },
  {
   "cell_type": "code",
   "execution_count": null,
   "metadata": {},
   "outputs": [],
   "source": []
  }
 ],
 "metadata": {
  "kernelspec": {
   "display_name": "Python 3",
   "language": "python",
   "name": "python3"
  },
  "language_info": {
   "codemirror_mode": {
    "name": "ipython",
    "version": 3
   },
   "file_extension": ".py",
   "mimetype": "text/x-python",
   "name": "python",
   "nbconvert_exporter": "python",
   "pygments_lexer": "ipython3",
   "version": "3.10.6"
  },
  "orig_nbformat": 4
 },
 "nbformat": 4,
 "nbformat_minor": 2
}
