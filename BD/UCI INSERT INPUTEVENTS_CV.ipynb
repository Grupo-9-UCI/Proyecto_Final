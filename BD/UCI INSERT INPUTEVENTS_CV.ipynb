{
 "cells": [
  {
   "cell_type": "code",
   "execution_count": 11,
   "metadata": {},
   "outputs": [],
   "source": [
    "import pymysql\n",
    "import requests\n",
    "import pandas as pd\n",
    "import numpy as np"
   ]
  },
  {
   "attachments": {},
   "cell_type": "markdown",
   "metadata": {},
   "source": [
    "### Genera un df con el archivo csv \"INPUTEVENTS_CV\""
   ]
  },
  {
   "cell_type": "code",
   "execution_count": 13,
   "metadata": {},
   "outputs": [
    {
     "name": "stderr",
     "output_type": "stream",
     "text": [
      "C:\\Users\\cfari\\AppData\\Local\\Temp\\ipykernel_24632\\631550117.py:1: DtypeWarning: Columns (17,20,21) have mixed types. Specify dtype option on import or set low_memory=False.\n",
      "  df = pd.read_csv('C:\\\\Users\\\\cfari\\OneDrive\\\\Escritorio\\\\PF_GRUPAL\\\\DATASET\\\\INPUTEVENTS_CV.csv', encoding='UTF-8', delimiter=',', decimal='.')\n"
     ]
    },
    {
     "data": {
      "text/html": [
       "<div>\n",
       "<style scoped>\n",
       "    .dataframe tbody tr th:only-of-type {\n",
       "        vertical-align: middle;\n",
       "    }\n",
       "\n",
       "    .dataframe tbody tr th {\n",
       "        vertical-align: top;\n",
       "    }\n",
       "\n",
       "    .dataframe thead th {\n",
       "        text-align: right;\n",
       "    }\n",
       "</style>\n",
       "<table border=\"1\" class=\"dataframe\">\n",
       "  <thead>\n",
       "    <tr style=\"text-align: right;\">\n",
       "      <th></th>\n",
       "      <th>row_id</th>\n",
       "      <th>subject_id</th>\n",
       "      <th>hadm_id</th>\n",
       "      <th>icustay_id</th>\n",
       "      <th>charttime</th>\n",
       "      <th>itemid</th>\n",
       "      <th>amount</th>\n",
       "      <th>amountuom</th>\n",
       "      <th>rate</th>\n",
       "      <th>rateuom</th>\n",
       "      <th>...</th>\n",
       "      <th>orderid</th>\n",
       "      <th>linkorderid</th>\n",
       "      <th>stopped</th>\n",
       "      <th>newbottle</th>\n",
       "      <th>originalamount</th>\n",
       "      <th>originalamountuom</th>\n",
       "      <th>originalroute</th>\n",
       "      <th>originalrate</th>\n",
       "      <th>originalrateuom</th>\n",
       "      <th>originalsite</th>\n",
       "    </tr>\n",
       "  </thead>\n",
       "  <tbody>\n",
       "    <tr>\n",
       "      <th>0</th>\n",
       "      <td>1184</td>\n",
       "      <td>10114</td>\n",
       "      <td>167957</td>\n",
       "      <td>234989</td>\n",
       "      <td>2171-11-03 15:00:00</td>\n",
       "      <td>30056</td>\n",
       "      <td>400.0</td>\n",
       "      <td>ml</td>\n",
       "      <td>NaN</td>\n",
       "      <td>NaN</td>\n",
       "      <td>...</td>\n",
       "      <td>2557279</td>\n",
       "      <td>2557279</td>\n",
       "      <td>NaN</td>\n",
       "      <td>NaN</td>\n",
       "      <td>NaN</td>\n",
       "      <td>ml</td>\n",
       "      <td>Oral</td>\n",
       "      <td>NaN</td>\n",
       "      <td>NaN</td>\n",
       "      <td>NaN</td>\n",
       "    </tr>\n",
       "    <tr>\n",
       "      <th>1</th>\n",
       "      <td>1185</td>\n",
       "      <td>10114</td>\n",
       "      <td>167957</td>\n",
       "      <td>234989</td>\n",
       "      <td>2171-11-03 20:00:00</td>\n",
       "      <td>30056</td>\n",
       "      <td>120.0</td>\n",
       "      <td>ml</td>\n",
       "      <td>NaN</td>\n",
       "      <td>NaN</td>\n",
       "      <td>...</td>\n",
       "      <td>7828849</td>\n",
       "      <td>2557279</td>\n",
       "      <td>NaN</td>\n",
       "      <td>NaN</td>\n",
       "      <td>NaN</td>\n",
       "      <td>ml</td>\n",
       "      <td>Oral</td>\n",
       "      <td>NaN</td>\n",
       "      <td>NaN</td>\n",
       "      <td>NaN</td>\n",
       "    </tr>\n",
       "    <tr>\n",
       "      <th>2</th>\n",
       "      <td>1186</td>\n",
       "      <td>10114</td>\n",
       "      <td>167957</td>\n",
       "      <td>234989</td>\n",
       "      <td>2171-11-03 23:00:00</td>\n",
       "      <td>30056</td>\n",
       "      <td>120.0</td>\n",
       "      <td>ml</td>\n",
       "      <td>NaN</td>\n",
       "      <td>NaN</td>\n",
       "      <td>...</td>\n",
       "      <td>2744159</td>\n",
       "      <td>2557279</td>\n",
       "      <td>NaN</td>\n",
       "      <td>NaN</td>\n",
       "      <td>NaN</td>\n",
       "      <td>ml</td>\n",
       "      <td>Oral</td>\n",
       "      <td>NaN</td>\n",
       "      <td>NaN</td>\n",
       "      <td>NaN</td>\n",
       "    </tr>\n",
       "  </tbody>\n",
       "</table>\n",
       "<p>3 rows × 22 columns</p>\n",
       "</div>"
      ],
      "text/plain": [
       "   row_id  subject_id  hadm_id  icustay_id            charttime  itemid  \\\n",
       "0    1184       10114   167957      234989  2171-11-03 15:00:00   30056   \n",
       "1    1185       10114   167957      234989  2171-11-03 20:00:00   30056   \n",
       "2    1186       10114   167957      234989  2171-11-03 23:00:00   30056   \n",
       "\n",
       "   amount amountuom  rate rateuom  ...  orderid  linkorderid  stopped  \\\n",
       "0   400.0        ml   NaN     NaN  ...  2557279      2557279      NaN   \n",
       "1   120.0        ml   NaN     NaN  ...  7828849      2557279      NaN   \n",
       "2   120.0        ml   NaN     NaN  ...  2744159      2557279      NaN   \n",
       "\n",
       "   newbottle originalamount  originalamountuom  originalroute originalrate  \\\n",
       "0        NaN            NaN                 ml           Oral          NaN   \n",
       "1        NaN            NaN                 ml           Oral          NaN   \n",
       "2        NaN            NaN                 ml           Oral          NaN   \n",
       "\n",
       "  originalrateuom  originalsite  \n",
       "0             NaN           NaN  \n",
       "1             NaN           NaN  \n",
       "2             NaN           NaN  \n",
       "\n",
       "[3 rows x 22 columns]"
      ]
     },
     "execution_count": 13,
     "metadata": {},
     "output_type": "execute_result"
    }
   ],
   "source": [
    "df = pd.read_csv('C:\\\\Users\\\\cfari\\OneDrive\\\\Escritorio\\\\PF_GRUPAL\\\\DATASET\\\\INPUTEVENTS_CV.csv', encoding='UTF-8', delimiter=',', decimal='.')\n",
    "df.head(3)"
   ]
  },
  {
   "cell_type": "code",
   "execution_count": 14,
   "metadata": {},
   "outputs": [],
   "source": [
    "df = df.replace(np.nan, 0)"
   ]
  },
  {
   "attachments": {},
   "cell_type": "markdown",
   "metadata": {},
   "source": [
    "### Se conecta con la BD MySQL "
   ]
  },
  {
   "cell_type": "code",
   "execution_count": null,
   "metadata": {},
   "outputs": [],
   "source": [
    "con = pymysql.connect(\n",
    "      host='database-proyecto-final.cpjrl88bhdul.us-east-1.rds.amazonaws.com',\n",
    "      database='databaseuci',\n",
    "      user='admin',\n",
    "      password='datascience'\n",
    ")"
   ]
  },
  {
   "attachments": {},
   "cell_type": "markdown",
   "metadata": {},
   "source": [
    "### Inserta los registros del df \"INPUTEVENTS_CV\" en la BD"
   ]
  },
  {
   "cell_type": "code",
   "execution_count": 15,
   "metadata": {},
   "outputs": [],
   "source": [
    "sql_insert = ''' INSERT \n",
    "                   INTO  INPUTEVENTS_CV\n",
    "                         (row_id,subject_id,hadm_id,icustay_id,charttime,itemid,amount,amountuom,\n",
    "                         rate,rateuom,storetime,cgid,orderid,linkorderid,stopped,newbottle,\n",
    "                         originalamount,originalamountuom,originalroute,originalrate,\n",
    "                         originalrateuom,originalsite)\n",
    "                 VALUES  (%s, %s, %s, %s, %s, %s, %s, %s, %s, %s, %s, %s, %s, %s, %s, %s, %s, %s, %s, %s, %s, %s) '''\n",
    "cursor = con.cursor()\n",
    "for i in range(0, len(df)):\n",
    "    row = int(df.loc[i, 'row_id'])\n",
    "    subj = int(df.loc[i, 'subject_id'])\n",
    "    hadm = int(df.loc[i, 'hadm_id'])\n",
    "    icus = int(df.loc[i, 'icustay_id'])\n",
    "    cht = df.loc[i, 'charttime']\n",
    "    itd = int(df.loc[i, 'itemid'])\n",
    "    amt = float(df.loc[i, 'amount'])\n",
    "    amm = df.loc[i, 'amountuom']\n",
    "    rat = float(df.loc[i, 'rate'])\n",
    "    rtm = df.loc[i, 'rateuom']\n",
    "    stm = df.loc[i, 'storetime']\n",
    "    cgi = int(df.loc[i, 'cgid'])\n",
    "    oid = int(df.loc[i, 'orderid'])\n",
    "    lkd = int(df.loc[i, 'linkorderid'])\n",
    "    stp = df.loc[i, 'stopped']\n",
    "    nbt = int(df.loc[i, 'newbottle'])\n",
    "    ogm = float(df.loc[i, 'originalamount'])\n",
    "    ogu = df.loc[i, 'originalamountuom']\n",
    "    ogr = df.loc[i, 'originalroute']\n",
    "    oge = float(df.loc[i, 'originalrate'])\n",
    "    ogt = df.loc[i, 'originalrateuom']\n",
    "    ogs = df.loc[i, 'originalsite']\n",
    "    reg_s = (row, subj, hadm, icus, cht, itd, amt, amm, rat, rtm, stm, cgi, oid, lkd, stp, nbt, ogm, ogu, ogr,oge,ogt,ogs)\n",
    "    cursor.execute(sql_insert, reg_s)\n",
    "#cursor.fetchone()"
   ]
  },
  {
   "attachments": {},
   "cell_type": "markdown",
   "metadata": {},
   "source": [
    "### Confirma la inserción de los registros a la BD"
   ]
  },
  {
   "cell_type": "code",
   "execution_count": 16,
   "metadata": {},
   "outputs": [],
   "source": [
    "con.commit()"
   ]
  },
  {
   "attachments": {},
   "cell_type": "markdown",
   "metadata": {},
   "source": [
    "### Cierra el cursor y la conexion a la BD"
   ]
  },
  {
   "cell_type": "code",
   "execution_count": 17,
   "metadata": {},
   "outputs": [],
   "source": [
    "cursor.close()\n",
    "con.close()"
   ]
  }
 ],
 "metadata": {
  "kernelspec": {
   "display_name": "Python 3",
   "language": "python",
   "name": "python3"
  },
  "language_info": {
   "codemirror_mode": {
    "name": "ipython",
    "version": 3
   },
   "file_extension": ".py",
   "mimetype": "text/x-python",
   "name": "python",
   "nbconvert_exporter": "python",
   "pygments_lexer": "ipython3",
   "version": "3.10.6"
  },
  "orig_nbformat": 4
 },
 "nbformat": 4,
 "nbformat_minor": 2
}
