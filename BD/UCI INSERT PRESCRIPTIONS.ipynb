{
 "cells": [
  {
   "cell_type": "code",
   "execution_count": 1,
   "metadata": {},
   "outputs": [],
   "source": [
    "import pymysql\n",
    "import requests\n",
    "import pandas as pd\n",
    "import numpy as np"
   ]
  },
  {
   "attachments": {},
   "cell_type": "markdown",
   "metadata": {},
   "source": [
    "### Genera un df con el archivo csv \"PRESCRIPTIONS\""
   ]
  },
  {
   "cell_type": "code",
   "execution_count": 3,
   "metadata": {},
   "outputs": [
    {
     "data": {
      "text/html": [
       "<div>\n",
       "<style scoped>\n",
       "    .dataframe tbody tr th:only-of-type {\n",
       "        vertical-align: middle;\n",
       "    }\n",
       "\n",
       "    .dataframe tbody tr th {\n",
       "        vertical-align: top;\n",
       "    }\n",
       "\n",
       "    .dataframe thead th {\n",
       "        text-align: right;\n",
       "    }\n",
       "</style>\n",
       "<table border=\"1\" class=\"dataframe\">\n",
       "  <thead>\n",
       "    <tr style=\"text-align: right;\">\n",
       "      <th></th>\n",
       "      <th>row_id</th>\n",
       "      <th>subject_id</th>\n",
       "      <th>hadm_id</th>\n",
       "      <th>icustay_id</th>\n",
       "      <th>startdate</th>\n",
       "      <th>enddate</th>\n",
       "      <th>drug_type</th>\n",
       "      <th>drug</th>\n",
       "      <th>drug_name_poe</th>\n",
       "      <th>drug_name_generic</th>\n",
       "      <th>formulary_drug_cd</th>\n",
       "      <th>gsn</th>\n",
       "      <th>ndc</th>\n",
       "      <th>prod_strength</th>\n",
       "      <th>dose_val_rx</th>\n",
       "      <th>dose_unit_rx</th>\n",
       "      <th>form_val_disp</th>\n",
       "      <th>form_unit_disp</th>\n",
       "      <th>route</th>\n",
       "    </tr>\n",
       "  </thead>\n",
       "  <tbody>\n",
       "    <tr>\n",
       "      <th>0</th>\n",
       "      <td>32600</td>\n",
       "      <td>42458</td>\n",
       "      <td>159647</td>\n",
       "      <td>NaN</td>\n",
       "      <td>2146-07-21 00:00:00</td>\n",
       "      <td>2146-07-22 00:00:00</td>\n",
       "      <td>MAIN</td>\n",
       "      <td>Pneumococcal Vac Polyvalent</td>\n",
       "      <td>Pneumococcal Vac Polyvalent</td>\n",
       "      <td>PNEUMOcoccal Vac Polyvalent</td>\n",
       "      <td>PNEU25I</td>\n",
       "      <td>48548.0</td>\n",
       "      <td>6494300.0</td>\n",
       "      <td>25mcg/0.5mL Vial</td>\n",
       "      <td>0.5</td>\n",
       "      <td>mL</td>\n",
       "      <td>1</td>\n",
       "      <td>VIAL</td>\n",
       "      <td>IM</td>\n",
       "    </tr>\n",
       "    <tr>\n",
       "      <th>1</th>\n",
       "      <td>32601</td>\n",
       "      <td>42458</td>\n",
       "      <td>159647</td>\n",
       "      <td>NaN</td>\n",
       "      <td>2146-07-21 00:00:00</td>\n",
       "      <td>2146-07-22 00:00:00</td>\n",
       "      <td>MAIN</td>\n",
       "      <td>Bisacodyl</td>\n",
       "      <td>Bisacodyl</td>\n",
       "      <td>Bisacodyl</td>\n",
       "      <td>BISA5</td>\n",
       "      <td>2947.0</td>\n",
       "      <td>536338101.0</td>\n",
       "      <td>5 mg Tab</td>\n",
       "      <td>10</td>\n",
       "      <td>mg</td>\n",
       "      <td>2</td>\n",
       "      <td>TAB</td>\n",
       "      <td>PO</td>\n",
       "    </tr>\n",
       "    <tr>\n",
       "      <th>2</th>\n",
       "      <td>32602</td>\n",
       "      <td>42458</td>\n",
       "      <td>159647</td>\n",
       "      <td>NaN</td>\n",
       "      <td>2146-07-21 00:00:00</td>\n",
       "      <td>2146-07-22 00:00:00</td>\n",
       "      <td>MAIN</td>\n",
       "      <td>Bisacodyl</td>\n",
       "      <td>Bisacodyl</td>\n",
       "      <td>Bisacodyl (Rectal)</td>\n",
       "      <td>BISA10R</td>\n",
       "      <td>2944.0</td>\n",
       "      <td>574705050.0</td>\n",
       "      <td>10mg Suppository</td>\n",
       "      <td>10</td>\n",
       "      <td>mg</td>\n",
       "      <td>1</td>\n",
       "      <td>SUPP</td>\n",
       "      <td>PR</td>\n",
       "    </tr>\n",
       "  </tbody>\n",
       "</table>\n",
       "</div>"
      ],
      "text/plain": [
       "   row_id  subject_id  hadm_id  icustay_id            startdate  \\\n",
       "0   32600       42458   159647         NaN  2146-07-21 00:00:00   \n",
       "1   32601       42458   159647         NaN  2146-07-21 00:00:00   \n",
       "2   32602       42458   159647         NaN  2146-07-21 00:00:00   \n",
       "\n",
       "               enddate drug_type                         drug  \\\n",
       "0  2146-07-22 00:00:00      MAIN  Pneumococcal Vac Polyvalent   \n",
       "1  2146-07-22 00:00:00      MAIN                    Bisacodyl   \n",
       "2  2146-07-22 00:00:00      MAIN                    Bisacodyl   \n",
       "\n",
       "                 drug_name_poe            drug_name_generic formulary_drug_cd  \\\n",
       "0  Pneumococcal Vac Polyvalent  PNEUMOcoccal Vac Polyvalent           PNEU25I   \n",
       "1                    Bisacodyl                    Bisacodyl             BISA5   \n",
       "2                    Bisacodyl           Bisacodyl (Rectal)           BISA10R   \n",
       "\n",
       "       gsn          ndc     prod_strength dose_val_rx dose_unit_rx  \\\n",
       "0  48548.0    6494300.0  25mcg/0.5mL Vial         0.5           mL   \n",
       "1   2947.0  536338101.0          5 mg Tab          10           mg   \n",
       "2   2944.0  574705050.0  10mg Suppository          10           mg   \n",
       "\n",
       "  form_val_disp form_unit_disp route  \n",
       "0             1           VIAL    IM  \n",
       "1             2            TAB    PO  \n",
       "2             1           SUPP    PR  "
      ]
     },
     "execution_count": 3,
     "metadata": {},
     "output_type": "execute_result"
    }
   ],
   "source": [
    "df = pd.read_csv('C:\\\\Users\\\\cfari\\OneDrive\\\\Escritorio\\\\PF_GRUPAL\\\\DATASET\\\\PRESCRIPTIONS.csv', encoding='UTF-8', delimiter=',', decimal='.')\n",
    "df.head(3)"
   ]
  },
  {
   "cell_type": "code",
   "execution_count": 4,
   "metadata": {},
   "outputs": [],
   "source": [
    "df = df.replace(np.nan, 0)"
   ]
  },
  {
   "attachments": {},
   "cell_type": "markdown",
   "metadata": {},
   "source": [
    "### Se conecta con la BD MySQL"
   ]
  },
  {
   "cell_type": "code",
   "execution_count": null,
   "metadata": {},
   "outputs": [],
   "source": [
    "con = pymysql.connect(\n",
    "      host='database-proyecto-final.cpjrl88bhdul.us-east-1.rds.amazonaws.com',\n",
    "      database='databaseuci',\n",
    "      user='admin',\n",
    "      password='datascience'\n",
    ")"
   ]
  },
  {
   "attachments": {},
   "cell_type": "markdown",
   "metadata": {},
   "source": [
    "### Inserta los registros del df \"PRESCRIPTIONS\" en la BD"
   ]
  },
  {
   "cell_type": "code",
   "execution_count": 5,
   "metadata": {},
   "outputs": [],
   "source": [
    "sql_insert = ''' INSERT \n",
    "                   INTO  PRESCRIPTIONS\n",
    "                         (row_id,subject_id,hadm_id,icustay_id,startdate,enddate,drug_type,drug,drug_name_poe,drug_name_generic,formulary_drug_cd,gsn,ndc,prod_strength,dose_val_rx,dose_unit_rx,form_val_disp,form_unit_disp,route)\n",
    "                 VALUES  (%s, %s, %s, %s, %s, %s, %s, %s,%s, %s, %s, %s, %s, %s, %s, %s,%s, %s, %s) '''\n",
    "cursor = con.cursor()\n",
    "for i in range(0, len(df)):\n",
    "    row = int(df.loc[i, 'row_id'])\n",
    "    subj = int(df.loc[i, 'subject_id'])\n",
    "    hadm = int(df.loc[i, 'hadm_id'])\n",
    "    icu = int(df.loc[i, 'icustay_id'])\n",
    "    sta = df.loc[i, 'startdate']\n",
    "    end = df.loc[i, 'enddate']\n",
    "    drt = df.loc[i, 'drug_type']\n",
    "    drg = df.loc[i, 'drug']\n",
    "    dnp = df.loc[i, 'drug_name_poe']\n",
    "    dng = df.loc[i, 'drug_name_generic']\n",
    "    fdc = df.loc[i, 'formulary_drug_cd']\n",
    "    gsn = df.loc[i, 'gsn']\n",
    "    ndc = df.loc[i, 'ndc']\n",
    "    prs = df.loc[i, 'prod_strength']\n",
    "    dvr = df.loc[i, 'dose_val_rx']\n",
    "    dur = df.loc[i, 'dose_unit_rx']\n",
    "    fvd = df.loc[i, 'form_val_disp']\n",
    "    fud = df.loc[i, 'form_unit_disp']\n",
    "    rte = df.loc[i, 'route']\n",
    "    reg_s = (row, subj, hadm, icu, sta, end, drt, drg, dnp, dng, fdc, gsn, ndc, prs, dvr, dur, fvd, fud, rte)\n",
    "    cursor.execute(sql_insert, reg_s)\n",
    "#cursor.fetchone()"
   ]
  },
  {
   "attachments": {},
   "cell_type": "markdown",
   "metadata": {},
   "source": [
    "### Confirma la inserción de los registros a la BD"
   ]
  },
  {
   "cell_type": "code",
   "execution_count": 6,
   "metadata": {},
   "outputs": [],
   "source": [
    "con.commit()"
   ]
  },
  {
   "attachments": {},
   "cell_type": "markdown",
   "metadata": {},
   "source": [
    "### Cierra el cursor y la conexión a la BD"
   ]
  },
  {
   "cell_type": "code",
   "execution_count": 8,
   "metadata": {},
   "outputs": [
    {
     "ename": "Error",
     "evalue": "Already closed",
     "output_type": "error",
     "traceback": [
      "\u001b[1;31m---------------------------------------------------------------------------\u001b[0m",
      "\u001b[1;31mError\u001b[0m                                     Traceback (most recent call last)",
      "\u001b[1;32mc:\\Users\\cfari\\OneDrive\\Escritorio\\PF_GRUPAL\\NEW_DATAS\\UCI INSERT PRESCRIPTIONS.ipynb Cell 12\u001b[0m in \u001b[0;36m<cell line: 2>\u001b[1;34m()\u001b[0m\n\u001b[0;32m      <a href='vscode-notebook-cell:/c%3A/Users/cfari/OneDrive/Escritorio/PF_GRUPAL/NEW_DATAS/UCI%20INSERT%20PRESCRIPTIONS.ipynb#X14sZmlsZQ%3D%3D?line=0'>1</a>\u001b[0m cursor\u001b[39m.\u001b[39mclose()\n\u001b[1;32m----> <a href='vscode-notebook-cell:/c%3A/Users/cfari/OneDrive/Escritorio/PF_GRUPAL/NEW_DATAS/UCI%20INSERT%20PRESCRIPTIONS.ipynb#X14sZmlsZQ%3D%3D?line=1'>2</a>\u001b[0m con\u001b[39m.\u001b[39;49mclose()\n",
      "File \u001b[1;32mc:\\Users\\cfari\\AppData\\Local\\Programs\\Python\\Python310\\lib\\site-packages\\pymysql\\connections.py:404\u001b[0m, in \u001b[0;36mConnection.close\u001b[1;34m(self)\u001b[0m\n\u001b[0;32m    395\u001b[0m \u001b[39m\u001b[39m\u001b[39m\"\"\"\u001b[39;00m\n\u001b[0;32m    396\u001b[0m \u001b[39mSend the quit message and close the socket.\u001b[39;00m\n\u001b[0;32m    397\u001b[0m \n\u001b[1;32m   (...)\u001b[0m\n\u001b[0;32m    401\u001b[0m \u001b[39m:raise Error: If the connection is already closed.\u001b[39;00m\n\u001b[0;32m    402\u001b[0m \u001b[39m\"\"\"\u001b[39;00m\n\u001b[0;32m    403\u001b[0m \u001b[39mif\u001b[39;00m \u001b[39mself\u001b[39m\u001b[39m.\u001b[39m_closed:\n\u001b[1;32m--> 404\u001b[0m     \u001b[39mraise\u001b[39;00m err\u001b[39m.\u001b[39mError(\u001b[39m\"\u001b[39m\u001b[39mAlready closed\u001b[39m\u001b[39m\"\u001b[39m)\n\u001b[0;32m    405\u001b[0m \u001b[39mself\u001b[39m\u001b[39m.\u001b[39m_closed \u001b[39m=\u001b[39m \u001b[39mTrue\u001b[39;00m\n\u001b[0;32m    406\u001b[0m \u001b[39mif\u001b[39;00m \u001b[39mself\u001b[39m\u001b[39m.\u001b[39m_sock \u001b[39mis\u001b[39;00m \u001b[39mNone\u001b[39;00m:\n",
      "\u001b[1;31mError\u001b[0m: Already closed"
     ]
    }
   ],
   "source": [
    "cursor.close()\n",
    "con.close()"
   ]
  }
 ],
 "metadata": {
  "kernelspec": {
   "display_name": "Python 3",
   "language": "python",
   "name": "python3"
  },
  "language_info": {
   "codemirror_mode": {
    "name": "ipython",
    "version": 3
   },
   "file_extension": ".py",
   "mimetype": "text/x-python",
   "name": "python",
   "nbconvert_exporter": "python",
   "pygments_lexer": "ipython3",
   "version": "3.10.6"
  },
  "orig_nbformat": 4
 },
 "nbformat": 4,
 "nbformat_minor": 2
}
