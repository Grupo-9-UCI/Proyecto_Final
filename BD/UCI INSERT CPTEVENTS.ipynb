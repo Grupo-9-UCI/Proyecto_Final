{
 "cells": [
  {
   "cell_type": "code",
   "execution_count": 1,
   "metadata": {},
   "outputs": [],
   "source": [
    "import pymysql\n",
    "import requests\n",
    "import pandas as pd\n",
    "import numpy as np"
   ]
  },
  {
   "attachments": {},
   "cell_type": "markdown",
   "metadata": {},
   "source": [
    "### Genera un df con el archivo `csv` \"CPTEVENTS\""
   ]
  },
  {
   "cell_type": "code",
   "execution_count": 2,
   "metadata": {},
   "outputs": [
    {
     "data": {
      "text/html": [
       "<div>\n",
       "<style scoped>\n",
       "    .dataframe tbody tr th:only-of-type {\n",
       "        vertical-align: middle;\n",
       "    }\n",
       "\n",
       "    .dataframe tbody tr th {\n",
       "        vertical-align: top;\n",
       "    }\n",
       "\n",
       "    .dataframe thead th {\n",
       "        text-align: right;\n",
       "    }\n",
       "</style>\n",
       "<table border=\"1\" class=\"dataframe\">\n",
       "  <thead>\n",
       "    <tr style=\"text-align: right;\">\n",
       "      <th></th>\n",
       "      <th>row_id</th>\n",
       "      <th>subject_id</th>\n",
       "      <th>hadm_id</th>\n",
       "      <th>costcenter</th>\n",
       "      <th>chartdate</th>\n",
       "      <th>cpt_cd</th>\n",
       "      <th>cpt_number</th>\n",
       "      <th>cpt_suffix</th>\n",
       "      <th>ticket_id_seq</th>\n",
       "      <th>sectionheader</th>\n",
       "      <th>subsectionheader</th>\n",
       "      <th>description</th>\n",
       "    </tr>\n",
       "  </thead>\n",
       "  <tbody>\n",
       "    <tr>\n",
       "      <th>0</th>\n",
       "      <td>4615</td>\n",
       "      <td>10117</td>\n",
       "      <td>105150</td>\n",
       "      <td>ICU</td>\n",
       "      <td>NaN</td>\n",
       "      <td>99254</td>\n",
       "      <td>99254</td>\n",
       "      <td>NaN</td>\n",
       "      <td>1.0</td>\n",
       "      <td>Evaluation and management</td>\n",
       "      <td>Consultations</td>\n",
       "      <td>NaN</td>\n",
       "    </tr>\n",
       "    <tr>\n",
       "      <th>1</th>\n",
       "      <td>4616</td>\n",
       "      <td>10117</td>\n",
       "      <td>105150</td>\n",
       "      <td>ICU</td>\n",
       "      <td>NaN</td>\n",
       "      <td>99231</td>\n",
       "      <td>99231</td>\n",
       "      <td>NaN</td>\n",
       "      <td>2.0</td>\n",
       "      <td>Evaluation and management</td>\n",
       "      <td>Hospital inpatient services</td>\n",
       "      <td>NaN</td>\n",
       "    </tr>\n",
       "    <tr>\n",
       "      <th>2</th>\n",
       "      <td>4617</td>\n",
       "      <td>10117</td>\n",
       "      <td>105150</td>\n",
       "      <td>ICU</td>\n",
       "      <td>NaN</td>\n",
       "      <td>90935</td>\n",
       "      <td>90935</td>\n",
       "      <td>NaN</td>\n",
       "      <td>3.0</td>\n",
       "      <td>Medicine</td>\n",
       "      <td>Dialysis</td>\n",
       "      <td>NaN</td>\n",
       "    </tr>\n",
       "  </tbody>\n",
       "</table>\n",
       "</div>"
      ],
      "text/plain": [
       "   row_id  subject_id  hadm_id costcenter chartdate  cpt_cd  cpt_number  \\\n",
       "0    4615       10117   105150        ICU       NaN   99254       99254   \n",
       "1    4616       10117   105150        ICU       NaN   99231       99231   \n",
       "2    4617       10117   105150        ICU       NaN   90935       90935   \n",
       "\n",
       "   cpt_suffix  ticket_id_seq              sectionheader  \\\n",
       "0         NaN            1.0  Evaluation and management   \n",
       "1         NaN            2.0  Evaluation and management   \n",
       "2         NaN            3.0                   Medicine   \n",
       "\n",
       "              subsectionheader description  \n",
       "0                Consultations         NaN  \n",
       "1  Hospital inpatient services         NaN  \n",
       "2                     Dialysis         NaN  "
      ]
     },
     "execution_count": 2,
     "metadata": {},
     "output_type": "execute_result"
    }
   ],
   "source": [
    "df = pd.read_csv('C:\\\\ProgramData\\\\MySQL\\\\MySQL Server 8.0\\\\Uploads\\\\CPTEVENTS.csv', encoding='UTF-8', delimiter=',', decimal='.')\n",
    "df.head(3)"
   ]
  },
  {
   "cell_type": "code",
   "execution_count": 3,
   "metadata": {},
   "outputs": [],
   "source": [
    "df = df.replace(np.nan, 0)"
   ]
  },
  {
   "cell_type": "markdown",
   "metadata": {},
   "source": [
    "### Se conecta con la BD MySQL AWS"
   ]
  },
  {
   "cell_type": "code",
   "execution_count": 4,
   "metadata": {},
   "outputs": [],
   "source": [
    "con = pymysql.connect(\n",
    "      host='database-proyecto-final.cpjrl88bhdul.us-east-1.rds.amazonaws.com',\n",
    "      database='databaseuci',\n",
    "      user='admin',\n",
    "      password='datascience'\n",
    ")"
   ]
  },
  {
   "attachments": {},
   "cell_type": "markdown",
   "metadata": {},
   "source": [
    "### Inserta los registros del df \"CPTEVENTS\" en la BD"
   ]
  },
  {
   "cell_type": "code",
   "execution_count": 5,
   "metadata": {},
   "outputs": [],
   "source": [
    "sql_insert = ''' INSERT \n",
    "                   INTO  CPTEVENTS\n",
    "                         (row_id, subject_id, hadm_id, costcenter, chartdate, cpt_cd, cpt_number, cpt_suffix, ticket_id_seq, \n",
    "                          sectionheader, subsectionheader, description)\n",
    "                 VALUES  (%s, %s, %s, %s, %s, %s, %s, %s, %s, %s, %s, %s) '''\n",
    "num_reng = 0\n",
    "cursor = con.cursor()\n",
    "for i in range(0, len(df)):\n",
    "    row = int(df.loc[i, 'row_id'])\n",
    "    subj = int(df.loc[i, 'subject_id'])\n",
    "    hadm = int(df.loc[i, 'hadm_id'])\n",
    "    coce = df.loc[i, 'costcenter']\n",
    "    chdt = df.loc[i, 'chartdate']\n",
    "    cptc = df.loc[i, 'cpt_cd']\n",
    "    cptn = int(df.loc[i, 'cpt_number'])\n",
    "    cpts = df.loc[i, 'cpt_suffix']\n",
    "    tkid = int(df.loc[i, 'ticket_id_seq'])\n",
    "    sehd = df.loc[i, 'sectionheader']\n",
    "    sbhd = df.loc[i, 'subsectionheader']\n",
    "    desc = df.loc[i, 'description']\n",
    "    reg_s = (row, subj, hadm, coce, chdt, cptc, cptn, cpts, tkid, sehd, sbhd, desc)\n",
    "    cursor.execute(sql_insert, reg_s)\n",
    "    num_reng += 1\n",
    "    if num_reng == 100:\n",
    "        con.commit()\n",
    "        num_reng = 0"
   ]
  },
  {
   "attachments": {},
   "cell_type": "markdown",
   "metadata": {},
   "source": [
    "### Confirma la inserción de los registros a la BD"
   ]
  },
  {
   "cell_type": "code",
   "execution_count": 6,
   "metadata": {},
   "outputs": [
    {
     "ename": "OperationalError",
     "evalue": "(2013, 'Lost connection to MySQL server during query ([WinError 10060] Se produjo un error durante el intento de conexión ya que la parte conectada no respondió adecuadamente tras un periodo de tiempo, o bien se produjo un error en la conexión establecida ya que el host conectado no ha podido responder)')",
     "output_type": "error",
     "traceback": [
      "\u001b[1;31m---------------------------------------------------------------------------\u001b[0m",
      "\u001b[1;31mTimeoutError\u001b[0m                              Traceback (most recent call last)",
      "File \u001b[1;32mc:\\ProgramData\\Anaconda3\\envs\\henry\\lib\\site-packages\\pymysql\\connections.py:732\u001b[0m, in \u001b[0;36mConnection._read_bytes\u001b[1;34m(self, num_bytes)\u001b[0m\n\u001b[0;32m    731\u001b[0m \u001b[39mtry\u001b[39;00m:\n\u001b[1;32m--> 732\u001b[0m     data \u001b[39m=\u001b[39m \u001b[39mself\u001b[39;49m\u001b[39m.\u001b[39;49m_rfile\u001b[39m.\u001b[39;49mread(num_bytes)\n\u001b[0;32m    733\u001b[0m     \u001b[39mbreak\u001b[39;00m\n",
      "File \u001b[1;32mc:\\ProgramData\\Anaconda3\\envs\\henry\\lib\\socket.py:705\u001b[0m, in \u001b[0;36mSocketIO.readinto\u001b[1;34m(self, b)\u001b[0m\n\u001b[0;32m    704\u001b[0m \u001b[39mtry\u001b[39;00m:\n\u001b[1;32m--> 705\u001b[0m     \u001b[39mreturn\u001b[39;00m \u001b[39mself\u001b[39;49m\u001b[39m.\u001b[39;49m_sock\u001b[39m.\u001b[39;49mrecv_into(b)\n\u001b[0;32m    706\u001b[0m \u001b[39mexcept\u001b[39;00m timeout:\n",
      "\u001b[1;31mTimeoutError\u001b[0m: [WinError 10060] Se produjo un error durante el intento de conexión ya que la parte conectada no respondió adecuadamente tras un periodo de tiempo, o bien se produjo un error en la conexión establecida ya que el host conectado no ha podido responder",
      "\nDuring handling of the above exception, another exception occurred:\n",
      "\u001b[1;31mOperationalError\u001b[0m                          Traceback (most recent call last)",
      "\u001b[1;32md:\\Henry\\Repo\\PF\\Scripts\\UCI INSERT CPTEVENTS.ipynb Cell 10\u001b[0m in \u001b[0;36m1\n\u001b[1;32m----> <a href='vscode-notebook-cell:/d%3A/Henry/Repo/PF/Scripts/UCI%20INSERT%20CPTEVENTS.ipynb#X12sZmlsZQ%3D%3D?line=0'>1</a>\u001b[0m con\u001b[39m.\u001b[39;49mcommit()\n",
      "File \u001b[1;32mc:\\ProgramData\\Anaconda3\\envs\\henry\\lib\\site-packages\\pymysql\\connections.py:470\u001b[0m, in \u001b[0;36mConnection.commit\u001b[1;34m(self)\u001b[0m\n\u001b[0;32m    463\u001b[0m \u001b[39m\"\"\"\u001b[39;00m\n\u001b[0;32m    464\u001b[0m \u001b[39mCommit changes to stable storage.\u001b[39;00m\n\u001b[0;32m    465\u001b[0m \n\u001b[0;32m    466\u001b[0m \u001b[39mSee `Connection.commit() <https://www.python.org/dev/peps/pep-0249/#commit>`_\u001b[39;00m\n\u001b[0;32m    467\u001b[0m \u001b[39min the specification.\u001b[39;00m\n\u001b[0;32m    468\u001b[0m \u001b[39m\"\"\"\u001b[39;00m\n\u001b[0;32m    469\u001b[0m \u001b[39mself\u001b[39m\u001b[39m.\u001b[39m_execute_command(COMMAND\u001b[39m.\u001b[39mCOM_QUERY, \u001b[39m\"\u001b[39m\u001b[39mCOMMIT\u001b[39m\u001b[39m\"\u001b[39m)\n\u001b[1;32m--> 470\u001b[0m \u001b[39mself\u001b[39;49m\u001b[39m.\u001b[39;49m_read_ok_packet()\n",
      "File \u001b[1;32mc:\\ProgramData\\Anaconda3\\envs\\henry\\lib\\site-packages\\pymysql\\connections.py:443\u001b[0m, in \u001b[0;36mConnection._read_ok_packet\u001b[1;34m(self)\u001b[0m\n\u001b[0;32m    442\u001b[0m \u001b[39mdef\u001b[39;00m \u001b[39m_read_ok_packet\u001b[39m(\u001b[39mself\u001b[39m):\n\u001b[1;32m--> 443\u001b[0m     pkt \u001b[39m=\u001b[39m \u001b[39mself\u001b[39;49m\u001b[39m.\u001b[39;49m_read_packet()\n\u001b[0;32m    444\u001b[0m     \u001b[39mif\u001b[39;00m \u001b[39mnot\u001b[39;00m pkt\u001b[39m.\u001b[39mis_ok_packet():\n\u001b[0;32m    445\u001b[0m         \u001b[39mraise\u001b[39;00m err\u001b[39m.\u001b[39mOperationalError(\u001b[39m2014\u001b[39m, \u001b[39m\"\u001b[39m\u001b[39mCommand Out of Sync\u001b[39m\u001b[39m\"\u001b[39m)\n",
      "File \u001b[1;32mc:\\ProgramData\\Anaconda3\\envs\\henry\\lib\\site-packages\\pymysql\\connections.py:692\u001b[0m, in \u001b[0;36mConnection._read_packet\u001b[1;34m(self, packet_type)\u001b[0m\n\u001b[0;32m    690\u001b[0m buff \u001b[39m=\u001b[39m \u001b[39mbytearray\u001b[39m()\n\u001b[0;32m    691\u001b[0m \u001b[39mwhile\u001b[39;00m \u001b[39mTrue\u001b[39;00m:\n\u001b[1;32m--> 692\u001b[0m     packet_header \u001b[39m=\u001b[39m \u001b[39mself\u001b[39;49m\u001b[39m.\u001b[39;49m_read_bytes(\u001b[39m4\u001b[39;49m)\n\u001b[0;32m    693\u001b[0m     \u001b[39m# if DEBUG: dump_packet(packet_header)\u001b[39;00m\n\u001b[0;32m    695\u001b[0m     btrl, btrh, packet_number \u001b[39m=\u001b[39m struct\u001b[39m.\u001b[39munpack(\u001b[39m\"\u001b[39m\u001b[39m<HBB\u001b[39m\u001b[39m\"\u001b[39m, packet_header)\n",
      "File \u001b[1;32mc:\\ProgramData\\Anaconda3\\envs\\henry\\lib\\site-packages\\pymysql\\connections.py:738\u001b[0m, in \u001b[0;36mConnection._read_bytes\u001b[1;34m(self, num_bytes)\u001b[0m\n\u001b[0;32m    736\u001b[0m         \u001b[39mcontinue\u001b[39;00m\n\u001b[0;32m    737\u001b[0m     \u001b[39mself\u001b[39m\u001b[39m.\u001b[39m_force_close()\n\u001b[1;32m--> 738\u001b[0m     \u001b[39mraise\u001b[39;00m err\u001b[39m.\u001b[39mOperationalError(\n\u001b[0;32m    739\u001b[0m         CR\u001b[39m.\u001b[39mCR_SERVER_LOST,\n\u001b[0;32m    740\u001b[0m         \u001b[39m\"\u001b[39m\u001b[39mLost connection to MySQL server during query (\u001b[39m\u001b[39m%s\u001b[39;00m\u001b[39m)\u001b[39m\u001b[39m\"\u001b[39m \u001b[39m%\u001b[39m (e,),\n\u001b[0;32m    741\u001b[0m     )\n\u001b[0;32m    742\u001b[0m \u001b[39mexcept\u001b[39;00m \u001b[39mBaseException\u001b[39;00m:\n\u001b[0;32m    743\u001b[0m     \u001b[39m# Don't convert unknown exception to MySQLError.\u001b[39;00m\n\u001b[0;32m    744\u001b[0m     \u001b[39mself\u001b[39m\u001b[39m.\u001b[39m_force_close()\n",
      "\u001b[1;31mOperationalError\u001b[0m: (2013, 'Lost connection to MySQL server during query ([WinError 10060] Se produjo un error durante el intento de conexión ya que la parte conectada no respondió adecuadamente tras un periodo de tiempo, o bien se produjo un error en la conexión establecida ya que el host conectado no ha podido responder)')"
     ]
    }
   ],
   "source": [
    "con.commit()"
   ]
  },
  {
   "cell_type": "markdown",
   "metadata": {},
   "source": [
    "### Cierra el cursor y la conexion a la BD"
   ]
  },
  {
   "cell_type": "code",
   "execution_count": 7,
   "metadata": {},
   "outputs": [],
   "source": [
    "cursor.close()\n",
    "con.close()"
   ]
  }
 ],
 "metadata": {
  "kernelspec": {
   "display_name": "Python 3.10.6 ('spyder-env')",
   "language": "python",
   "name": "python3"
  },
  "language_info": {
   "codemirror_mode": {
    "name": "ipython",
    "version": 3
   },
   "file_extension": ".py",
   "mimetype": "text/x-python",
   "name": "python",
   "nbconvert_exporter": "python",
   "pygments_lexer": "ipython3",
   "version": "3.10.9"
  },
  "orig_nbformat": 4,
  "vscode": {
   "interpreter": {
    "hash": "db9742d71afbc4cd9ba311cf401982ea65339721199a1967326796af4afacaff"
   }
  }
 },
 "nbformat": 4,
 "nbformat_minor": 2
}
