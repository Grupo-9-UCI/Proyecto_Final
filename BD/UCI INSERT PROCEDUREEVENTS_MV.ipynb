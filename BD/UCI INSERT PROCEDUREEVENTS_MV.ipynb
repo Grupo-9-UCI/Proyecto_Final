{
 "cells": [
  {
   "cell_type": "code",
   "execution_count": 4,
   "metadata": {},
   "outputs": [],
   "source": [
    "import pymysql\n",
    "import requests\n",
    "import pandas as pd\n",
    "import numpy as np"
   ]
  },
  {
   "attachments": {},
   "cell_type": "markdown",
   "metadata": {},
   "source": [
    "### Genera un df con el archivo csv \"PROCEDUREEVENTS_MV\""
   ]
  },
  {
   "cell_type": "code",
   "execution_count": 6,
   "metadata": {},
   "outputs": [
    {
     "data": {
      "text/html": [
       "<div>\n",
       "<style scoped>\n",
       "    .dataframe tbody tr th:only-of-type {\n",
       "        vertical-align: middle;\n",
       "    }\n",
       "\n",
       "    .dataframe tbody tr th {\n",
       "        vertical-align: top;\n",
       "    }\n",
       "\n",
       "    .dataframe thead th {\n",
       "        text-align: right;\n",
       "    }\n",
       "</style>\n",
       "<table border=\"1\" class=\"dataframe\">\n",
       "  <thead>\n",
       "    <tr style=\"text-align: right;\">\n",
       "      <th></th>\n",
       "      <th>row_id</th>\n",
       "      <th>subject_id</th>\n",
       "      <th>hadm_id</th>\n",
       "      <th>icustay_id</th>\n",
       "      <th>starttime</th>\n",
       "      <th>endtime</th>\n",
       "      <th>itemid</th>\n",
       "      <th>value</th>\n",
       "      <th>valueuom</th>\n",
       "      <th>location</th>\n",
       "      <th>...</th>\n",
       "      <th>ordercategoryname</th>\n",
       "      <th>secondaryordercategoryname</th>\n",
       "      <th>ordercategorydescription</th>\n",
       "      <th>isopenbag</th>\n",
       "      <th>continueinnextdept</th>\n",
       "      <th>cancelreason</th>\n",
       "      <th>statusdescription</th>\n",
       "      <th>comments_editedby</th>\n",
       "      <th>comments_canceledby</th>\n",
       "      <th>comments_date</th>\n",
       "    </tr>\n",
       "  </thead>\n",
       "  <tbody>\n",
       "    <tr>\n",
       "      <th>0</th>\n",
       "      <td>8641</td>\n",
       "      <td>42367</td>\n",
       "      <td>139932</td>\n",
       "      <td>250305</td>\n",
       "      <td>2147-10-03 16:40:00</td>\n",
       "      <td>2147-10-06 20:00:00</td>\n",
       "      <td>224263</td>\n",
       "      <td>4520</td>\n",
       "      <td>min</td>\n",
       "      <td>Right Femoral.</td>\n",
       "      <td>...</td>\n",
       "      <td>Invasive Lines</td>\n",
       "      <td>NaN</td>\n",
       "      <td>Task</td>\n",
       "      <td>1</td>\n",
       "      <td>0</td>\n",
       "      <td>0</td>\n",
       "      <td>FinishedRunning</td>\n",
       "      <td>NaN</td>\n",
       "      <td>NaN</td>\n",
       "      <td>NaN</td>\n",
       "    </tr>\n",
       "    <tr>\n",
       "      <th>1</th>\n",
       "      <td>8642</td>\n",
       "      <td>42367</td>\n",
       "      <td>139932</td>\n",
       "      <td>250305</td>\n",
       "      <td>2147-10-03 16:41:00</td>\n",
       "      <td>2147-10-12 16:38:00</td>\n",
       "      <td>225204</td>\n",
       "      <td>12957</td>\n",
       "      <td>min</td>\n",
       "      <td>Right Antecube</td>\n",
       "      <td>...</td>\n",
       "      <td>Invasive Lines</td>\n",
       "      <td>NaN</td>\n",
       "      <td>Task</td>\n",
       "      <td>1</td>\n",
       "      <td>0</td>\n",
       "      <td>0</td>\n",
       "      <td>FinishedRunning</td>\n",
       "      <td>NaN</td>\n",
       "      <td>NaN</td>\n",
       "      <td>NaN</td>\n",
       "    </tr>\n",
       "    <tr>\n",
       "      <th>2</th>\n",
       "      <td>8643</td>\n",
       "      <td>42367</td>\n",
       "      <td>139932</td>\n",
       "      <td>250305</td>\n",
       "      <td>2147-10-03 17:10:00</td>\n",
       "      <td>2147-10-18 15:15:00</td>\n",
       "      <td>225792</td>\n",
       "      <td>21485</td>\n",
       "      <td>min</td>\n",
       "      <td>NaN</td>\n",
       "      <td>...</td>\n",
       "      <td>Ventilation</td>\n",
       "      <td>NaN</td>\n",
       "      <td>Task</td>\n",
       "      <td>1</td>\n",
       "      <td>0</td>\n",
       "      <td>0</td>\n",
       "      <td>FinishedRunning</td>\n",
       "      <td>NaN</td>\n",
       "      <td>NaN</td>\n",
       "      <td>NaN</td>\n",
       "    </tr>\n",
       "  </tbody>\n",
       "</table>\n",
       "<p>3 rows × 25 columns</p>\n",
       "</div>"
      ],
      "text/plain": [
       "   row_id  subject_id  hadm_id  icustay_id            starttime  \\\n",
       "0    8641       42367   139932      250305  2147-10-03 16:40:00   \n",
       "1    8642       42367   139932      250305  2147-10-03 16:41:00   \n",
       "2    8643       42367   139932      250305  2147-10-03 17:10:00   \n",
       "\n",
       "               endtime  itemid  value valueuom         location  ...  \\\n",
       "0  2147-10-06 20:00:00  224263   4520      min   Right Femoral.  ...   \n",
       "1  2147-10-12 16:38:00  225204  12957      min  Right Antecube   ...   \n",
       "2  2147-10-18 15:15:00  225792  21485      min              NaN  ...   \n",
       "\n",
       "  ordercategoryname secondaryordercategoryname  ordercategorydescription  \\\n",
       "0    Invasive Lines                        NaN                      Task   \n",
       "1    Invasive Lines                        NaN                      Task   \n",
       "2       Ventilation                        NaN                      Task   \n",
       "\n",
       "   isopenbag  continueinnextdept cancelreason  statusdescription  \\\n",
       "0          1                   0            0    FinishedRunning   \n",
       "1          1                   0            0    FinishedRunning   \n",
       "2          1                   0            0    FinishedRunning   \n",
       "\n",
       "  comments_editedby  comments_canceledby  comments_date  \n",
       "0               NaN                  NaN            NaN  \n",
       "1               NaN                  NaN            NaN  \n",
       "2               NaN                  NaN            NaN  \n",
       "\n",
       "[3 rows x 25 columns]"
      ]
     },
     "execution_count": 6,
     "metadata": {},
     "output_type": "execute_result"
    }
   ],
   "source": [
    "df = pd.read_csv('C:\\\\Users\\\\cfari\\OneDrive\\\\Escritorio\\\\PF_GRUPAL\\\\DATASET\\\\PROCEDUREEVENTS_MV.csv', encoding='UTF-8', delimiter=',', decimal='.')\n",
    "df.head(3)"
   ]
  },
  {
   "cell_type": "code",
   "execution_count": 7,
   "metadata": {},
   "outputs": [],
   "source": [
    "df = df.replace(np.nan, 0)"
   ]
  },
  {
   "attachments": {},
   "cell_type": "markdown",
   "metadata": {},
   "source": [
    "### Se conecta con la BD MySQL"
   ]
  },
  {
   "cell_type": "code",
   "execution_count": null,
   "metadata": {},
   "outputs": [],
   "source": [
    "con = pymysql.connect(\n",
    "      host='database-proyecto-final.cpjrl88bhdul.us-east-1.rds.amazonaws.com',\n",
    "      database='databaseuci',\n",
    "      user='admin',\n",
    "      password='datascience'\n",
    ")"
   ]
  },
  {
   "attachments": {},
   "cell_type": "markdown",
   "metadata": {},
   "source": [
    "### Inserta los registros del df \"PROCEDUREEVENTS_MV\" en la BD"
   ]
  },
  {
   "cell_type": "code",
   "execution_count": 8,
   "metadata": {},
   "outputs": [],
   "source": [
    "sql_insert = ''' INSERT \n",
    "                   INTO  PROCEDUREEVENTS_MV\n",
    "                         (row_id,subject_id,hadm_id,icustay_id,starttime,endtime,itemid,value,valueuom,location,locationcategory,storetime,cgid,orderid,\n",
    "                         linkorderid,ordercategoryname,secondaryordercategoryname,ordercategorydescription,isopenbag,continueinnextdept,cancelreason,\n",
    "                         statusdescription,comments_editedby,comments_canceledby,comments_date)\n",
    "                 VALUES  (%s, %s, %s, %s, %s, %s, %s, %s, %s, %s, %s, %s, %s, %s, %s, %s, %s, %s, %s, %s, %s, %s, %s, %s, %s) '''\n",
    "cursor = con.cursor()\n",
    "for i in range(0, len(df)):\n",
    "    row = int(df.loc[i, 'row_id'])\n",
    "    subj = int(df.loc[i, 'subject_id'])\n",
    "    hadm = int(df.loc[i, 'hadm_id'])\n",
    "    icus = int(df.loc[i, 'icustay_id'])\n",
    "    stt = df.loc[i, 'starttime']\n",
    "    end = df.loc[i, 'endtime']\n",
    "    itd = int(df.loc[i, 'itemid'])\n",
    "    val = float(df.loc[i, 'value'])\n",
    "    vlm = df.loc[i, 'valueuom']\n",
    "    loc = df.loc[i, 'location']\n",
    "    lca = df.loc[i, 'locationcategory']\n",
    "    stm = df.loc[i, 'storetime']\n",
    "    cgi = int(df.loc[i, 'cgid'])\n",
    "    oid = int(df.loc[i, 'orderid'])\n",
    "    lkd = int(df.loc[i, 'linkorderid'])\n",
    "    ocn = df.loc[i, 'ordercategoryname']\n",
    "    scn = df.loc[i, 'secondaryordercategoryname']\n",
    "    otd = df.loc[i, 'ordercategorydescription']\n",
    "    ipg = int(df.loc[i, 'isopenbag'])\n",
    "    cnd = int(df.loc[i, 'continueinnextdept'])\n",
    "    crn = int(df.loc[i, 'cancelreason'])\n",
    "    std = df.loc[i, 'statusdescription']\n",
    "    cme = df.loc[i, 'comments_editedby']\n",
    "    cmc = df.loc[i, 'comments_canceledby']\n",
    "    cmd = df.loc[i, 'comments_date']\n",
    "    reg_s = (row, subj, hadm, icus, stt, end, itd, val, vlm, loc, lca, stm, cgi, oid, lkd, ocn, scn, otd, ipg, cnd, crn, std, cme, cmc, cmd)\n",
    "    cursor.execute(sql_insert, reg_s)\n",
    "#cursor.fetchone()"
   ]
  },
  {
   "attachments": {},
   "cell_type": "markdown",
   "metadata": {},
   "source": [
    "### Confirma la inserción de los registros a la BD"
   ]
  },
  {
   "cell_type": "code",
   "execution_count": 9,
   "metadata": {},
   "outputs": [],
   "source": [
    "con.commit()"
   ]
  },
  {
   "attachments": {},
   "cell_type": "markdown",
   "metadata": {},
   "source": [
    "### Cierra el cursor y la conexión a la BD"
   ]
  },
  {
   "cell_type": "code",
   "execution_count": 10,
   "metadata": {},
   "outputs": [],
   "source": [
    "cursor.close()\n",
    "con.close()"
   ]
  }
 ],
 "metadata": {
  "kernelspec": {
   "display_name": "Python 3",
   "language": "python",
   "name": "python3"
  },
  "language_info": {
   "codemirror_mode": {
    "name": "ipython",
    "version": 3
   },
   "file_extension": ".py",
   "mimetype": "text/x-python",
   "name": "python",
   "nbconvert_exporter": "python",
   "pygments_lexer": "ipython3",
   "version": "3.10.6"
  },
  "orig_nbformat": 4
 },
 "nbformat": 4,
 "nbformat_minor": 2
}
