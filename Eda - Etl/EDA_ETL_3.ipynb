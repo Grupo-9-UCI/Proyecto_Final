{
 "cells": [
  {
   "cell_type": "code",
   "execution_count": 7,
   "metadata": {},
   "outputs": [],
   "source": [
    "import pandas as pd\n",
    "import numpy as np\n",
    "\n",
    "import chardet\n",
    "\n",
    "import matplotlib.pyplot as plt\n",
    "import seaborn as sns\n",
    "%matplotlib inline"
   ]
  },
  {
   "cell_type": "code",
   "execution_count": 8,
   "metadata": {},
   "outputs": [],
   "source": [
    "import glob\n",
    "import os"
   ]
  },
  {
   "attachments": {},
   "cell_type": "markdown",
   "metadata": {},
   "source": [
    "En este archivo se hara el Analisis Exploratorio de los Datos de las siguientes tablas:\n",
    "\n",
    "- D_CPT: Diccionario de alto nivel de los códigos CPT\n",
    "- D_ICD_DIAGNOSES: Diccionario de los diagnósticos según el ICD\n",
    "- D_ICD_PROCEDURES: Diccionario de procedimientos según el ICD\n",
    "- D_ITEMS: Diccionario de ITEMIDS, excepto las relativas a pruebas de laboratorio\n",
    "- D_LABITEMS: Diccionario de ITEMIDs relacionado a las pruebas de laboratorio\n",
    "- TRANSFERS: Traslado de pacientes de una cama a otra dentro del hospital\n",
    "- PATIENTS: Cada uno de los pacientes\n",
    "- PRESCRIPTIONS: Órdenes de medicamentos, no siempre administradas, para un paciente\n",
    "- SERVICES: El servicio bajo el cual los pacientes están inscriptos\n",
    "\n",
    "\n",
    "\n"
   ]
  },
  {
   "attachments": {},
   "cell_type": "markdown",
   "metadata": {},
   "source": [
    "## EDA"
   ]
  },
  {
   "cell_type": "code",
   "execution_count": null,
   "metadata": {},
   "outputs": [],
   "source": []
  },
  {
   "attachments": {},
   "cell_type": "markdown",
   "metadata": {},
   "source": [
    "#### Tabla D_CPT\n"
   ]
  },
  {
   "cell_type": "code",
   "execution_count": 9,
   "metadata": {},
   "outputs": [
    {
     "data": {
      "text/html": [
       "<div>\n",
       "<style scoped>\n",
       "    .dataframe tbody tr th:only-of-type {\n",
       "        vertical-align: middle;\n",
       "    }\n",
       "\n",
       "    .dataframe tbody tr th {\n",
       "        vertical-align: top;\n",
       "    }\n",
       "\n",
       "    .dataframe thead th {\n",
       "        text-align: right;\n",
       "    }\n",
       "</style>\n",
       "<table border=\"1\" class=\"dataframe\">\n",
       "  <thead>\n",
       "    <tr style=\"text-align: right;\">\n",
       "      <th></th>\n",
       "      <th>row_id</th>\n",
       "      <th>category</th>\n",
       "      <th>sectionrange</th>\n",
       "      <th>sectionheader</th>\n",
       "      <th>subsectionrange</th>\n",
       "      <th>subsectionheader</th>\n",
       "      <th>codesuffix</th>\n",
       "      <th>mincodeinsubsection</th>\n",
       "      <th>maxcodeinsubsection</th>\n",
       "    </tr>\n",
       "  </thead>\n",
       "  <tbody>\n",
       "    <tr>\n",
       "      <th>0</th>\n",
       "      <td>1</td>\n",
       "      <td>1</td>\n",
       "      <td>99201-99499</td>\n",
       "      <td>Evaluation and management</td>\n",
       "      <td>99201-99216</td>\n",
       "      <td>Office/other outpatient services</td>\n",
       "      <td>NaN</td>\n",
       "      <td>99201</td>\n",
       "      <td>99216</td>\n",
       "    </tr>\n",
       "    <tr>\n",
       "      <th>1</th>\n",
       "      <td>2</td>\n",
       "      <td>1</td>\n",
       "      <td>99201-99499</td>\n",
       "      <td>Evaluation and management</td>\n",
       "      <td>99217-99220</td>\n",
       "      <td>Hospital observation services</td>\n",
       "      <td>NaN</td>\n",
       "      <td>99217</td>\n",
       "      <td>99220</td>\n",
       "    </tr>\n",
       "    <tr>\n",
       "      <th>2</th>\n",
       "      <td>3</td>\n",
       "      <td>1</td>\n",
       "      <td>99201-99499</td>\n",
       "      <td>Evaluation and management</td>\n",
       "      <td>99221-99239</td>\n",
       "      <td>Hospital inpatient services</td>\n",
       "      <td>NaN</td>\n",
       "      <td>99221</td>\n",
       "      <td>99239</td>\n",
       "    </tr>\n",
       "    <tr>\n",
       "      <th>3</th>\n",
       "      <td>4</td>\n",
       "      <td>1</td>\n",
       "      <td>99201-99499</td>\n",
       "      <td>Evaluation and management</td>\n",
       "      <td>99241-99255</td>\n",
       "      <td>Consultations</td>\n",
       "      <td>NaN</td>\n",
       "      <td>99241</td>\n",
       "      <td>99255</td>\n",
       "    </tr>\n",
       "    <tr>\n",
       "      <th>4</th>\n",
       "      <td>5</td>\n",
       "      <td>1</td>\n",
       "      <td>99201-99499</td>\n",
       "      <td>Evaluation and management</td>\n",
       "      <td>99261-99263</td>\n",
       "      <td>Follow-up inpatient consultations (deleted codes)</td>\n",
       "      <td>NaN</td>\n",
       "      <td>99261</td>\n",
       "      <td>99263</td>\n",
       "    </tr>\n",
       "  </tbody>\n",
       "</table>\n",
       "</div>"
      ],
      "text/plain": [
       "   row_id  category sectionrange              sectionheader subsectionrange  \\\n",
       "0       1         1  99201-99499  Evaluation and management     99201-99216   \n",
       "1       2         1  99201-99499  Evaluation and management     99217-99220   \n",
       "2       3         1  99201-99499  Evaluation and management     99221-99239   \n",
       "3       4         1  99201-99499  Evaluation and management     99241-99255   \n",
       "4       5         1  99201-99499  Evaluation and management     99261-99263   \n",
       "\n",
       "                                    subsectionheader codesuffix  \\\n",
       "0                   Office/other outpatient services        NaN   \n",
       "1                      Hospital observation services        NaN   \n",
       "2                        Hospital inpatient services        NaN   \n",
       "3                                      Consultations        NaN   \n",
       "4  Follow-up inpatient consultations (deleted codes)        NaN   \n",
       "\n",
       "   mincodeinsubsection  maxcodeinsubsection  \n",
       "0                99201                99216  \n",
       "1                99217                99220  \n",
       "2                99221                99239  \n",
       "3                99241                99255  \n",
       "4                99261                99263  "
      ]
     },
     "execution_count": 9,
     "metadata": {},
     "output_type": "execute_result"
    }
   ],
   "source": [
    "df = pd.read_csv('Data/dataset/D_CPT.csv', encoding = 'ascii')\n",
    "\n",
    "# Visualizamos los primeros 5 registros.\n",
    "df.head()"
   ]
  },
  {
   "cell_type": "code",
   "execution_count": 10,
   "metadata": {},
   "outputs": [
    {
     "name": "stdout",
     "output_type": "stream",
     "text": [
      "<class 'pandas.core.frame.DataFrame'>\n",
      "RangeIndex: 134 entries, 0 to 133\n",
      "Data columns (total 9 columns):\n",
      " #   Column               Non-Null Count  Dtype \n",
      "---  ------               --------------  ----- \n",
      " 0   row_id               134 non-null    int64 \n",
      " 1   category             134 non-null    int64 \n",
      " 2   sectionrange         134 non-null    object\n",
      " 3   sectionheader        134 non-null    object\n",
      " 4   subsectionrange      134 non-null    object\n",
      " 5   subsectionheader     134 non-null    object\n",
      " 6   codesuffix           11 non-null     object\n",
      " 7   mincodeinsubsection  134 non-null    int64 \n",
      " 8   maxcodeinsubsection  134 non-null    int64 \n",
      "dtypes: int64(4), object(5)\n",
      "memory usage: 9.5+ KB\n"
     ]
    }
   ],
   "source": [
    "# Vemos que solo una columna tiene registros nulos. \n",
    "df.info()"
   ]
  },
  {
   "cell_type": "code",
   "execution_count": 11,
   "metadata": {},
   "outputs": [],
   "source": [
    "# Eliminación de columnas: \n",
    "# 'codesuffix' : Tiene mas del 90% de sus datos nulos.\n",
    "# 'subsectionrange': Esta columna esta dividida en la columnas 'mincodeinsubsection' y 'maxcodeinsubsection'\n",
    "\n",
    "# Eliminamos la columna 'codesuffix', ya que tiene mas del 90% de datos nulos. \n",
    "df.drop(['codesuffix', 'subsectionrange'], axis = 'columns', inplace=True)"
   ]
  },
  {
   "cell_type": "code",
   "execution_count": 12,
   "metadata": {},
   "outputs": [
    {
     "data": {
      "text/html": [
       "<div>\n",
       "<style scoped>\n",
       "    .dataframe tbody tr th:only-of-type {\n",
       "        vertical-align: middle;\n",
       "    }\n",
       "\n",
       "    .dataframe tbody tr th {\n",
       "        vertical-align: top;\n",
       "    }\n",
       "\n",
       "    .dataframe thead th {\n",
       "        text-align: right;\n",
       "    }\n",
       "</style>\n",
       "<table border=\"1\" class=\"dataframe\">\n",
       "  <thead>\n",
       "    <tr style=\"text-align: right;\">\n",
       "      <th></th>\n",
       "      <th>sectionrange</th>\n",
       "      <th>sectionheader</th>\n",
       "      <th>subsectionheader</th>\n",
       "    </tr>\n",
       "  </thead>\n",
       "  <tbody>\n",
       "    <tr>\n",
       "      <th>count</th>\n",
       "      <td>134</td>\n",
       "      <td>134</td>\n",
       "      <td>134</td>\n",
       "    </tr>\n",
       "    <tr>\n",
       "      <th>unique</th>\n",
       "      <td>9</td>\n",
       "      <td>8</td>\n",
       "      <td>132</td>\n",
       "    </tr>\n",
       "    <tr>\n",
       "      <th>top</th>\n",
       "      <td>90281-99099; 99151-99199; 99500-99607</td>\n",
       "      <td>Medicine</td>\n",
       "      <td>Temporary codes</td>\n",
       "    </tr>\n",
       "    <tr>\n",
       "      <th>freq</th>\n",
       "      <td>32</td>\n",
       "      <td>32</td>\n",
       "      <td>2</td>\n",
       "    </tr>\n",
       "  </tbody>\n",
       "</table>\n",
       "</div>"
      ],
      "text/plain": [
       "                                 sectionrange sectionheader subsectionheader\n",
       "count                                     134           134              134\n",
       "unique                                      9             8              132\n",
       "top     90281-99099; 99151-99199; 99500-99607      Medicine  Temporary codes\n",
       "freq                                       32            32                2"
      ]
     },
     "execution_count": 12,
     "metadata": {},
     "output_type": "execute_result"
    }
   ],
   "source": [
    "# Describimos las columna que no son numéricas. \n",
    "df.describe(exclude = 'number')"
   ]
  },
  {
   "cell_type": "code",
   "execution_count": 13,
   "metadata": {},
   "outputs": [
    {
     "data": {
      "text/html": [
       "<div>\n",
       "<style scoped>\n",
       "    .dataframe tbody tr th:only-of-type {\n",
       "        vertical-align: middle;\n",
       "    }\n",
       "\n",
       "    .dataframe tbody tr th {\n",
       "        vertical-align: top;\n",
       "    }\n",
       "\n",
       "    .dataframe thead th {\n",
       "        text-align: right;\n",
       "    }\n",
       "</style>\n",
       "<table border=\"1\" class=\"dataframe\">\n",
       "  <thead>\n",
       "    <tr style=\"text-align: right;\">\n",
       "      <th></th>\n",
       "      <th>row_id</th>\n",
       "      <th>category</th>\n",
       "      <th>mincodeinsubsection</th>\n",
       "      <th>maxcodeinsubsection</th>\n",
       "    </tr>\n",
       "  </thead>\n",
       "  <tbody>\n",
       "    <tr>\n",
       "      <th>count</th>\n",
       "      <td>134.000000</td>\n",
       "      <td>134.000000</td>\n",
       "      <td>134.000000</td>\n",
       "      <td>134.000000</td>\n",
       "    </tr>\n",
       "    <tr>\n",
       "      <th>mean</th>\n",
       "      <td>67.500000</td>\n",
       "      <td>1.097015</td>\n",
       "      <td>65792.402985</td>\n",
       "      <td>66403.567164</td>\n",
       "    </tr>\n",
       "    <tr>\n",
       "      <th>std</th>\n",
       "      <td>38.826537</td>\n",
       "      <td>0.344001</td>\n",
       "      <td>39157.187754</td>\n",
       "      <td>38905.125916</td>\n",
       "    </tr>\n",
       "    <tr>\n",
       "      <th>min</th>\n",
       "      <td>1.000000</td>\n",
       "      <td>1.000000</td>\n",
       "      <td>1.000000</td>\n",
       "      <td>15.000000</td>\n",
       "    </tr>\n",
       "    <tr>\n",
       "      <th>25%</th>\n",
       "      <td>34.250000</td>\n",
       "      <td>1.000000</td>\n",
       "      <td>30752.500000</td>\n",
       "      <td>34199.000000</td>\n",
       "    </tr>\n",
       "    <tr>\n",
       "      <th>50%</th>\n",
       "      <td>67.500000</td>\n",
       "      <td>1.000000</td>\n",
       "      <td>87500.500000</td>\n",
       "      <td>88049.000000</td>\n",
       "    </tr>\n",
       "    <tr>\n",
       "      <th>75%</th>\n",
       "      <td>100.750000</td>\n",
       "      <td>1.000000</td>\n",
       "      <td>98955.000000</td>\n",
       "      <td>98957.250000</td>\n",
       "    </tr>\n",
       "    <tr>\n",
       "      <th>max</th>\n",
       "      <td>134.000000</td>\n",
       "      <td>3.000000</td>\n",
       "      <td>99605.000000</td>\n",
       "      <td>99607.000000</td>\n",
       "    </tr>\n",
       "  </tbody>\n",
       "</table>\n",
       "</div>"
      ],
      "text/plain": [
       "           row_id    category  mincodeinsubsection  maxcodeinsubsection\n",
       "count  134.000000  134.000000           134.000000           134.000000\n",
       "mean    67.500000    1.097015         65792.402985         66403.567164\n",
       "std     38.826537    0.344001         39157.187754         38905.125916\n",
       "min      1.000000    1.000000             1.000000            15.000000\n",
       "25%     34.250000    1.000000         30752.500000         34199.000000\n",
       "50%     67.500000    1.000000         87500.500000         88049.000000\n",
       "75%    100.750000    1.000000         98955.000000         98957.250000\n",
       "max    134.000000    3.000000         99605.000000         99607.000000"
      ]
     },
     "execution_count": 13,
     "metadata": {},
     "output_type": "execute_result"
    }
   ],
   "source": [
    "df.describe()"
   ]
  },
  {
   "cell_type": "code",
   "execution_count": null,
   "metadata": {},
   "outputs": [],
   "source": []
  },
  {
   "attachments": {},
   "cell_type": "markdown",
   "metadata": {},
   "source": [
    "Columna 'sectionheader': Vemos como se distribuye."
   ]
  },
  {
   "cell_type": "code",
   "execution_count": 14,
   "metadata": {},
   "outputs": [
    {
     "data": {
      "text/plain": [
       "Medicine                     32\n",
       "Evaluation and management    25\n",
       "Anesthesia                   22\n",
       "Surgery                      19\n",
       "Pathology and laboratory     18\n",
       "Performance measurement       9\n",
       "Radiology                     7\n",
       "Emerging technology           2\n",
       "Name: sectionheader, dtype: int64"
      ]
     },
     "execution_count": 14,
     "metadata": {},
     "output_type": "execute_result"
    }
   ],
   "source": [
    "df.sectionheader.value_counts()"
   ]
  },
  {
   "cell_type": "code",
   "execution_count": 15,
   "metadata": {},
   "outputs": [
    {
     "data": {
      "image/png": "[encoded data removed]",
      "text/plain": [
       "<Figure size 640x480 with 1 Axes>"
      ]
     },
     "metadata": {},
     "output_type": "display_data"
    }
   ],
   "source": [
    "plt.barh(df.sectionheader,df.index, height=0.5 )\n",
    "plt.grid(color='gray', linestyle='-', linewidth = 0.3)\n",
    "plt.show()"
   ]
  },
  {
   "cell_type": "code",
   "execution_count": 16,
   "metadata": {},
   "outputs": [
    {
     "data": {
      "text/plain": [
       "Temporary codes                    2\n",
       "Other procedures                   2\n",
       "Anatomic pathology (postmortem)    1\n",
       "Gastroenterology                   1\n",
       "Dialysis                           1\n",
       "                                  ..\n",
       "Upper arm and elbow                1\n",
       "Shoulder and axillary              1\n",
       "Lower leg (below knee)             1\n",
       "Knee and popliteal area            1\n",
       "Diagnostic imaging                 1\n",
       "Name: subsectionheader, Length: 132, dtype: int64"
      ]
     },
     "execution_count": 16,
     "metadata": {},
     "output_type": "execute_result"
    }
   ],
   "source": [
    "df.subsectionheader.value_counts()"
   ]
  },
  {
   "cell_type": "code",
   "execution_count": null,
   "metadata": {},
   "outputs": [],
   "source": []
  },
  {
   "cell_type": "code",
   "execution_count": 17,
   "metadata": {},
   "outputs": [
    {
     "data": {
      "text/html": [
       "<div>\n",
       "<style scoped>\n",
       "    .dataframe tbody tr th:only-of-type {\n",
       "        vertical-align: middle;\n",
       "    }\n",
       "\n",
       "    .dataframe tbody tr th {\n",
       "        vertical-align: top;\n",
       "    }\n",
       "\n",
       "    .dataframe thead th {\n",
       "        text-align: right;\n",
       "    }\n",
       "</style>\n",
       "<table border=\"1\" class=\"dataframe\">\n",
       "  <thead>\n",
       "    <tr style=\"text-align: right;\">\n",
       "      <th></th>\n",
       "      <th>row_id</th>\n",
       "      <th>category</th>\n",
       "      <th>sectionrange</th>\n",
       "      <th>sectionheader</th>\n",
       "      <th>subsectionheader</th>\n",
       "      <th>mincodeinsubsection</th>\n",
       "      <th>maxcodeinsubsection</th>\n",
       "    </tr>\n",
       "  </thead>\n",
       "  <tbody>\n",
       "    <tr>\n",
       "      <th>0</th>\n",
       "      <td>1</td>\n",
       "      <td>1</td>\n",
       "      <td>99201-99499</td>\n",
       "      <td>Evaluation and management</td>\n",
       "      <td>Office/other outpatient services</td>\n",
       "      <td>99201</td>\n",
       "      <td>99216</td>\n",
       "    </tr>\n",
       "    <tr>\n",
       "      <th>1</th>\n",
       "      <td>2</td>\n",
       "      <td>1</td>\n",
       "      <td>99201-99499</td>\n",
       "      <td>Evaluation and management</td>\n",
       "      <td>Hospital observation services</td>\n",
       "      <td>99217</td>\n",
       "      <td>99220</td>\n",
       "    </tr>\n",
       "    <tr>\n",
       "      <th>2</th>\n",
       "      <td>3</td>\n",
       "      <td>1</td>\n",
       "      <td>99201-99499</td>\n",
       "      <td>Evaluation and management</td>\n",
       "      <td>Hospital inpatient services</td>\n",
       "      <td>99221</td>\n",
       "      <td>99239</td>\n",
       "    </tr>\n",
       "    <tr>\n",
       "      <th>3</th>\n",
       "      <td>4</td>\n",
       "      <td>1</td>\n",
       "      <td>99201-99499</td>\n",
       "      <td>Evaluation and management</td>\n",
       "      <td>Consultations</td>\n",
       "      <td>99241</td>\n",
       "      <td>99255</td>\n",
       "    </tr>\n",
       "    <tr>\n",
       "      <th>4</th>\n",
       "      <td>5</td>\n",
       "      <td>1</td>\n",
       "      <td>99201-99499</td>\n",
       "      <td>Evaluation and management</td>\n",
       "      <td>Follow-up inpatient consultations (deleted codes)</td>\n",
       "      <td>99261</td>\n",
       "      <td>99263</td>\n",
       "    </tr>\n",
       "  </tbody>\n",
       "</table>\n",
       "</div>"
      ],
      "text/plain": [
       "   row_id  category sectionrange              sectionheader  \\\n",
       "0       1         1  99201-99499  Evaluation and management   \n",
       "1       2         1  99201-99499  Evaluation and management   \n",
       "2       3         1  99201-99499  Evaluation and management   \n",
       "3       4         1  99201-99499  Evaluation and management   \n",
       "4       5         1  99201-99499  Evaluation and management   \n",
       "\n",
       "                                    subsectionheader  mincodeinsubsection  \\\n",
       "0                   Office/other outpatient services                99201   \n",
       "1                      Hospital observation services                99217   \n",
       "2                        Hospital inpatient services                99221   \n",
       "3                                      Consultations                99241   \n",
       "4  Follow-up inpatient consultations (deleted codes)                99261   \n",
       "\n",
       "   maxcodeinsubsection  \n",
       "0                99216  \n",
       "1                99220  \n",
       "2                99239  \n",
       "3                99255  \n",
       "4                99263  "
      ]
     },
     "execution_count": 17,
     "metadata": {},
     "output_type": "execute_result"
    }
   ],
   "source": [
    "# Vemos como queda la tabla limpia.\n",
    "df.head()"
   ]
  },
  {
   "cell_type": "code",
   "execution_count": 18,
   "metadata": {},
   "outputs": [],
   "source": [
    "# Expotamos a un .csv\n",
    "df.to_csv(\"df_d_cpt.csv\", index=False)\n"
   ]
  },
  {
   "cell_type": "code",
   "execution_count": null,
   "metadata": {},
   "outputs": [],
   "source": [
    "\n"
   ]
  },
  {
   "attachments": {},
   "cell_type": "markdown",
   "metadata": {},
   "source": [
    "#### Tabla D_ICD_DIAGNOSES\n"
   ]
  },
  {
   "cell_type": "code",
   "execution_count": 19,
   "metadata": {},
   "outputs": [
    {
     "data": {
      "text/html": [
       "<div>\n",
       "<style scoped>\n",
       "    .dataframe tbody tr th:only-of-type {\n",
       "        vertical-align: middle;\n",
       "    }\n",
       "\n",
       "    .dataframe tbody tr th {\n",
       "        vertical-align: top;\n",
       "    }\n",
       "\n",
       "    .dataframe thead th {\n",
       "        text-align: right;\n",
       "    }\n",
       "</style>\n",
       "<table border=\"1\" class=\"dataframe\">\n",
       "  <thead>\n",
       "    <tr style=\"text-align: right;\">\n",
       "      <th></th>\n",
       "      <th>row_id</th>\n",
       "      <th>icd9_code</th>\n",
       "      <th>short_title</th>\n",
       "      <th>long_title</th>\n",
       "    </tr>\n",
       "  </thead>\n",
       "  <tbody>\n",
       "    <tr>\n",
       "      <th>0</th>\n",
       "      <td>1</td>\n",
       "      <td>01716</td>\n",
       "      <td>Erythem nod tb-oth test</td>\n",
       "      <td>Erythema nodosum with hypersensitivity reactio...</td>\n",
       "    </tr>\n",
       "    <tr>\n",
       "      <th>1</th>\n",
       "      <td>2</td>\n",
       "      <td>01720</td>\n",
       "      <td>TB periph lymph-unspec</td>\n",
       "      <td>Tuberculosis of peripheral lymph nodes, unspec...</td>\n",
       "    </tr>\n",
       "    <tr>\n",
       "      <th>2</th>\n",
       "      <td>3</td>\n",
       "      <td>01721</td>\n",
       "      <td>TB periph lymph-no exam</td>\n",
       "      <td>Tuberculosis of peripheral lymph nodes, bacter...</td>\n",
       "    </tr>\n",
       "    <tr>\n",
       "      <th>3</th>\n",
       "      <td>4</td>\n",
       "      <td>01722</td>\n",
       "      <td>TB periph lymph-exam unk</td>\n",
       "      <td>Tuberculosis of peripheral lymph nodes, bacter...</td>\n",
       "    </tr>\n",
       "    <tr>\n",
       "      <th>4</th>\n",
       "      <td>5</td>\n",
       "      <td>01723</td>\n",
       "      <td>TB periph lymph-micro dx</td>\n",
       "      <td>Tuberculosis of peripheral lymph nodes, tuberc...</td>\n",
       "    </tr>\n",
       "  </tbody>\n",
       "</table>\n",
       "</div>"
      ],
      "text/plain": [
       "   row_id icd9_code               short_title  \\\n",
       "0       1     01716   Erythem nod tb-oth test   \n",
       "1       2     01720    TB periph lymph-unspec   \n",
       "2       3     01721   TB periph lymph-no exam   \n",
       "3       4     01722  TB periph lymph-exam unk   \n",
       "4       5     01723  TB periph lymph-micro dx   \n",
       "\n",
       "                                          long_title  \n",
       "0  Erythema nodosum with hypersensitivity reactio...  \n",
       "1  Tuberculosis of peripheral lymph nodes, unspec...  \n",
       "2  Tuberculosis of peripheral lymph nodes, bacter...  \n",
       "3  Tuberculosis of peripheral lymph nodes, bacter...  \n",
       "4  Tuberculosis of peripheral lymph nodes, tuberc...  "
      ]
     },
     "execution_count": 19,
     "metadata": {},
     "output_type": "execute_result"
    }
   ],
   "source": [
    "df = pd.read_csv('Data/dataset/D_ICD_DIAGNOSES.csv', encoding = 'ascii')\n",
    "\n",
    "# Visualizamos los primeros 5 registros.\n",
    "df.head()"
   ]
  },
  {
   "cell_type": "code",
   "execution_count": 20,
   "metadata": {},
   "outputs": [
    {
     "name": "stdout",
     "output_type": "stream",
     "text": [
      "<class 'pandas.core.frame.DataFrame'>\n",
      "RangeIndex: 14567 entries, 0 to 14566\n",
      "Data columns (total 4 columns):\n",
      " #   Column       Non-Null Count  Dtype \n",
      "---  ------       --------------  ----- \n",
      " 0   row_id       14567 non-null  int64 \n",
      " 1   icd9_code    14567 non-null  object\n",
      " 2   short_title  14567 non-null  object\n",
      " 3   long_title   14567 non-null  object\n",
      "dtypes: int64(1), object(3)\n",
      "memory usage: 455.3+ KB\n"
     ]
    }
   ],
   "source": [
    "# Vemos que no hay registros nulos\n",
    "df.info()"
   ]
  },
  {
   "cell_type": "code",
   "execution_count": 21,
   "metadata": {},
   "outputs": [
    {
     "data": {
      "text/html": [
       "<div>\n",
       "<style scoped>\n",
       "    .dataframe tbody tr th:only-of-type {\n",
       "        vertical-align: middle;\n",
       "    }\n",
       "\n",
       "    .dataframe tbody tr th {\n",
       "        vertical-align: top;\n",
       "    }\n",
       "\n",
       "    .dataframe thead th {\n",
       "        text-align: right;\n",
       "    }\n",
       "</style>\n",
       "<table border=\"1\" class=\"dataframe\">\n",
       "  <thead>\n",
       "    <tr style=\"text-align: right;\">\n",
       "      <th></th>\n",
       "      <th>icd9_code</th>\n",
       "      <th>short_title</th>\n",
       "      <th>long_title</th>\n",
       "    </tr>\n",
       "  </thead>\n",
       "  <tbody>\n",
       "    <tr>\n",
       "      <th>count</th>\n",
       "      <td>14567</td>\n",
       "      <td>14567</td>\n",
       "      <td>14567</td>\n",
       "    </tr>\n",
       "    <tr>\n",
       "      <th>unique</th>\n",
       "      <td>14567</td>\n",
       "      <td>14328</td>\n",
       "      <td>14562</td>\n",
       "    </tr>\n",
       "    <tr>\n",
       "      <th>top</th>\n",
       "      <td>01716</td>\n",
       "      <td>Op skl vlt fx-concus NOS</td>\n",
       "      <td>Longitudinal deficiency, phalanges, complete o...</td>\n",
       "    </tr>\n",
       "    <tr>\n",
       "      <th>freq</th>\n",
       "      <td>1</td>\n",
       "      <td>5</td>\n",
       "      <td>2</td>\n",
       "    </tr>\n",
       "  </tbody>\n",
       "</table>\n",
       "</div>"
      ],
      "text/plain": [
       "       icd9_code               short_title  \\\n",
       "count      14567                     14567   \n",
       "unique     14567                     14328   \n",
       "top        01716  Op skl vlt fx-concus NOS   \n",
       "freq           1                         5   \n",
       "\n",
       "                                               long_title  \n",
       "count                                               14567  \n",
       "unique                                              14562  \n",
       "top     Longitudinal deficiency, phalanges, complete o...  \n",
       "freq                                                    2  "
      ]
     },
     "execution_count": 21,
     "metadata": {},
     "output_type": "execute_result"
    }
   ],
   "source": [
    "# Describimos las columna que no son numéricas. \n",
    "df.describe(exclude = 'number')\n",
    "\n",
    "# Vemos que los titulos y el codigo 'icd9_code' son unicos. "
   ]
  },
  {
   "cell_type": "code",
   "execution_count": 22,
   "metadata": {},
   "outputs": [],
   "source": [
    "# Expotamos a un .csv\n",
    "df.to_csv(\"df_d_icd_diagnoses.csv\", index=False)\n",
    "\n"
   ]
  },
  {
   "attachments": {},
   "cell_type": "markdown",
   "metadata": {},
   "source": [
    "#### Tabla D_ICD_PROCEDURES"
   ]
  },
  {
   "cell_type": "code",
   "execution_count": 23,
   "metadata": {},
   "outputs": [
    {
     "data": {
      "text/html": [
       "<div>\n",
       "<style scoped>\n",
       "    .dataframe tbody tr th:only-of-type {\n",
       "        vertical-align: middle;\n",
       "    }\n",
       "\n",
       "    .dataframe tbody tr th {\n",
       "        vertical-align: top;\n",
       "    }\n",
       "\n",
       "    .dataframe thead th {\n",
       "        text-align: right;\n",
       "    }\n",
       "</style>\n",
       "<table border=\"1\" class=\"dataframe\">\n",
       "  <thead>\n",
       "    <tr style=\"text-align: right;\">\n",
       "      <th></th>\n",
       "      <th>row_id</th>\n",
       "      <th>icd9_code</th>\n",
       "      <th>short_title</th>\n",
       "      <th>long_title</th>\n",
       "    </tr>\n",
       "  </thead>\n",
       "  <tbody>\n",
       "    <tr>\n",
       "      <th>0</th>\n",
       "      <td>1</td>\n",
       "      <td>1423</td>\n",
       "      <td>Chorioret les xenon coag</td>\n",
       "      <td>Destruction of chorioretinal lesion by xenon a...</td>\n",
       "    </tr>\n",
       "    <tr>\n",
       "      <th>1</th>\n",
       "      <td>2</td>\n",
       "      <td>1424</td>\n",
       "      <td>Chorioret les laser coag</td>\n",
       "      <td>Destruction of chorioretinal lesion by laser p...</td>\n",
       "    </tr>\n",
       "    <tr>\n",
       "      <th>2</th>\n",
       "      <td>3</td>\n",
       "      <td>1425</td>\n",
       "      <td>Chorioret les p/coag NOS</td>\n",
       "      <td>Destruction of chorioretinal lesion by photoco...</td>\n",
       "    </tr>\n",
       "    <tr>\n",
       "      <th>3</th>\n",
       "      <td>4</td>\n",
       "      <td>1426</td>\n",
       "      <td>Chorioret les radiother</td>\n",
       "      <td>Destruction of chorioretinal lesion by radiati...</td>\n",
       "    </tr>\n",
       "    <tr>\n",
       "      <th>4</th>\n",
       "      <td>5</td>\n",
       "      <td>1427</td>\n",
       "      <td>Chorioret les rad implan</td>\n",
       "      <td>Destruction of chorioretinal lesion by implant...</td>\n",
       "    </tr>\n",
       "  </tbody>\n",
       "</table>\n",
       "</div>"
      ],
      "text/plain": [
       "   row_id  icd9_code               short_title  \\\n",
       "0       1       1423  Chorioret les xenon coag   \n",
       "1       2       1424  Chorioret les laser coag   \n",
       "2       3       1425  Chorioret les p/coag NOS   \n",
       "3       4       1426   Chorioret les radiother   \n",
       "4       5       1427  Chorioret les rad implan   \n",
       "\n",
       "                                          long_title  \n",
       "0  Destruction of chorioretinal lesion by xenon a...  \n",
       "1  Destruction of chorioretinal lesion by laser p...  \n",
       "2  Destruction of chorioretinal lesion by photoco...  \n",
       "3  Destruction of chorioretinal lesion by radiati...  \n",
       "4  Destruction of chorioretinal lesion by implant...  "
      ]
     },
     "execution_count": 23,
     "metadata": {},
     "output_type": "execute_result"
    }
   ],
   "source": [
    "df = pd.read_csv('Data/dataset/D_ICD_PROCEDURES.csv', encoding = 'ascii')\n",
    "\n",
    "# Visualizamos los primeros 5 registros.\n",
    "df.head()"
   ]
  },
  {
   "cell_type": "code",
   "execution_count": 24,
   "metadata": {},
   "outputs": [
    {
     "name": "stdout",
     "output_type": "stream",
     "text": [
      "<class 'pandas.core.frame.DataFrame'>\n",
      "RangeIndex: 3882 entries, 0 to 3881\n",
      "Data columns (total 4 columns):\n",
      " #   Column       Non-Null Count  Dtype \n",
      "---  ------       --------------  ----- \n",
      " 0   row_id       3882 non-null   int64 \n",
      " 1   icd9_code    3882 non-null   int64 \n",
      " 2   short_title  3882 non-null   object\n",
      " 3   long_title   3882 non-null   object\n",
      "dtypes: int64(2), object(2)\n",
      "memory usage: 121.4+ KB\n"
     ]
    }
   ],
   "source": [
    "# Vemos que no hay registros nulos\n",
    "df.info()"
   ]
  },
  {
   "cell_type": "code",
   "execution_count": 25,
   "metadata": {},
   "outputs": [
    {
     "data": {
      "text/html": [
       "<div>\n",
       "<style scoped>\n",
       "    .dataframe tbody tr th:only-of-type {\n",
       "        vertical-align: middle;\n",
       "    }\n",
       "\n",
       "    .dataframe tbody tr th {\n",
       "        vertical-align: top;\n",
       "    }\n",
       "\n",
       "    .dataframe thead th {\n",
       "        text-align: right;\n",
       "    }\n",
       "</style>\n",
       "<table border=\"1\" class=\"dataframe\">\n",
       "  <thead>\n",
       "    <tr style=\"text-align: right;\">\n",
       "      <th></th>\n",
       "      <th>short_title</th>\n",
       "      <th>long_title</th>\n",
       "    </tr>\n",
       "  </thead>\n",
       "  <tbody>\n",
       "    <tr>\n",
       "      <th>count</th>\n",
       "      <td>3882</td>\n",
       "      <td>3882</td>\n",
       "    </tr>\n",
       "    <tr>\n",
       "      <th>unique</th>\n",
       "      <td>3882</td>\n",
       "      <td>3882</td>\n",
       "    </tr>\n",
       "    <tr>\n",
       "      <th>top</th>\n",
       "      <td>Chorioret les xenon coag</td>\n",
       "      <td>Destruction of chorioretinal lesion by xenon a...</td>\n",
       "    </tr>\n",
       "    <tr>\n",
       "      <th>freq</th>\n",
       "      <td>1</td>\n",
       "      <td>1</td>\n",
       "    </tr>\n",
       "  </tbody>\n",
       "</table>\n",
       "</div>"
      ],
      "text/plain": [
       "                     short_title  \\\n",
       "count                       3882   \n",
       "unique                      3882   \n",
       "top     Chorioret les xenon coag   \n",
       "freq                           1   \n",
       "\n",
       "                                               long_title  \n",
       "count                                                3882  \n",
       "unique                                               3882  \n",
       "top     Destruction of chorioretinal lesion by xenon a...  \n",
       "freq                                                    1  "
      ]
     },
     "execution_count": 25,
     "metadata": {},
     "output_type": "execute_result"
    }
   ],
   "source": [
    "# Describimos las columna que no son numéricas. \n",
    "df.describe(exclude = 'number')\n",
    "\n",
    "# Vemos que los titulos son unicos. "
   ]
  },
  {
   "cell_type": "code",
   "execution_count": 26,
   "metadata": {},
   "outputs": [
    {
     "data": {
      "text/html": [
       "<div>\n",
       "<style scoped>\n",
       "    .dataframe tbody tr th:only-of-type {\n",
       "        vertical-align: middle;\n",
       "    }\n",
       "\n",
       "    .dataframe tbody tr th {\n",
       "        vertical-align: top;\n",
       "    }\n",
       "\n",
       "    .dataframe thead th {\n",
       "        text-align: right;\n",
       "    }\n",
       "</style>\n",
       "<table border=\"1\" class=\"dataframe\">\n",
       "  <thead>\n",
       "    <tr style=\"text-align: right;\">\n",
       "      <th></th>\n",
       "      <th>row_id</th>\n",
       "      <th>icd9_code</th>\n",
       "      <th>short_title</th>\n",
       "      <th>long_title</th>\n",
       "    </tr>\n",
       "  </thead>\n",
       "  <tbody>\n",
       "    <tr>\n",
       "      <th>189</th>\n",
       "      <td>190</td>\n",
       "      <td>34</td>\n",
       "      <td>Excis spinal cord lesion</td>\n",
       "      <td>Excision or destruction of lesion of spinal co...</td>\n",
       "    </tr>\n",
       "    <tr>\n",
       "      <th>248</th>\n",
       "      <td>249</td>\n",
       "      <td>31</td>\n",
       "      <td>Intraspin nerve root div</td>\n",
       "      <td>Division of intraspinal nerve root</td>\n",
       "    </tr>\n",
       "    <tr>\n",
       "      <th>258</th>\n",
       "      <td>259</td>\n",
       "      <td>153</td>\n",
       "      <td>Brain lobectomy</td>\n",
       "      <td>Lobectomy of brain</td>\n",
       "    </tr>\n",
       "    <tr>\n",
       "      <th>259</th>\n",
       "      <td>260</td>\n",
       "      <td>159</td>\n",
       "      <td>Other brain excision</td>\n",
       "      <td>Other excision or destruction of lesion or tis...</td>\n",
       "    </tr>\n",
       "    <tr>\n",
       "      <th>260</th>\n",
       "      <td>261</td>\n",
       "      <td>16</td>\n",
       "      <td>Excise skull lesion</td>\n",
       "      <td>Excision of lesion of skull</td>\n",
       "    </tr>\n",
       "    <tr>\n",
       "      <th>...</th>\n",
       "      <td>...</td>\n",
       "      <td>...</td>\n",
       "      <td>...</td>\n",
       "      <td>...</td>\n",
       "    </tr>\n",
       "    <tr>\n",
       "      <th>3141</th>\n",
       "      <td>3142</td>\n",
       "      <td>742</td>\n",
       "      <td>Extraperitoneal c-sect</td>\n",
       "      <td>Extraperitoneal cesarean section</td>\n",
       "    </tr>\n",
       "    <tr>\n",
       "      <th>3142</th>\n",
       "      <td>3143</td>\n",
       "      <td>743</td>\n",
       "      <td>Rem extratub ectop preg</td>\n",
       "      <td>Removal of extratubal ectopic pregnancy</td>\n",
       "    </tr>\n",
       "    <tr>\n",
       "      <th>3143</th>\n",
       "      <td>3144</td>\n",
       "      <td>744</td>\n",
       "      <td>Cesarean section NEC</td>\n",
       "      <td>Cesarean section of other specified type</td>\n",
       "    </tr>\n",
       "    <tr>\n",
       "      <th>3478</th>\n",
       "      <td>3479</td>\n",
       "      <td>863</td>\n",
       "      <td>Other local destruc skin</td>\n",
       "      <td>Other local excision or destruction of lesion ...</td>\n",
       "    </tr>\n",
       "    <tr>\n",
       "      <th>3479</th>\n",
       "      <td>3480</td>\n",
       "      <td>864</td>\n",
       "      <td>Radical excis skin les</td>\n",
       "      <td>Radical excision of skin lesion</td>\n",
       "    </tr>\n",
       "  </tbody>\n",
       "</table>\n",
       "<p>73 rows × 4 columns</p>\n",
       "</div>"
      ],
      "text/plain": [
       "      row_id  icd9_code               short_title  \\\n",
       "189      190         34  Excis spinal cord lesion   \n",
       "248      249         31  Intraspin nerve root div   \n",
       "258      259        153           Brain lobectomy   \n",
       "259      260        159      Other brain excision   \n",
       "260      261         16       Excise skull lesion   \n",
       "...      ...        ...                       ...   \n",
       "3141    3142        742    Extraperitoneal c-sect   \n",
       "3142    3143        743   Rem extratub ectop preg   \n",
       "3143    3144        744      Cesarean section NEC   \n",
       "3478    3479        863  Other local destruc skin   \n",
       "3479    3480        864    Radical excis skin les   \n",
       "\n",
       "                                             long_title  \n",
       "189   Excision or destruction of lesion of spinal co...  \n",
       "248                  Division of intraspinal nerve root  \n",
       "258                                  Lobectomy of brain  \n",
       "259   Other excision or destruction of lesion or tis...  \n",
       "260                         Excision of lesion of skull  \n",
       "...                                                 ...  \n",
       "3141                   Extraperitoneal cesarean section  \n",
       "3142            Removal of extratubal ectopic pregnancy  \n",
       "3143           Cesarean section of other specified type  \n",
       "3478  Other local excision or destruction of lesion ...  \n",
       "3479                    Radical excision of skin lesion  \n",
       "\n",
       "[73 rows x 4 columns]"
      ]
     },
     "execution_count": 26,
     "metadata": {},
     "output_type": "execute_result"
    }
   ],
   "source": [
    "# Vemos los registros que tienen las columna 'icd9_code' duplicados.\n",
    "df[df.icd9_code.duplicated()]"
   ]
  },
  {
   "cell_type": "code",
   "execution_count": 27,
   "metadata": {},
   "outputs": [
    {
     "data": {
      "text/html": [
       "<div>\n",
       "<style scoped>\n",
       "    .dataframe tbody tr th:only-of-type {\n",
       "        vertical-align: middle;\n",
       "    }\n",
       "\n",
       "    .dataframe tbody tr th {\n",
       "        vertical-align: top;\n",
       "    }\n",
       "\n",
       "    .dataframe thead th {\n",
       "        text-align: right;\n",
       "    }\n",
       "</style>\n",
       "<table border=\"1\" class=\"dataframe\">\n",
       "  <thead>\n",
       "    <tr style=\"text-align: right;\">\n",
       "      <th></th>\n",
       "      <th>row_id</th>\n",
       "      <th>icd9_code</th>\n",
       "      <th>short_title</th>\n",
       "      <th>long_title</th>\n",
       "    </tr>\n",
       "  </thead>\n",
       "  <tbody>\n",
       "    <tr>\n",
       "      <th>160</th>\n",
       "      <td>161</td>\n",
       "      <td>34</td>\n",
       "      <td>Imageless comp asst surg</td>\n",
       "      <td>Imageless computer assisted surgery</td>\n",
       "    </tr>\n",
       "    <tr>\n",
       "      <th>189</th>\n",
       "      <td>190</td>\n",
       "      <td>34</td>\n",
       "      <td>Excis spinal cord lesion</td>\n",
       "      <td>Excision or destruction of lesion of spinal co...</td>\n",
       "    </tr>\n",
       "  </tbody>\n",
       "</table>\n",
       "</div>"
      ],
      "text/plain": [
       "     row_id  icd9_code               short_title  \\\n",
       "160     161         34  Imageless comp asst surg   \n",
       "189     190         34  Excis spinal cord lesion   \n",
       "\n",
       "                                            long_title  \n",
       "160                Imageless computer assisted surgery  \n",
       "189  Excision or destruction of lesion of spinal co...  "
      ]
     },
     "execution_count": 27,
     "metadata": {},
     "output_type": "execute_result"
    }
   ],
   "source": [
    "# Vemos que efectivamente hay registros con 'icd9_code' que se repiten. \n",
    "df[df.icd9_code == 34]"
   ]
  },
  {
   "cell_type": "code",
   "execution_count": 28,
   "metadata": {},
   "outputs": [],
   "source": [
    "# Expotamos a un .csv\n",
    "df.to_csv(\"df_d_icd_procedures.csv\", index=False)\n",
    "\n"
   ]
  },
  {
   "attachments": {},
   "cell_type": "markdown",
   "metadata": {},
   "source": [
    "#### Tabla D_ITEMS"
   ]
  },
  {
   "cell_type": "code",
   "execution_count": 29,
   "metadata": {},
   "outputs": [
    {
     "data": {
      "text/html": [
       "<div>\n",
       "<style scoped>\n",
       "    .dataframe tbody tr th:only-of-type {\n",
       "        vertical-align: middle;\n",
       "    }\n",
       "\n",
       "    .dataframe tbody tr th {\n",
       "        vertical-align: top;\n",
       "    }\n",
       "\n",
       "    .dataframe thead th {\n",
       "        text-align: right;\n",
       "    }\n",
       "</style>\n",
       "<table border=\"1\" class=\"dataframe\">\n",
       "  <thead>\n",
       "    <tr style=\"text-align: right;\">\n",
       "      <th></th>\n",
       "      <th>row_id</th>\n",
       "      <th>itemid</th>\n",
       "      <th>label</th>\n",
       "      <th>abbreviation</th>\n",
       "      <th>dbsource</th>\n",
       "      <th>linksto</th>\n",
       "      <th>category</th>\n",
       "      <th>unitname</th>\n",
       "      <th>param_type</th>\n",
       "      <th>conceptid</th>\n",
       "    </tr>\n",
       "  </thead>\n",
       "  <tbody>\n",
       "    <tr>\n",
       "      <th>0</th>\n",
       "      <td>1</td>\n",
       "      <td>1435</td>\n",
       "      <td>Sustained Nystamus</td>\n",
       "      <td>NaN</td>\n",
       "      <td>carevue</td>\n",
       "      <td>chartevents</td>\n",
       "      <td>NaN</td>\n",
       "      <td>NaN</td>\n",
       "      <td>NaN</td>\n",
       "      <td>NaN</td>\n",
       "    </tr>\n",
       "    <tr>\n",
       "      <th>1</th>\n",
       "      <td>2</td>\n",
       "      <td>1436</td>\n",
       "      <td>Tactile Disturbances</td>\n",
       "      <td>NaN</td>\n",
       "      <td>carevue</td>\n",
       "      <td>chartevents</td>\n",
       "      <td>NaN</td>\n",
       "      <td>NaN</td>\n",
       "      <td>NaN</td>\n",
       "      <td>NaN</td>\n",
       "    </tr>\n",
       "    <tr>\n",
       "      <th>2</th>\n",
       "      <td>3</td>\n",
       "      <td>1437</td>\n",
       "      <td>Tremor</td>\n",
       "      <td>NaN</td>\n",
       "      <td>carevue</td>\n",
       "      <td>chartevents</td>\n",
       "      <td>NaN</td>\n",
       "      <td>NaN</td>\n",
       "      <td>NaN</td>\n",
       "      <td>NaN</td>\n",
       "    </tr>\n",
       "    <tr>\n",
       "      <th>3</th>\n",
       "      <td>4</td>\n",
       "      <td>1438</td>\n",
       "      <td>Ulnar Pulse [Right]</td>\n",
       "      <td>NaN</td>\n",
       "      <td>carevue</td>\n",
       "      <td>chartevents</td>\n",
       "      <td>NaN</td>\n",
       "      <td>NaN</td>\n",
       "      <td>NaN</td>\n",
       "      <td>NaN</td>\n",
       "    </tr>\n",
       "    <tr>\n",
       "      <th>4</th>\n",
       "      <td>5</td>\n",
       "      <td>1439</td>\n",
       "      <td>Visual Disturbances</td>\n",
       "      <td>NaN</td>\n",
       "      <td>carevue</td>\n",
       "      <td>chartevents</td>\n",
       "      <td>NaN</td>\n",
       "      <td>NaN</td>\n",
       "      <td>NaN</td>\n",
       "      <td>NaN</td>\n",
       "    </tr>\n",
       "  </tbody>\n",
       "</table>\n",
       "</div>"
      ],
      "text/plain": [
       "   row_id  itemid                 label abbreviation dbsource      linksto  \\\n",
       "0       1    1435    Sustained Nystamus          NaN  carevue  chartevents   \n",
       "1       2    1436  Tactile Disturbances          NaN  carevue  chartevents   \n",
       "2       3    1437                Tremor          NaN  carevue  chartevents   \n",
       "3       4    1438   Ulnar Pulse [Right]          NaN  carevue  chartevents   \n",
       "4       5    1439   Visual Disturbances          NaN  carevue  chartevents   \n",
       "\n",
       "  category unitname param_type  conceptid  \n",
       "0      NaN      NaN        NaN        NaN  \n",
       "1      NaN      NaN        NaN        NaN  \n",
       "2      NaN      NaN        NaN        NaN  \n",
       "3      NaN      NaN        NaN        NaN  \n",
       "4      NaN      NaN        NaN        NaN  "
      ]
     },
     "execution_count": 29,
     "metadata": {},
     "output_type": "execute_result"
    }
   ],
   "source": [
    "df = pd.read_csv('Data/dataset/D_ITEMS.csv', encoding = 'ascii')\n",
    "\n",
    "# Visualizamos los primeros 5 registros.\n",
    "df.head()"
   ]
  },
  {
   "cell_type": "code",
   "execution_count": 30,
   "metadata": {},
   "outputs": [
    {
     "name": "stdout",
     "output_type": "stream",
     "text": [
      "<class 'pandas.core.frame.DataFrame'>\n",
      "RangeIndex: 12487 entries, 0 to 12486\n",
      "Data columns (total 10 columns):\n",
      " #   Column        Non-Null Count  Dtype  \n",
      "---  ------        --------------  -----  \n",
      " 0   row_id        12487 non-null  int64  \n",
      " 1   itemid        12487 non-null  int64  \n",
      " 2   label         12483 non-null  object \n",
      " 3   abbreviation  2992 non-null   object \n",
      " 4   dbsource      12487 non-null  object \n",
      " 5   linksto       12487 non-null  object \n",
      " 6   category      6049 non-null   object \n",
      " 7   unitname      1234 non-null   object \n",
      " 8   param_type    2992 non-null   object \n",
      " 9   conceptid     0 non-null      float64\n",
      "dtypes: float64(1), int64(2), object(7)\n",
      "memory usage: 975.7+ KB\n"
     ]
    }
   ],
   "source": [
    "# Vemos la información de la tabla.\n",
    "df.info()"
   ]
  },
  {
   "attachments": {},
   "cell_type": "markdown",
   "metadata": {},
   "source": [
    "Columna 'abbreviation'"
   ]
  },
  {
   "cell_type": "code",
   "execution_count": 31,
   "metadata": {},
   "outputs": [
    {
     "data": {
      "text/html": [
       "<div>\n",
       "<style scoped>\n",
       "    .dataframe tbody tr th:only-of-type {\n",
       "        vertical-align: middle;\n",
       "    }\n",
       "\n",
       "    .dataframe tbody tr th {\n",
       "        vertical-align: top;\n",
       "    }\n",
       "\n",
       "    .dataframe thead th {\n",
       "        text-align: right;\n",
       "    }\n",
       "</style>\n",
       "<table border=\"1\" class=\"dataframe\">\n",
       "  <thead>\n",
       "    <tr style=\"text-align: right;\">\n",
       "      <th></th>\n",
       "      <th>row_id</th>\n",
       "      <th>itemid</th>\n",
       "      <th>label</th>\n",
       "      <th>abbreviation</th>\n",
       "      <th>dbsource</th>\n",
       "      <th>linksto</th>\n",
       "      <th>category</th>\n",
       "      <th>unitname</th>\n",
       "      <th>param_type</th>\n",
       "      <th>conceptid</th>\n",
       "    </tr>\n",
       "  </thead>\n",
       "  <tbody>\n",
       "    <tr>\n",
       "      <th>9495</th>\n",
       "      <td>12683</td>\n",
       "      <td>220507</td>\n",
       "      <td>Activated Clotting Time</td>\n",
       "      <td>ACT</td>\n",
       "      <td>metavision</td>\n",
       "      <td>chartevents</td>\n",
       "      <td>Labs</td>\n",
       "      <td>None</td>\n",
       "      <td>Numeric</td>\n",
       "      <td>NaN</td>\n",
       "    </tr>\n",
       "    <tr>\n",
       "      <th>9496</th>\n",
       "      <td>12684</td>\n",
       "      <td>220541</td>\n",
       "      <td>ZFibrinogen</td>\n",
       "      <td>ZFibrinogen</td>\n",
       "      <td>metavision</td>\n",
       "      <td>chartevents</td>\n",
       "      <td>Labs</td>\n",
       "      <td>None</td>\n",
       "      <td>Numeric</td>\n",
       "      <td>NaN</td>\n",
       "    </tr>\n",
       "    <tr>\n",
       "      <th>9497</th>\n",
       "      <td>12685</td>\n",
       "      <td>220545</td>\n",
       "      <td>Hematocrit (serum)</td>\n",
       "      <td>Hematocrit (serum)</td>\n",
       "      <td>metavision</td>\n",
       "      <td>chartevents</td>\n",
       "      <td>Labs</td>\n",
       "      <td>None</td>\n",
       "      <td>Numeric</td>\n",
       "      <td>NaN</td>\n",
       "    </tr>\n",
       "    <tr>\n",
       "      <th>9498</th>\n",
       "      <td>12686</td>\n",
       "      <td>220546</td>\n",
       "      <td>WBC</td>\n",
       "      <td>WBC</td>\n",
       "      <td>metavision</td>\n",
       "      <td>chartevents</td>\n",
       "      <td>Labs</td>\n",
       "      <td>None</td>\n",
       "      <td>Numeric</td>\n",
       "      <td>NaN</td>\n",
       "    </tr>\n",
       "    <tr>\n",
       "      <th>9499</th>\n",
       "      <td>12687</td>\n",
       "      <td>220560</td>\n",
       "      <td>ZProthrombin time</td>\n",
       "      <td>ZPT</td>\n",
       "      <td>metavision</td>\n",
       "      <td>chartevents</td>\n",
       "      <td>Labs</td>\n",
       "      <td>None</td>\n",
       "      <td>Numeric</td>\n",
       "      <td>NaN</td>\n",
       "    </tr>\n",
       "    <tr>\n",
       "      <th>...</th>\n",
       "      <td>...</td>\n",
       "      <td>...</td>\n",
       "      <td>...</td>\n",
       "      <td>...</td>\n",
       "      <td>...</td>\n",
       "      <td>...</td>\n",
       "      <td>...</td>\n",
       "      <td>...</td>\n",
       "      <td>...</td>\n",
       "      <td>...</td>\n",
       "    </tr>\n",
       "    <tr>\n",
       "      <th>12482</th>\n",
       "      <td>15670</td>\n",
       "      <td>228575</td>\n",
       "      <td>Incision #5- Treatment</td>\n",
       "      <td>Incision #5- Treatment</td>\n",
       "      <td>metavision</td>\n",
       "      <td>chartevents</td>\n",
       "      <td>Skin - Incisions</td>\n",
       "      <td>NaN</td>\n",
       "      <td>Text</td>\n",
       "      <td>NaN</td>\n",
       "    </tr>\n",
       "    <tr>\n",
       "      <th>12483</th>\n",
       "      <td>15671</td>\n",
       "      <td>228576</td>\n",
       "      <td>Incision #6- Treatment</td>\n",
       "      <td>Incision #6- Treatment</td>\n",
       "      <td>metavision</td>\n",
       "      <td>chartevents</td>\n",
       "      <td>Skin - Incisions</td>\n",
       "      <td>NaN</td>\n",
       "      <td>Text</td>\n",
       "      <td>NaN</td>\n",
       "    </tr>\n",
       "    <tr>\n",
       "      <th>12484</th>\n",
       "      <td>15672</td>\n",
       "      <td>228577</td>\n",
       "      <td>Impaired Skin #2- Type</td>\n",
       "      <td>Impaired Skin #2- Type</td>\n",
       "      <td>metavision</td>\n",
       "      <td>chartevents</td>\n",
       "      <td>Skin - Impairment</td>\n",
       "      <td>NaN</td>\n",
       "      <td>Text</td>\n",
       "      <td>NaN</td>\n",
       "    </tr>\n",
       "    <tr>\n",
       "      <th>12485</th>\n",
       "      <td>15673</td>\n",
       "      <td>228578</td>\n",
       "      <td>Impaired Skin #3- Type</td>\n",
       "      <td>Impaired Skin #3- Type</td>\n",
       "      <td>metavision</td>\n",
       "      <td>chartevents</td>\n",
       "      <td>Skin - Impairment</td>\n",
       "      <td>NaN</td>\n",
       "      <td>Text</td>\n",
       "      <td>NaN</td>\n",
       "    </tr>\n",
       "    <tr>\n",
       "      <th>12486</th>\n",
       "      <td>15674</td>\n",
       "      <td>228579</td>\n",
       "      <td>Impaired Skin #4- Type</td>\n",
       "      <td>Impaired Skin #4- Type</td>\n",
       "      <td>metavision</td>\n",
       "      <td>chartevents</td>\n",
       "      <td>Skin - Impairment</td>\n",
       "      <td>NaN</td>\n",
       "      <td>Text</td>\n",
       "      <td>NaN</td>\n",
       "    </tr>\n",
       "  </tbody>\n",
       "</table>\n",
       "<p>2992 rows × 10 columns</p>\n",
       "</div>"
      ],
      "text/plain": [
       "       row_id  itemid                    label            abbreviation  \\\n",
       "9495    12683  220507  Activated Clotting Time                     ACT   \n",
       "9496    12684  220541              ZFibrinogen             ZFibrinogen   \n",
       "9497    12685  220545       Hematocrit (serum)      Hematocrit (serum)   \n",
       "9498    12686  220546                      WBC                     WBC   \n",
       "9499    12687  220560        ZProthrombin time                     ZPT   \n",
       "...       ...     ...                      ...                     ...   \n",
       "12482   15670  228575   Incision #5- Treatment  Incision #5- Treatment   \n",
       "12483   15671  228576   Incision #6- Treatment  Incision #6- Treatment   \n",
       "12484   15672  228577   Impaired Skin #2- Type  Impaired Skin #2- Type   \n",
       "12485   15673  228578   Impaired Skin #3- Type  Impaired Skin #3- Type   \n",
       "12486   15674  228579   Impaired Skin #4- Type  Impaired Skin #4- Type   \n",
       "\n",
       "         dbsource      linksto           category unitname param_type  \\\n",
       "9495   metavision  chartevents               Labs     None    Numeric   \n",
       "9496   metavision  chartevents               Labs     None    Numeric   \n",
       "9497   metavision  chartevents               Labs     None    Numeric   \n",
       "9498   metavision  chartevents               Labs     None    Numeric   \n",
       "9499   metavision  chartevents               Labs     None    Numeric   \n",
       "...           ...          ...                ...      ...        ...   \n",
       "12482  metavision  chartevents   Skin - Incisions      NaN       Text   \n",
       "12483  metavision  chartevents   Skin - Incisions      NaN       Text   \n",
       "12484  metavision  chartevents  Skin - Impairment      NaN       Text   \n",
       "12485  metavision  chartevents  Skin - Impairment      NaN       Text   \n",
       "12486  metavision  chartevents  Skin - Impairment      NaN       Text   \n",
       "\n",
       "       conceptid  \n",
       "9495         NaN  \n",
       "9496         NaN  \n",
       "9497         NaN  \n",
       "9498         NaN  \n",
       "9499         NaN  \n",
       "...          ...  \n",
       "12482        NaN  \n",
       "12483        NaN  \n",
       "12484        NaN  \n",
       "12485        NaN  \n",
       "12486        NaN  \n",
       "\n",
       "[2992 rows x 10 columns]"
      ]
     },
     "execution_count": 31,
     "metadata": {},
     "output_type": "execute_result"
    }
   ],
   "source": [
    "# Vemos los registros donde no tiene la columna 'abbreviation' con nulos. \n",
    "df[~df.abbreviation.isnull()]"
   ]
  },
  {
   "cell_type": "code",
   "execution_count": 32,
   "metadata": {},
   "outputs": [],
   "source": [
    "# Como la abreviación no es de importancia, y tiene cerca del 75%  de datos nulos, eliminamos esta columna. \n",
    "df.drop(['abbreviation'], axis = 'columns', inplace=True)"
   ]
  },
  {
   "attachments": {},
   "cell_type": "markdown",
   "metadata": {},
   "source": [
    "Columna 'unitname'"
   ]
  },
  {
   "cell_type": "code",
   "execution_count": 33,
   "metadata": {},
   "outputs": [
    {
     "data": {
      "text/html": [
       "<div>\n",
       "<style scoped>\n",
       "    .dataframe tbody tr th:only-of-type {\n",
       "        vertical-align: middle;\n",
       "    }\n",
       "\n",
       "    .dataframe tbody tr th {\n",
       "        vertical-align: top;\n",
       "    }\n",
       "\n",
       "    .dataframe thead th {\n",
       "        text-align: right;\n",
       "    }\n",
       "</style>\n",
       "<table border=\"1\" class=\"dataframe\">\n",
       "  <thead>\n",
       "    <tr style=\"text-align: right;\">\n",
       "      <th></th>\n",
       "      <th>row_id</th>\n",
       "      <th>itemid</th>\n",
       "      <th>label</th>\n",
       "      <th>dbsource</th>\n",
       "      <th>linksto</th>\n",
       "      <th>category</th>\n",
       "      <th>unitname</th>\n",
       "      <th>param_type</th>\n",
       "      <th>conceptid</th>\n",
       "    </tr>\n",
       "  </thead>\n",
       "  <tbody>\n",
       "    <tr>\n",
       "      <th>9495</th>\n",
       "      <td>12683</td>\n",
       "      <td>220507</td>\n",
       "      <td>Activated Clotting Time</td>\n",
       "      <td>metavision</td>\n",
       "      <td>chartevents</td>\n",
       "      <td>Labs</td>\n",
       "      <td>None</td>\n",
       "      <td>Numeric</td>\n",
       "      <td>NaN</td>\n",
       "    </tr>\n",
       "    <tr>\n",
       "      <th>9496</th>\n",
       "      <td>12684</td>\n",
       "      <td>220541</td>\n",
       "      <td>ZFibrinogen</td>\n",
       "      <td>metavision</td>\n",
       "      <td>chartevents</td>\n",
       "      <td>Labs</td>\n",
       "      <td>None</td>\n",
       "      <td>Numeric</td>\n",
       "      <td>NaN</td>\n",
       "    </tr>\n",
       "    <tr>\n",
       "      <th>9497</th>\n",
       "      <td>12685</td>\n",
       "      <td>220545</td>\n",
       "      <td>Hematocrit (serum)</td>\n",
       "      <td>metavision</td>\n",
       "      <td>chartevents</td>\n",
       "      <td>Labs</td>\n",
       "      <td>None</td>\n",
       "      <td>Numeric</td>\n",
       "      <td>NaN</td>\n",
       "    </tr>\n",
       "    <tr>\n",
       "      <th>9498</th>\n",
       "      <td>12686</td>\n",
       "      <td>220546</td>\n",
       "      <td>WBC</td>\n",
       "      <td>metavision</td>\n",
       "      <td>chartevents</td>\n",
       "      <td>Labs</td>\n",
       "      <td>None</td>\n",
       "      <td>Numeric</td>\n",
       "      <td>NaN</td>\n",
       "    </tr>\n",
       "    <tr>\n",
       "      <th>9499</th>\n",
       "      <td>12687</td>\n",
       "      <td>220560</td>\n",
       "      <td>ZProthrombin time</td>\n",
       "      <td>metavision</td>\n",
       "      <td>chartevents</td>\n",
       "      <td>Labs</td>\n",
       "      <td>None</td>\n",
       "      <td>Numeric</td>\n",
       "      <td>NaN</td>\n",
       "    </tr>\n",
       "    <tr>\n",
       "      <th>...</th>\n",
       "      <td>...</td>\n",
       "      <td>...</td>\n",
       "      <td>...</td>\n",
       "      <td>...</td>\n",
       "      <td>...</td>\n",
       "      <td>...</td>\n",
       "      <td>...</td>\n",
       "      <td>...</td>\n",
       "      <td>...</td>\n",
       "    </tr>\n",
       "    <tr>\n",
       "      <th>12363</th>\n",
       "      <td>15551</td>\n",
       "      <td>228435</td>\n",
       "      <td>Volume instilled (MBAL)</td>\n",
       "      <td>metavision</td>\n",
       "      <td>chartevents</td>\n",
       "      <td>Bronchoscopy</td>\n",
       "      <td>mL</td>\n",
       "      <td>Numeric</td>\n",
       "      <td>NaN</td>\n",
       "    </tr>\n",
       "    <tr>\n",
       "      <th>12364</th>\n",
       "      <td>15552</td>\n",
       "      <td>228436</td>\n",
       "      <td>Volume obtained (MBAL)</td>\n",
       "      <td>metavision</td>\n",
       "      <td>chartevents</td>\n",
       "      <td>Bronchoscopy</td>\n",
       "      <td>mL</td>\n",
       "      <td>Numeric</td>\n",
       "      <td>NaN</td>\n",
       "    </tr>\n",
       "    <tr>\n",
       "      <th>12372</th>\n",
       "      <td>15560</td>\n",
       "      <td>228444</td>\n",
       "      <td>BIS Index Range</td>\n",
       "      <td>metavision</td>\n",
       "      <td>chartevents</td>\n",
       "      <td>Pain/Sedation</td>\n",
       "      <td>None</td>\n",
       "      <td>Numeric</td>\n",
       "      <td>NaN</td>\n",
       "    </tr>\n",
       "    <tr>\n",
       "      <th>12395</th>\n",
       "      <td>15583</td>\n",
       "      <td>228478</td>\n",
       "      <td>Number of Attempts (Gen Proc)</td>\n",
       "      <td>metavision</td>\n",
       "      <td>chartevents</td>\n",
       "      <td>Generic Proc Note</td>\n",
       "      <td>None</td>\n",
       "      <td>Numeric</td>\n",
       "      <td>NaN</td>\n",
       "    </tr>\n",
       "    <tr>\n",
       "      <th>12396</th>\n",
       "      <td>15584</td>\n",
       "      <td>228479</td>\n",
       "      <td>Number of Operators (Gen Proc)</td>\n",
       "      <td>metavision</td>\n",
       "      <td>chartevents</td>\n",
       "      <td>Generic Proc Note</td>\n",
       "      <td>None</td>\n",
       "      <td>Numeric</td>\n",
       "      <td>NaN</td>\n",
       "    </tr>\n",
       "  </tbody>\n",
       "</table>\n",
       "<p>1234 rows × 9 columns</p>\n",
       "</div>"
      ],
      "text/plain": [
       "       row_id  itemid                           label    dbsource  \\\n",
       "9495    12683  220507         Activated Clotting Time  metavision   \n",
       "9496    12684  220541                     ZFibrinogen  metavision   \n",
       "9497    12685  220545              Hematocrit (serum)  metavision   \n",
       "9498    12686  220546                             WBC  metavision   \n",
       "9499    12687  220560               ZProthrombin time  metavision   \n",
       "...       ...     ...                             ...         ...   \n",
       "12363   15551  228435         Volume instilled (MBAL)  metavision   \n",
       "12364   15552  228436          Volume obtained (MBAL)  metavision   \n",
       "12372   15560  228444                 BIS Index Range  metavision   \n",
       "12395   15583  228478   Number of Attempts (Gen Proc)  metavision   \n",
       "12396   15584  228479  Number of Operators (Gen Proc)  metavision   \n",
       "\n",
       "           linksto           category unitname param_type  conceptid  \n",
       "9495   chartevents               Labs     None    Numeric        NaN  \n",
       "9496   chartevents               Labs     None    Numeric        NaN  \n",
       "9497   chartevents               Labs     None    Numeric        NaN  \n",
       "9498   chartevents               Labs     None    Numeric        NaN  \n",
       "9499   chartevents               Labs     None    Numeric        NaN  \n",
       "...            ...                ...      ...        ...        ...  \n",
       "12363  chartevents       Bronchoscopy       mL    Numeric        NaN  \n",
       "12364  chartevents       Bronchoscopy       mL    Numeric        NaN  \n",
       "12372  chartevents      Pain/Sedation     None    Numeric        NaN  \n",
       "12395  chartevents  Generic Proc Note     None    Numeric        NaN  \n",
       "12396  chartevents  Generic Proc Note     None    Numeric        NaN  \n",
       "\n",
       "[1234 rows x 9 columns]"
      ]
     },
     "execution_count": 33,
     "metadata": {},
     "output_type": "execute_result"
    }
   ],
   "source": [
    "# Vemos los registros que no tiene registros nulos en 'unitname', pero tambien nos damos cuenta que tiene gran cantidad de datos 'none'.\n",
    "df[~df.unitname.isnull()]"
   ]
  },
  {
   "cell_type": "code",
   "execution_count": 34,
   "metadata": {},
   "outputs": [
    {
     "data": {
      "text/plain": [
       "None                   383\n",
       "mL                     366\n",
       "mmHg                    83\n",
       "mg                      67\n",
       "dose                    61\n",
       "cm                      58\n",
       "%                       33\n",
       "L/min                   22\n",
       "cmH2O                   19\n",
       "bpm                     13\n",
       "units                   10\n",
       "grams                    9\n",
       "insp/min                 9\n",
       "ml/hr                    8\n",
       "?C                       8\n",
       "mA                       6\n",
       "sec                      6\n",
       "mEq                      6\n",
       "lbs                      4\n",
       "mmol                     4\n",
       "min                      4\n",
       "mV                       4\n",
       "L/min/m2                 3\n",
       "mcg                      3\n",
       "dynes*sec/cm5            3\n",
       "kg                       3\n",
       "mL SC                    3\n",
       "?F                       3\n",
       "ml/min                   3\n",
       "mL/m2                    3\n",
       "mL/beat                  2\n",
       "Liters                   2\n",
       "dynes.sec.cm-5/m2        2\n",
       "years                    2\n",
       "mEq.                     1\n",
       "ml/kg                    1\n",
       "g/kg                     1\n",
       "mL/min/m2                1\n",
       "Inch                     1\n",
       "kcal/day                 1\n",
       "kcal/kg                  1\n",
       "Degree                   1\n",
       "ounces                   1\n",
       "hour                     1\n",
       "/min                     1\n",
       "psi                      1\n",
       "ppm                      1\n",
       "mg/hour                  1\n",
       "International Units      1\n",
       "cmH2O/L/seconds          1\n",
       "g/dl                     1\n",
       "msec                     1\n",
       "dynes*sec/cm5/m2         1\n",
       "Name: unitname, dtype: int64"
      ]
     },
     "execution_count": 34,
     "metadata": {},
     "output_type": "execute_result"
    }
   ],
   "source": [
    "df.unitname.value_counts()"
   ]
  },
  {
   "cell_type": "code",
   "execution_count": 35,
   "metadata": {},
   "outputs": [],
   "source": [
    "# Eliminamos esta columna, ya que contiene muchos datos nulos y none. \n",
    "df.drop(['unitname'], axis = 'columns', inplace=True)\n"
   ]
  },
  {
   "attachments": {},
   "cell_type": "markdown",
   "metadata": {},
   "source": [
    "Columna 'param_type'"
   ]
  },
  {
   "cell_type": "code",
   "execution_count": 36,
   "metadata": {},
   "outputs": [
    {
     "data": {
      "text/html": [
       "<div>\n",
       "<style scoped>\n",
       "    .dataframe tbody tr th:only-of-type {\n",
       "        vertical-align: middle;\n",
       "    }\n",
       "\n",
       "    .dataframe tbody tr th {\n",
       "        vertical-align: top;\n",
       "    }\n",
       "\n",
       "    .dataframe thead th {\n",
       "        text-align: right;\n",
       "    }\n",
       "</style>\n",
       "<table border=\"1\" class=\"dataframe\">\n",
       "  <thead>\n",
       "    <tr style=\"text-align: right;\">\n",
       "      <th></th>\n",
       "      <th>row_id</th>\n",
       "      <th>itemid</th>\n",
       "      <th>label</th>\n",
       "      <th>dbsource</th>\n",
       "      <th>linksto</th>\n",
       "      <th>category</th>\n",
       "      <th>param_type</th>\n",
       "      <th>conceptid</th>\n",
       "    </tr>\n",
       "  </thead>\n",
       "  <tbody>\n",
       "    <tr>\n",
       "      <th>9495</th>\n",
       "      <td>12683</td>\n",
       "      <td>220507</td>\n",
       "      <td>Activated Clotting Time</td>\n",
       "      <td>metavision</td>\n",
       "      <td>chartevents</td>\n",
       "      <td>Labs</td>\n",
       "      <td>Numeric</td>\n",
       "      <td>NaN</td>\n",
       "    </tr>\n",
       "    <tr>\n",
       "      <th>9496</th>\n",
       "      <td>12684</td>\n",
       "      <td>220541</td>\n",
       "      <td>ZFibrinogen</td>\n",
       "      <td>metavision</td>\n",
       "      <td>chartevents</td>\n",
       "      <td>Labs</td>\n",
       "      <td>Numeric</td>\n",
       "      <td>NaN</td>\n",
       "    </tr>\n",
       "    <tr>\n",
       "      <th>9497</th>\n",
       "      <td>12685</td>\n",
       "      <td>220545</td>\n",
       "      <td>Hematocrit (serum)</td>\n",
       "      <td>metavision</td>\n",
       "      <td>chartevents</td>\n",
       "      <td>Labs</td>\n",
       "      <td>Numeric</td>\n",
       "      <td>NaN</td>\n",
       "    </tr>\n",
       "    <tr>\n",
       "      <th>9498</th>\n",
       "      <td>12686</td>\n",
       "      <td>220546</td>\n",
       "      <td>WBC</td>\n",
       "      <td>metavision</td>\n",
       "      <td>chartevents</td>\n",
       "      <td>Labs</td>\n",
       "      <td>Numeric</td>\n",
       "      <td>NaN</td>\n",
       "    </tr>\n",
       "    <tr>\n",
       "      <th>9499</th>\n",
       "      <td>12687</td>\n",
       "      <td>220560</td>\n",
       "      <td>ZProthrombin time</td>\n",
       "      <td>metavision</td>\n",
       "      <td>chartevents</td>\n",
       "      <td>Labs</td>\n",
       "      <td>Numeric</td>\n",
       "      <td>NaN</td>\n",
       "    </tr>\n",
       "    <tr>\n",
       "      <th>...</th>\n",
       "      <td>...</td>\n",
       "      <td>...</td>\n",
       "      <td>...</td>\n",
       "      <td>...</td>\n",
       "      <td>...</td>\n",
       "      <td>...</td>\n",
       "      <td>...</td>\n",
       "      <td>...</td>\n",
       "    </tr>\n",
       "    <tr>\n",
       "      <th>12482</th>\n",
       "      <td>15670</td>\n",
       "      <td>228575</td>\n",
       "      <td>Incision #5- Treatment</td>\n",
       "      <td>metavision</td>\n",
       "      <td>chartevents</td>\n",
       "      <td>Skin - Incisions</td>\n",
       "      <td>Text</td>\n",
       "      <td>NaN</td>\n",
       "    </tr>\n",
       "    <tr>\n",
       "      <th>12483</th>\n",
       "      <td>15671</td>\n",
       "      <td>228576</td>\n",
       "      <td>Incision #6- Treatment</td>\n",
       "      <td>metavision</td>\n",
       "      <td>chartevents</td>\n",
       "      <td>Skin - Incisions</td>\n",
       "      <td>Text</td>\n",
       "      <td>NaN</td>\n",
       "    </tr>\n",
       "    <tr>\n",
       "      <th>12484</th>\n",
       "      <td>15672</td>\n",
       "      <td>228577</td>\n",
       "      <td>Impaired Skin #2- Type</td>\n",
       "      <td>metavision</td>\n",
       "      <td>chartevents</td>\n",
       "      <td>Skin - Impairment</td>\n",
       "      <td>Text</td>\n",
       "      <td>NaN</td>\n",
       "    </tr>\n",
       "    <tr>\n",
       "      <th>12485</th>\n",
       "      <td>15673</td>\n",
       "      <td>228578</td>\n",
       "      <td>Impaired Skin #3- Type</td>\n",
       "      <td>metavision</td>\n",
       "      <td>chartevents</td>\n",
       "      <td>Skin - Impairment</td>\n",
       "      <td>Text</td>\n",
       "      <td>NaN</td>\n",
       "    </tr>\n",
       "    <tr>\n",
       "      <th>12486</th>\n",
       "      <td>15674</td>\n",
       "      <td>228579</td>\n",
       "      <td>Impaired Skin #4- Type</td>\n",
       "      <td>metavision</td>\n",
       "      <td>chartevents</td>\n",
       "      <td>Skin - Impairment</td>\n",
       "      <td>Text</td>\n",
       "      <td>NaN</td>\n",
       "    </tr>\n",
       "  </tbody>\n",
       "</table>\n",
       "<p>2992 rows × 8 columns</p>\n",
       "</div>"
      ],
      "text/plain": [
       "       row_id  itemid                    label    dbsource      linksto  \\\n",
       "9495    12683  220507  Activated Clotting Time  metavision  chartevents   \n",
       "9496    12684  220541              ZFibrinogen  metavision  chartevents   \n",
       "9497    12685  220545       Hematocrit (serum)  metavision  chartevents   \n",
       "9498    12686  220546                      WBC  metavision  chartevents   \n",
       "9499    12687  220560        ZProthrombin time  metavision  chartevents   \n",
       "...       ...     ...                      ...         ...          ...   \n",
       "12482   15670  228575   Incision #5- Treatment  metavision  chartevents   \n",
       "12483   15671  228576   Incision #6- Treatment  metavision  chartevents   \n",
       "12484   15672  228577   Impaired Skin #2- Type  metavision  chartevents   \n",
       "12485   15673  228578   Impaired Skin #3- Type  metavision  chartevents   \n",
       "12486   15674  228579   Impaired Skin #4- Type  metavision  chartevents   \n",
       "\n",
       "                category param_type  conceptid  \n",
       "9495                Labs    Numeric        NaN  \n",
       "9496                Labs    Numeric        NaN  \n",
       "9497                Labs    Numeric        NaN  \n",
       "9498                Labs    Numeric        NaN  \n",
       "9499                Labs    Numeric        NaN  \n",
       "...                  ...        ...        ...  \n",
       "12482   Skin - Incisions       Text        NaN  \n",
       "12483   Skin - Incisions       Text        NaN  \n",
       "12484  Skin - Impairment       Text        NaN  \n",
       "12485  Skin - Impairment       Text        NaN  \n",
       "12486  Skin - Impairment       Text        NaN  \n",
       "\n",
       "[2992 rows x 8 columns]"
      ]
     },
     "execution_count": 36,
     "metadata": {},
     "output_type": "execute_result"
    }
   ],
   "source": [
    "df[~df.param_type.isnull()]"
   ]
  },
  {
   "cell_type": "code",
   "execution_count": 37,
   "metadata": {},
   "outputs": [
    {
     "data": {
      "text/plain": [
       "Text                1309\n",
       "Numeric              647\n",
       "Solution             422\n",
       "Checkbox             307\n",
       "Date time            142\n",
       "Process              125\n",
       "Numeric with tag      40\n",
       "Name: param_type, dtype: int64"
      ]
     },
     "execution_count": 37,
     "metadata": {},
     "output_type": "execute_result"
    }
   ],
   "source": [
    "df.param_type.value_counts()"
   ]
  },
  {
   "cell_type": "code",
   "execution_count": 38,
   "metadata": {},
   "outputs": [],
   "source": [
    "# Eliminamos esta columna porque no nos brinda mucha información. Y ademas tiene una gran cantidad de datos nulos. \n",
    "df.drop(['param_type'], axis = 'columns', inplace=True)\n"
   ]
  },
  {
   "attachments": {},
   "cell_type": "markdown",
   "metadata": {},
   "source": [
    "Columna 'conceptid'"
   ]
  },
  {
   "cell_type": "code",
   "execution_count": 39,
   "metadata": {},
   "outputs": [],
   "source": [
    "# Elimnamos esta columna ya que todos sus registros son nulos.\n",
    "df.drop(['conceptid'], axis = 'columns', inplace=True)\n"
   ]
  },
  {
   "attachments": {},
   "cell_type": "markdown",
   "metadata": {},
   "source": [
    "Columna 'category'"
   ]
  },
  {
   "cell_type": "code",
   "execution_count": 40,
   "metadata": {},
   "outputs": [
    {
     "data": {
      "text/plain": [
       "Free Form Intake            2420\n",
       "ORGANISM                     312\n",
       "Access Lines - Invasive      312\n",
       "Skin - Impairment            271\n",
       "Labs                         148\n",
       "                            ... \n",
       "VBG'S                          1\n",
       "Research Enrollment Note       1\n",
       "NG Feeding                     1\n",
       "Quick Admit                    1\n",
       "Meds                           1\n",
       "Name: category, Length: 94, dtype: int64"
      ]
     },
     "execution_count": 40,
     "metadata": {},
     "output_type": "execute_result"
    }
   ],
   "source": [
    "# Vemos que hay un total de 94 categorias con la siguiente distribución. \n",
    "df.category.value_counts()"
   ]
  },
  {
   "attachments": {},
   "cell_type": "markdown",
   "metadata": {},
   "source": [
    "Columna 'dbsource'"
   ]
  },
  {
   "cell_type": "code",
   "execution_count": 41,
   "metadata": {},
   "outputs": [
    {
     "data": {
      "text/plain": [
       "carevue       9059\n",
       "metavision    2992\n",
       "hospital       436\n",
       "Name: dbsource, dtype: int64"
      ]
     },
     "execution_count": 41,
     "metadata": {},
     "output_type": "execute_result"
    }
   ],
   "source": [
    "# Vemos que solo hay 3 valores para 'dbsource'.\n",
    "dbsource = df.dbsource.value_counts()\n",
    "dbsource"
   ]
  },
  {
   "cell_type": "code",
   "execution_count": 42,
   "metadata": {},
   "outputs": [],
   "source": [
    "# Funcion auxiliar para el grafico de torta.\n",
    "# No mostrara el porcentaje para menores del 3%.\n",
    "def autopct(pct): \n",
    "    return ('{:.2f}%'.format(pct)) if pct > 3 else ''"
   ]
  },
  {
   "cell_type": "code",
   "execution_count": 43,
   "metadata": {},
   "outputs": [
    {
     "data": {
      "image/png": "[encoded data removed]",
      "text/plain": [
       "<Figure size 640x480 with 1 Axes>"
      ]
     },
     "metadata": {},
     "output_type": "display_data"
    }
   ],
   "source": [
    "# Vemos como se distribuye la columna 'dbsource'.\n",
    "\n",
    "\n",
    "plt.pie(dbsource.values, labels = dbsource.index, autopct=autopct)\n",
    "plt.show()\n"
   ]
  },
  {
   "cell_type": "code",
   "execution_count": null,
   "metadata": {},
   "outputs": [],
   "source": []
  },
  {
   "attachments": {},
   "cell_type": "markdown",
   "metadata": {},
   "source": [
    "Columna 'linksto'"
   ]
  },
  {
   "cell_type": "code",
   "execution_count": 44,
   "metadata": {},
   "outputs": [
    {
     "data": {
      "text/plain": [
       "chartevents           7212\n",
       "inputevents_cv        2938\n",
       "outputevents          1161\n",
       "microbiologyevents     436\n",
       "inputevents_mv         422\n",
       "datetimeevents         193\n",
       "procedureevents_mv     125\n",
       "Name: linksto, dtype: int64"
      ]
     },
     "execution_count": 44,
     "metadata": {},
     "output_type": "execute_result"
    }
   ],
   "source": [
    "linksto = df.linksto.value_counts()\n",
    "linksto"
   ]
  },
  {
   "cell_type": "code",
   "execution_count": 45,
   "metadata": {},
   "outputs": [
    {
     "data": {
      "image/png": "[encoded data removed]",
      "text/plain": [
       "<Figure size 640x480 with 1 Axes>"
      ]
     },
     "metadata": {},
     "output_type": "display_data"
    }
   ],
   "source": [
    "plt.pie(linksto.values, labels = linksto.index, autopct=autopct)\n",
    "plt.show()"
   ]
  },
  {
   "cell_type": "code",
   "execution_count": 46,
   "metadata": {},
   "outputs": [
    {
     "data": {
      "text/html": [
       "<div>\n",
       "<style scoped>\n",
       "    .dataframe tbody tr th:only-of-type {\n",
       "        vertical-align: middle;\n",
       "    }\n",
       "\n",
       "    .dataframe tbody tr th {\n",
       "        vertical-align: top;\n",
       "    }\n",
       "\n",
       "    .dataframe thead th {\n",
       "        text-align: right;\n",
       "    }\n",
       "</style>\n",
       "<table border=\"1\" class=\"dataframe\">\n",
       "  <thead>\n",
       "    <tr style=\"text-align: right;\">\n",
       "      <th></th>\n",
       "      <th>row_id</th>\n",
       "      <th>itemid</th>\n",
       "      <th>label</th>\n",
       "      <th>dbsource</th>\n",
       "      <th>linksto</th>\n",
       "      <th>category</th>\n",
       "    </tr>\n",
       "  </thead>\n",
       "  <tbody>\n",
       "    <tr>\n",
       "      <th>0</th>\n",
       "      <td>1</td>\n",
       "      <td>1435</td>\n",
       "      <td>Sustained Nystamus</td>\n",
       "      <td>carevue</td>\n",
       "      <td>chartevents</td>\n",
       "      <td>NaN</td>\n",
       "    </tr>\n",
       "    <tr>\n",
       "      <th>1</th>\n",
       "      <td>2</td>\n",
       "      <td>1436</td>\n",
       "      <td>Tactile Disturbances</td>\n",
       "      <td>carevue</td>\n",
       "      <td>chartevents</td>\n",
       "      <td>NaN</td>\n",
       "    </tr>\n",
       "    <tr>\n",
       "      <th>2</th>\n",
       "      <td>3</td>\n",
       "      <td>1437</td>\n",
       "      <td>Tremor</td>\n",
       "      <td>carevue</td>\n",
       "      <td>chartevents</td>\n",
       "      <td>NaN</td>\n",
       "    </tr>\n",
       "    <tr>\n",
       "      <th>3</th>\n",
       "      <td>4</td>\n",
       "      <td>1438</td>\n",
       "      <td>Ulnar Pulse [Right]</td>\n",
       "      <td>carevue</td>\n",
       "      <td>chartevents</td>\n",
       "      <td>NaN</td>\n",
       "    </tr>\n",
       "    <tr>\n",
       "      <th>4</th>\n",
       "      <td>5</td>\n",
       "      <td>1439</td>\n",
       "      <td>Visual Disturbances</td>\n",
       "      <td>carevue</td>\n",
       "      <td>chartevents</td>\n",
       "      <td>NaN</td>\n",
       "    </tr>\n",
       "  </tbody>\n",
       "</table>\n",
       "</div>"
      ],
      "text/plain": [
       "   row_id  itemid                 label dbsource      linksto category\n",
       "0       1    1435    Sustained Nystamus  carevue  chartevents      NaN\n",
       "1       2    1436  Tactile Disturbances  carevue  chartevents      NaN\n",
       "2       3    1437                Tremor  carevue  chartevents      NaN\n",
       "3       4    1438   Ulnar Pulse [Right]  carevue  chartevents      NaN\n",
       "4       5    1439   Visual Disturbances  carevue  chartevents      NaN"
      ]
     },
     "execution_count": 46,
     "metadata": {},
     "output_type": "execute_result"
    }
   ],
   "source": [
    "df.head()"
   ]
  },
  {
   "cell_type": "code",
   "execution_count": 47,
   "metadata": {},
   "outputs": [],
   "source": [
    "# Expotamos a un .csv\n",
    "df.to_csv(\"df_d_items.csv\", index=False)\n",
    "\n"
   ]
  },
  {
   "attachments": {},
   "cell_type": "markdown",
   "metadata": {},
   "source": [
    "#### Tabla D_LABITEMS\n"
   ]
  },
  {
   "cell_type": "code",
   "execution_count": 48,
   "metadata": {},
   "outputs": [
    {
     "data": {
      "text/html": [
       "<div>\n",
       "<style scoped>\n",
       "    .dataframe tbody tr th:only-of-type {\n",
       "        vertical-align: middle;\n",
       "    }\n",
       "\n",
       "    .dataframe tbody tr th {\n",
       "        vertical-align: top;\n",
       "    }\n",
       "\n",
       "    .dataframe thead th {\n",
       "        text-align: right;\n",
       "    }\n",
       "</style>\n",
       "<table border=\"1\" class=\"dataframe\">\n",
       "  <thead>\n",
       "    <tr style=\"text-align: right;\">\n",
       "      <th></th>\n",
       "      <th>row_id</th>\n",
       "      <th>itemid</th>\n",
       "      <th>label</th>\n",
       "      <th>fluid</th>\n",
       "      <th>category</th>\n",
       "      <th>loinc_code</th>\n",
       "    </tr>\n",
       "  </thead>\n",
       "  <tbody>\n",
       "    <tr>\n",
       "      <th>0</th>\n",
       "      <td>1</td>\n",
       "      <td>50800</td>\n",
       "      <td>SPECIMEN TYPE</td>\n",
       "      <td>BLOOD</td>\n",
       "      <td>BLOOD GAS</td>\n",
       "      <td>NaN</td>\n",
       "    </tr>\n",
       "    <tr>\n",
       "      <th>1</th>\n",
       "      <td>2</td>\n",
       "      <td>50801</td>\n",
       "      <td>Alveolar-arterial Gradient</td>\n",
       "      <td>Blood</td>\n",
       "      <td>Blood Gas</td>\n",
       "      <td>19991-9</td>\n",
       "    </tr>\n",
       "    <tr>\n",
       "      <th>2</th>\n",
       "      <td>3</td>\n",
       "      <td>50802</td>\n",
       "      <td>Base Excess</td>\n",
       "      <td>Blood</td>\n",
       "      <td>Blood Gas</td>\n",
       "      <td>11555-0</td>\n",
       "    </tr>\n",
       "    <tr>\n",
       "      <th>3</th>\n",
       "      <td>4</td>\n",
       "      <td>50803</td>\n",
       "      <td>Calculated Bicarbonate, Whole Blood</td>\n",
       "      <td>Blood</td>\n",
       "      <td>Blood Gas</td>\n",
       "      <td>1959-6</td>\n",
       "    </tr>\n",
       "    <tr>\n",
       "      <th>4</th>\n",
       "      <td>5</td>\n",
       "      <td>50804</td>\n",
       "      <td>Calculated Total CO2</td>\n",
       "      <td>Blood</td>\n",
       "      <td>Blood Gas</td>\n",
       "      <td>34728-6</td>\n",
       "    </tr>\n",
       "  </tbody>\n",
       "</table>\n",
       "</div>"
      ],
      "text/plain": [
       "   row_id  itemid                                label  fluid   category  \\\n",
       "0       1   50800                        SPECIMEN TYPE  BLOOD  BLOOD GAS   \n",
       "1       2   50801           Alveolar-arterial Gradient  Blood  Blood Gas   \n",
       "2       3   50802                          Base Excess  Blood  Blood Gas   \n",
       "3       4   50803  Calculated Bicarbonate, Whole Blood  Blood  Blood Gas   \n",
       "4       5   50804                 Calculated Total CO2  Blood  Blood Gas   \n",
       "\n",
       "  loinc_code  \n",
       "0        NaN  \n",
       "1    19991-9  \n",
       "2    11555-0  \n",
       "3     1959-6  \n",
       "4    34728-6  "
      ]
     },
     "execution_count": 48,
     "metadata": {},
     "output_type": "execute_result"
    }
   ],
   "source": [
    "df = pd.read_csv('Data/dataset/D_LABITEMS.csv', encoding = 'ascii')\n",
    "\n",
    "# Visualizamos los primeros 5 registros.\n",
    "df.head()"
   ]
  },
  {
   "cell_type": "code",
   "execution_count": 49,
   "metadata": {},
   "outputs": [
    {
     "name": "stdout",
     "output_type": "stream",
     "text": [
      "<class 'pandas.core.frame.DataFrame'>\n",
      "RangeIndex: 753 entries, 0 to 752\n",
      "Data columns (total 6 columns):\n",
      " #   Column      Non-Null Count  Dtype \n",
      "---  ------      --------------  ----- \n",
      " 0   row_id      753 non-null    int64 \n",
      " 1   itemid      753 non-null    int64 \n",
      " 2   label       753 non-null    object\n",
      " 3   fluid       753 non-null    object\n",
      " 4   category    753 non-null    object\n",
      " 5   loinc_code  585 non-null    object\n",
      "dtypes: int64(2), object(4)\n",
      "memory usage: 35.4+ KB\n"
     ]
    }
   ],
   "source": [
    "# Mostramos la informacion de la tabla.\n",
    "df.info()"
   ]
  },
  {
   "attachments": {},
   "cell_type": "markdown",
   "metadata": {},
   "source": [
    "Columna 'fluid'"
   ]
  },
  {
   "cell_type": "code",
   "execution_count": null,
   "metadata": {},
   "outputs": [],
   "source": []
  },
  {
   "cell_type": "code",
   "execution_count": 50,
   "metadata": {},
   "outputs": [
    {
     "data": {
      "text/plain": [
       "Blood                        359\n",
       "Urine                        103\n",
       "Other Body Fluid              82\n",
       "Bone Marrow                   40\n",
       "Ascites                       37\n",
       "Pleural                       35\n",
       "Cerebrospinal Fluid (CSF)     30\n",
       "Joint Fluid                   26\n",
       "BLOOD                         15\n",
       "OTHER BODY FLUID               9\n",
       "Stool                          6\n",
       "URINE                          6\n",
       "JOINT FLUID                    2\n",
       "CSF                            1\n",
       "ASCITES                        1\n",
       "STOOL                          1\n",
       "Name: fluid, dtype: int64"
      ]
     },
     "execution_count": 50,
     "metadata": {},
     "output_type": "execute_result"
    }
   ],
   "source": [
    "# Vemos que hay 16 valores posibles para la columna 'fluid'.  \n",
    "fluid = df.fluid.value_counts()\n",
    "fluid"
   ]
  },
  {
   "cell_type": "code",
   "execution_count": 51,
   "metadata": {},
   "outputs": [
    {
     "data": {
      "image/png": "[encoded data removed]",
      "text/plain": [
       "<Figure size 640x480 with 1 Axes>"
      ]
     },
     "metadata": {},
     "output_type": "display_data"
    }
   ],
   "source": [
    "# Vemos la distribución de la columan 'fluid'\n",
    "plt.barh(fluid.index,fluid.values, height=0.5 )\n",
    "plt.grid(color='gray', linestyle='-', linewidth = 0.3)\n",
    "plt.show()"
   ]
  },
  {
   "cell_type": "code",
   "execution_count": null,
   "metadata": {},
   "outputs": [],
   "source": []
  },
  {
   "attachments": {},
   "cell_type": "markdown",
   "metadata": {},
   "source": [
    "Columna 'category'"
   ]
  },
  {
   "cell_type": "code",
   "execution_count": 52,
   "metadata": {},
   "outputs": [
    {
     "data": {
      "text/plain": [
       "Hematology    410\n",
       "Chemistry     274\n",
       "Blood Gas      34\n",
       "CHEMISTRY      19\n",
       "HEMATOLOGY     13\n",
       "BLOOD GAS       3\n",
       "Name: category, dtype: int64"
      ]
     },
     "execution_count": 52,
     "metadata": {},
     "output_type": "execute_result"
    }
   ],
   "source": [
    "category = df.category.value_counts()\n",
    "category"
   ]
  },
  {
   "cell_type": "code",
   "execution_count": 53,
   "metadata": {},
   "outputs": [
    {
     "data": {
      "image/png": "[encoded data removed]",
      "text/plain": [
       "<Figure size 640x480 with 1 Axes>"
      ]
     },
     "metadata": {},
     "output_type": "display_data"
    }
   ],
   "source": [
    "plt.pie(category.values, labels = category.index, autopct=autopct)\n",
    "plt.show()"
   ]
  },
  {
   "cell_type": "code",
   "execution_count": 54,
   "metadata": {},
   "outputs": [],
   "source": [
    "# Expotamos a un .csv\n",
    "df.to_csv(\"df_d_labitems.csv\", index=False)\n",
    "\n"
   ]
  },
  {
   "cell_type": "code",
   "execution_count": null,
   "metadata": {},
   "outputs": [],
   "source": []
  },
  {
   "attachments": {},
   "cell_type": "markdown",
   "metadata": {},
   "source": [
    "#### Tabla TRANSFERS\n"
   ]
  },
  {
   "cell_type": "code",
   "execution_count": 55,
   "metadata": {},
   "outputs": [
    {
     "data": {
      "text/html": [
       "<div>\n",
       "<style scoped>\n",
       "    .dataframe tbody tr th:only-of-type {\n",
       "        vertical-align: middle;\n",
       "    }\n",
       "\n",
       "    .dataframe tbody tr th {\n",
       "        vertical-align: top;\n",
       "    }\n",
       "\n",
       "    .dataframe thead th {\n",
       "        text-align: right;\n",
       "    }\n",
       "</style>\n",
       "<table border=\"1\" class=\"dataframe\">\n",
       "  <thead>\n",
       "    <tr style=\"text-align: right;\">\n",
       "      <th></th>\n",
       "      <th>row_id</th>\n",
       "      <th>subject_id</th>\n",
       "      <th>hadm_id</th>\n",
       "      <th>icustay_id</th>\n",
       "      <th>dbsource</th>\n",
       "      <th>eventtype</th>\n",
       "      <th>prev_careunit</th>\n",
       "      <th>curr_careunit</th>\n",
       "      <th>prev_wardid</th>\n",
       "      <th>curr_wardid</th>\n",
       "      <th>intime</th>\n",
       "      <th>outtime</th>\n",
       "      <th>los</th>\n",
       "    </tr>\n",
       "  </thead>\n",
       "  <tbody>\n",
       "    <tr>\n",
       "      <th>0</th>\n",
       "      <td>54440</td>\n",
       "      <td>10006</td>\n",
       "      <td>142345</td>\n",
       "      <td>206504.0</td>\n",
       "      <td>carevue</td>\n",
       "      <td>admit</td>\n",
       "      <td>NaN</td>\n",
       "      <td>MICU</td>\n",
       "      <td>NaN</td>\n",
       "      <td>52.0</td>\n",
       "      <td>2164-10-23 21:10:15</td>\n",
       "      <td>2164-10-25 12:21:07</td>\n",
       "      <td>39.18</td>\n",
       "    </tr>\n",
       "    <tr>\n",
       "      <th>1</th>\n",
       "      <td>54441</td>\n",
       "      <td>10006</td>\n",
       "      <td>142345</td>\n",
       "      <td>NaN</td>\n",
       "      <td>carevue</td>\n",
       "      <td>transfer</td>\n",
       "      <td>MICU</td>\n",
       "      <td>NaN</td>\n",
       "      <td>52.0</td>\n",
       "      <td>45.0</td>\n",
       "      <td>2164-10-25 12:21:07</td>\n",
       "      <td>2164-11-01 17:14:27</td>\n",
       "      <td>172.89</td>\n",
       "    </tr>\n",
       "    <tr>\n",
       "      <th>2</th>\n",
       "      <td>54442</td>\n",
       "      <td>10006</td>\n",
       "      <td>142345</td>\n",
       "      <td>NaN</td>\n",
       "      <td>carevue</td>\n",
       "      <td>discharge</td>\n",
       "      <td>NaN</td>\n",
       "      <td>NaN</td>\n",
       "      <td>45.0</td>\n",
       "      <td>NaN</td>\n",
       "      <td>2164-11-01 17:14:27</td>\n",
       "      <td>NaN</td>\n",
       "      <td>NaN</td>\n",
       "    </tr>\n",
       "    <tr>\n",
       "      <th>3</th>\n",
       "      <td>54460</td>\n",
       "      <td>10011</td>\n",
       "      <td>105331</td>\n",
       "      <td>232110.0</td>\n",
       "      <td>carevue</td>\n",
       "      <td>admit</td>\n",
       "      <td>NaN</td>\n",
       "      <td>MICU</td>\n",
       "      <td>NaN</td>\n",
       "      <td>15.0</td>\n",
       "      <td>2126-08-14 22:34:00</td>\n",
       "      <td>2126-08-28 18:59:00</td>\n",
       "      <td>332.42</td>\n",
       "    </tr>\n",
       "    <tr>\n",
       "      <th>4</th>\n",
       "      <td>54461</td>\n",
       "      <td>10011</td>\n",
       "      <td>105331</td>\n",
       "      <td>NaN</td>\n",
       "      <td>carevue</td>\n",
       "      <td>discharge</td>\n",
       "      <td>MICU</td>\n",
       "      <td>NaN</td>\n",
       "      <td>15.0</td>\n",
       "      <td>NaN</td>\n",
       "      <td>2126-08-28 18:59:00</td>\n",
       "      <td>NaN</td>\n",
       "      <td>NaN</td>\n",
       "    </tr>\n",
       "  </tbody>\n",
       "</table>\n",
       "</div>"
      ],
      "text/plain": [
       "   row_id  subject_id  hadm_id  icustay_id dbsource  eventtype prev_careunit  \\\n",
       "0   54440       10006   142345    206504.0  carevue      admit           NaN   \n",
       "1   54441       10006   142345         NaN  carevue   transfer          MICU   \n",
       "2   54442       10006   142345         NaN  carevue  discharge           NaN   \n",
       "3   54460       10011   105331    232110.0  carevue      admit           NaN   \n",
       "4   54461       10011   105331         NaN  carevue  discharge          MICU   \n",
       "\n",
       "  curr_careunit  prev_wardid  curr_wardid               intime  \\\n",
       "0          MICU          NaN         52.0  2164-10-23 21:10:15   \n",
       "1           NaN         52.0         45.0  2164-10-25 12:21:07   \n",
       "2           NaN         45.0          NaN  2164-11-01 17:14:27   \n",
       "3          MICU          NaN         15.0  2126-08-14 22:34:00   \n",
       "4           NaN         15.0          NaN  2126-08-28 18:59:00   \n",
       "\n",
       "               outtime     los  \n",
       "0  2164-10-25 12:21:07   39.18  \n",
       "1  2164-11-01 17:14:27  172.89  \n",
       "2                  NaN     NaN  \n",
       "3  2126-08-28 18:59:00  332.42  \n",
       "4                  NaN     NaN  "
      ]
     },
     "execution_count": 55,
     "metadata": {},
     "output_type": "execute_result"
    }
   ],
   "source": [
    "df = pd.read_csv('Data/dataset/TRANSFERS.csv', encoding = 'ascii')\n",
    "\n",
    "# Visualizamos los primeros 5 registros.\n",
    "df.head()"
   ]
  },
  {
   "cell_type": "code",
   "execution_count": 56,
   "metadata": {},
   "outputs": [
    {
     "name": "stdout",
     "output_type": "stream",
     "text": [
      "<class 'pandas.core.frame.DataFrame'>\n",
      "RangeIndex: 524 entries, 0 to 523\n",
      "Data columns (total 13 columns):\n",
      " #   Column         Non-Null Count  Dtype  \n",
      "---  ------         --------------  -----  \n",
      " 0   row_id         524 non-null    int64  \n",
      " 1   subject_id     524 non-null    int64  \n",
      " 2   hadm_id        524 non-null    int64  \n",
      " 3   icustay_id     167 non-null    float64\n",
      " 4   dbsource       524 non-null    object \n",
      " 5   eventtype      524 non-null    object \n",
      " 6   prev_careunit  167 non-null    object \n",
      " 7   curr_careunit  167 non-null    object \n",
      " 8   prev_wardid    395 non-null    float64\n",
      " 9   curr_wardid    395 non-null    float64\n",
      " 10  intime         524 non-null    object \n",
      " 11  outtime        395 non-null    object \n",
      " 12  los            395 non-null    float64\n",
      "dtypes: float64(4), int64(3), object(6)\n",
      "memory usage: 53.3+ KB\n"
     ]
    }
   ],
   "source": [
    "df.info()"
   ]
  },
  {
   "cell_type": "code",
   "execution_count": 57,
   "metadata": {},
   "outputs": [
    {
     "data": {
      "text/plain": [
       "metavision    287\n",
       "carevue       237\n",
       "Name: dbsource, dtype: int64"
      ]
     },
     "execution_count": 57,
     "metadata": {},
     "output_type": "execute_result"
    }
   ],
   "source": [
    "# Vemos la distribución de la tabla 'dbsource'\n",
    "df.dbsource.value_counts()"
   ]
  },
  {
   "cell_type": "code",
   "execution_count": 58,
   "metadata": {},
   "outputs": [
    {
     "data": {
      "text/plain": [
       "transfer     266\n",
       "admit        129\n",
       "discharge    129\n",
       "Name: eventtype, dtype: int64"
      ]
     },
     "execution_count": 58,
     "metadata": {},
     "output_type": "execute_result"
    }
   ],
   "source": [
    "# Vemos la distribución de la tabla 'eventtype'\n",
    "df.eventtype.value_counts()\n",
    "\n"
   ]
  },
  {
   "cell_type": "code",
   "execution_count": 59,
   "metadata": {},
   "outputs": [
    {
     "data": {
      "text/plain": [
       "MICU     95\n",
       "SICU     27\n",
       "CCU      26\n",
       "TSICU    12\n",
       "CSRU      7\n",
       "Name: prev_careunit, dtype: int64"
      ]
     },
     "execution_count": 59,
     "metadata": {},
     "output_type": "execute_result"
    }
   ],
   "source": [
    "# Vemos la distribución de la tabla 'prev_careunit'\n",
    "df.prev_careunit.value_counts()\n",
    "\n",
    "\n"
   ]
  },
  {
   "cell_type": "code",
   "execution_count": 60,
   "metadata": {},
   "outputs": [
    {
     "data": {
      "text/plain": [
       "MICU     95\n",
       "SICU     27\n",
       "CCU      26\n",
       "TSICU    12\n",
       "CSRU      7\n",
       "Name: curr_careunit, dtype: int64"
      ]
     },
     "execution_count": 60,
     "metadata": {},
     "output_type": "execute_result"
    }
   ],
   "source": [
    "# Vemos la distribución de la tabla 'curr_careunit'\n",
    "df.curr_careunit.value_counts()\n",
    "\n",
    "\n"
   ]
  },
  {
   "cell_type": "code",
   "execution_count": 61,
   "metadata": {},
   "outputs": [],
   "source": [
    "# Expotamos a un .csv\n",
    "df.to_csv(\"df_transfers.csv\", index=False)\n",
    "\n"
   ]
  },
  {
   "attachments": {},
   "cell_type": "markdown",
   "metadata": {},
   "source": [
    "#### Tabla PATIENTS\n"
   ]
  },
  {
   "cell_type": "code",
   "execution_count": 62,
   "metadata": {},
   "outputs": [
    {
     "data": {
      "text/html": [
       "<div>\n",
       "<style scoped>\n",
       "    .dataframe tbody tr th:only-of-type {\n",
       "        vertical-align: middle;\n",
       "    }\n",
       "\n",
       "    .dataframe tbody tr th {\n",
       "        vertical-align: top;\n",
       "    }\n",
       "\n",
       "    .dataframe thead th {\n",
       "        text-align: right;\n",
       "    }\n",
       "</style>\n",
       "<table border=\"1\" class=\"dataframe\">\n",
       "  <thead>\n",
       "    <tr style=\"text-align: right;\">\n",
       "      <th></th>\n",
       "      <th>row_id</th>\n",
       "      <th>subject_id</th>\n",
       "      <th>gender</th>\n",
       "      <th>dob</th>\n",
       "      <th>dod</th>\n",
       "      <th>dod_hosp</th>\n",
       "      <th>dod_ssn</th>\n",
       "      <th>expire_flag</th>\n",
       "    </tr>\n",
       "  </thead>\n",
       "  <tbody>\n",
       "    <tr>\n",
       "      <th>0</th>\n",
       "      <td>9467</td>\n",
       "      <td>10006</td>\n",
       "      <td>F</td>\n",
       "      <td>2094-03-05 00:00:00</td>\n",
       "      <td>2165-08-12 00:00:00</td>\n",
       "      <td>2165-08-12 00:00:00</td>\n",
       "      <td>2165-08-12 00:00:00</td>\n",
       "      <td>1</td>\n",
       "    </tr>\n",
       "    <tr>\n",
       "      <th>1</th>\n",
       "      <td>9472</td>\n",
       "      <td>10011</td>\n",
       "      <td>F</td>\n",
       "      <td>2090-06-05 00:00:00</td>\n",
       "      <td>2126-08-28 00:00:00</td>\n",
       "      <td>2126-08-28 00:00:00</td>\n",
       "      <td>NaN</td>\n",
       "      <td>1</td>\n",
       "    </tr>\n",
       "    <tr>\n",
       "      <th>2</th>\n",
       "      <td>9474</td>\n",
       "      <td>10013</td>\n",
       "      <td>F</td>\n",
       "      <td>2038-09-03 00:00:00</td>\n",
       "      <td>2125-10-07 00:00:00</td>\n",
       "      <td>2125-10-07 00:00:00</td>\n",
       "      <td>2125-10-07 00:00:00</td>\n",
       "      <td>1</td>\n",
       "    </tr>\n",
       "    <tr>\n",
       "      <th>3</th>\n",
       "      <td>9478</td>\n",
       "      <td>10017</td>\n",
       "      <td>F</td>\n",
       "      <td>2075-09-21 00:00:00</td>\n",
       "      <td>2152-09-12 00:00:00</td>\n",
       "      <td>NaN</td>\n",
       "      <td>2152-09-12 00:00:00</td>\n",
       "      <td>1</td>\n",
       "    </tr>\n",
       "    <tr>\n",
       "      <th>4</th>\n",
       "      <td>9479</td>\n",
       "      <td>10019</td>\n",
       "      <td>M</td>\n",
       "      <td>2114-06-20 00:00:00</td>\n",
       "      <td>2163-05-15 00:00:00</td>\n",
       "      <td>2163-05-15 00:00:00</td>\n",
       "      <td>2163-05-15 00:00:00</td>\n",
       "      <td>1</td>\n",
       "    </tr>\n",
       "  </tbody>\n",
       "</table>\n",
       "</div>"
      ],
      "text/plain": [
       "   row_id  subject_id gender                  dob                  dod  \\\n",
       "0    9467       10006      F  2094-03-05 00:00:00  2165-08-12 00:00:00   \n",
       "1    9472       10011      F  2090-06-05 00:00:00  2126-08-28 00:00:00   \n",
       "2    9474       10013      F  2038-09-03 00:00:00  2125-10-07 00:00:00   \n",
       "3    9478       10017      F  2075-09-21 00:00:00  2152-09-12 00:00:00   \n",
       "4    9479       10019      M  2114-06-20 00:00:00  2163-05-15 00:00:00   \n",
       "\n",
       "              dod_hosp              dod_ssn  expire_flag  \n",
       "0  2165-08-12 00:00:00  2165-08-12 00:00:00            1  \n",
       "1  2126-08-28 00:00:00                  NaN            1  \n",
       "2  2125-10-07 00:00:00  2125-10-07 00:00:00            1  \n",
       "3                  NaN  2152-09-12 00:00:00            1  \n",
       "4  2163-05-15 00:00:00  2163-05-15 00:00:00            1  "
      ]
     },
     "execution_count": 62,
     "metadata": {},
     "output_type": "execute_result"
    }
   ],
   "source": [
    "df = pd.read_csv('Data/dataset/PATIENTS.csv', encoding = 'ascii')\n",
    "\n",
    "\n",
    "# Visualizamos los primeros 5 registros.\n",
    "df.head()"
   ]
  },
  {
   "cell_type": "code",
   "execution_count": 63,
   "metadata": {},
   "outputs": [
    {
     "name": "stdout",
     "output_type": "stream",
     "text": [
      "<class 'pandas.core.frame.DataFrame'>\n",
      "RangeIndex: 100 entries, 0 to 99\n",
      "Data columns (total 8 columns):\n",
      " #   Column       Non-Null Count  Dtype \n",
      "---  ------       --------------  ----- \n",
      " 0   row_id       100 non-null    int64 \n",
      " 1   subject_id   100 non-null    int64 \n",
      " 2   gender       100 non-null    object\n",
      " 3   dob          100 non-null    object\n",
      " 4   dod          100 non-null    object\n",
      " 5   dod_hosp     70 non-null     object\n",
      " 6   dod_ssn      77 non-null     object\n",
      " 7   expire_flag  100 non-null    int64 \n",
      "dtypes: int64(3), object(5)\n",
      "memory usage: 6.4+ KB\n"
     ]
    }
   ],
   "source": [
    "df.info()"
   ]
  },
  {
   "cell_type": "code",
   "execution_count": 64,
   "metadata": {},
   "outputs": [
    {
     "data": {
      "text/plain": [
       "F    55\n",
       "M    45\n",
       "Name: gender, dtype: int64"
      ]
     },
     "execution_count": 64,
     "metadata": {},
     "output_type": "execute_result"
    }
   ],
   "source": [
    "# Vemos la distribucion de 'gender'\n",
    "df.gender.value_counts()\n"
   ]
  },
  {
   "cell_type": "code",
   "execution_count": 65,
   "metadata": {},
   "outputs": [
    {
     "data": {
      "text/plain": [
       "1    100\n",
       "Name: expire_flag, dtype: int64"
      ]
     },
     "execution_count": 65,
     "metadata": {},
     "output_type": "execute_result"
    }
   ],
   "source": [
    "# Vemos que indica que todos los pacientes de esta tabla fallecieron. \n",
    "df.expire_flag.value_counts()"
   ]
  },
  {
   "cell_type": "code",
   "execution_count": 66,
   "metadata": {},
   "outputs": [],
   "source": [
    "# Expotamos a un .csv\n",
    "df.to_csv(\"df_patients.csv\", index=False)\n",
    "\n"
   ]
  },
  {
   "cell_type": "code",
   "execution_count": null,
   "metadata": {},
   "outputs": [],
   "source": []
  },
  {
   "attachments": {},
   "cell_type": "markdown",
   "metadata": {},
   "source": [
    "#### Tabla PRESCRIPTIONS\n"
   ]
  },
  {
   "cell_type": "code",
   "execution_count": 67,
   "metadata": {},
   "outputs": [
    {
     "data": {
      "text/html": [
       "<div>\n",
       "<style scoped>\n",
       "    .dataframe tbody tr th:only-of-type {\n",
       "        vertical-align: middle;\n",
       "    }\n",
       "\n",
       "    .dataframe tbody tr th {\n",
       "        vertical-align: top;\n",
       "    }\n",
       "\n",
       "    .dataframe thead th {\n",
       "        text-align: right;\n",
       "    }\n",
       "</style>\n",
       "<table border=\"1\" class=\"dataframe\">\n",
       "  <thead>\n",
       "    <tr style=\"text-align: right;\">\n",
       "      <th></th>\n",
       "      <th>row_id</th>\n",
       "      <th>subject_id</th>\n",
       "      <th>hadm_id</th>\n",
       "      <th>icustay_id</th>\n",
       "      <th>startdate</th>\n",
       "      <th>enddate</th>\n",
       "      <th>drug_type</th>\n",
       "      <th>drug</th>\n",
       "      <th>drug_name_poe</th>\n",
       "      <th>drug_name_generic</th>\n",
       "      <th>formulary_drug_cd</th>\n",
       "      <th>gsn</th>\n",
       "      <th>ndc</th>\n",
       "      <th>prod_strength</th>\n",
       "      <th>dose_val_rx</th>\n",
       "      <th>dose_unit_rx</th>\n",
       "      <th>form_val_disp</th>\n",
       "      <th>form_unit_disp</th>\n",
       "      <th>route</th>\n",
       "    </tr>\n",
       "  </thead>\n",
       "  <tbody>\n",
       "    <tr>\n",
       "      <th>0</th>\n",
       "      <td>32600</td>\n",
       "      <td>42458</td>\n",
       "      <td>159647</td>\n",
       "      <td>NaN</td>\n",
       "      <td>2146-07-21 00:00:00</td>\n",
       "      <td>2146-07-22 00:00:00</td>\n",
       "      <td>MAIN</td>\n",
       "      <td>Pneumococcal Vac Polyvalent</td>\n",
       "      <td>Pneumococcal Vac Polyvalent</td>\n",
       "      <td>PNEUMOcoccal Vac Polyvalent</td>\n",
       "      <td>PNEU25I</td>\n",
       "      <td>48548.0</td>\n",
       "      <td>6494300.0</td>\n",
       "      <td>25mcg/0.5mL Vial</td>\n",
       "      <td>0.5</td>\n",
       "      <td>mL</td>\n",
       "      <td>1</td>\n",
       "      <td>VIAL</td>\n",
       "      <td>IM</td>\n",
       "    </tr>\n",
       "    <tr>\n",
       "      <th>1</th>\n",
       "      <td>32601</td>\n",
       "      <td>42458</td>\n",
       "      <td>159647</td>\n",
       "      <td>NaN</td>\n",
       "      <td>2146-07-21 00:00:00</td>\n",
       "      <td>2146-07-22 00:00:00</td>\n",
       "      <td>MAIN</td>\n",
       "      <td>Bisacodyl</td>\n",
       "      <td>Bisacodyl</td>\n",
       "      <td>Bisacodyl</td>\n",
       "      <td>BISA5</td>\n",
       "      <td>2947.0</td>\n",
       "      <td>536338101.0</td>\n",
       "      <td>5 mg Tab</td>\n",
       "      <td>10</td>\n",
       "      <td>mg</td>\n",
       "      <td>2</td>\n",
       "      <td>TAB</td>\n",
       "      <td>PO</td>\n",
       "    </tr>\n",
       "    <tr>\n",
       "      <th>2</th>\n",
       "      <td>32602</td>\n",
       "      <td>42458</td>\n",
       "      <td>159647</td>\n",
       "      <td>NaN</td>\n",
       "      <td>2146-07-21 00:00:00</td>\n",
       "      <td>2146-07-22 00:00:00</td>\n",
       "      <td>MAIN</td>\n",
       "      <td>Bisacodyl</td>\n",
       "      <td>Bisacodyl</td>\n",
       "      <td>Bisacodyl (Rectal)</td>\n",
       "      <td>BISA10R</td>\n",
       "      <td>2944.0</td>\n",
       "      <td>574705050.0</td>\n",
       "      <td>10mg Suppository</td>\n",
       "      <td>10</td>\n",
       "      <td>mg</td>\n",
       "      <td>1</td>\n",
       "      <td>SUPP</td>\n",
       "      <td>PR</td>\n",
       "    </tr>\n",
       "    <tr>\n",
       "      <th>3</th>\n",
       "      <td>32603</td>\n",
       "      <td>42458</td>\n",
       "      <td>159647</td>\n",
       "      <td>NaN</td>\n",
       "      <td>2146-07-21 00:00:00</td>\n",
       "      <td>2146-07-22 00:00:00</td>\n",
       "      <td>MAIN</td>\n",
       "      <td>Senna</td>\n",
       "      <td>Senna</td>\n",
       "      <td>Senna</td>\n",
       "      <td>SENN187</td>\n",
       "      <td>19964.0</td>\n",
       "      <td>904516561.0</td>\n",
       "      <td>1 Tablet</td>\n",
       "      <td>1</td>\n",
       "      <td>TAB</td>\n",
       "      <td>1</td>\n",
       "      <td>TAB</td>\n",
       "      <td>PO</td>\n",
       "    </tr>\n",
       "    <tr>\n",
       "      <th>4</th>\n",
       "      <td>32604</td>\n",
       "      <td>42458</td>\n",
       "      <td>159647</td>\n",
       "      <td>NaN</td>\n",
       "      <td>2146-07-21 00:00:00</td>\n",
       "      <td>2146-07-21 00:00:00</td>\n",
       "      <td>MAIN</td>\n",
       "      <td>Docusate Sodium (Liquid)</td>\n",
       "      <td>Docusate Sodium (Liquid)</td>\n",
       "      <td>Docusate Sodium (Liquid)</td>\n",
       "      <td>DOCU100L</td>\n",
       "      <td>3017.0</td>\n",
       "      <td>121054410.0</td>\n",
       "      <td>100mg UD Cup</td>\n",
       "      <td>100</td>\n",
       "      <td>mg</td>\n",
       "      <td>1</td>\n",
       "      <td>UDCUP</td>\n",
       "      <td>PO</td>\n",
       "    </tr>\n",
       "  </tbody>\n",
       "</table>\n",
       "</div>"
      ],
      "text/plain": [
       "   row_id  subject_id  hadm_id  icustay_id            startdate  \\\n",
       "0   32600       42458   159647         NaN  2146-07-21 00:00:00   \n",
       "1   32601       42458   159647         NaN  2146-07-21 00:00:00   \n",
       "2   32602       42458   159647         NaN  2146-07-21 00:00:00   \n",
       "3   32603       42458   159647         NaN  2146-07-21 00:00:00   \n",
       "4   32604       42458   159647         NaN  2146-07-21 00:00:00   \n",
       "\n",
       "               enddate drug_type                         drug  \\\n",
       "0  2146-07-22 00:00:00      MAIN  Pneumococcal Vac Polyvalent   \n",
       "1  2146-07-22 00:00:00      MAIN                    Bisacodyl   \n",
       "2  2146-07-22 00:00:00      MAIN                    Bisacodyl   \n",
       "3  2146-07-22 00:00:00      MAIN                        Senna   \n",
       "4  2146-07-21 00:00:00      MAIN     Docusate Sodium (Liquid)   \n",
       "\n",
       "                 drug_name_poe            drug_name_generic formulary_drug_cd  \\\n",
       "0  Pneumococcal Vac Polyvalent  PNEUMOcoccal Vac Polyvalent           PNEU25I   \n",
       "1                    Bisacodyl                    Bisacodyl             BISA5   \n",
       "2                    Bisacodyl           Bisacodyl (Rectal)           BISA10R   \n",
       "3                        Senna                        Senna           SENN187   \n",
       "4     Docusate Sodium (Liquid)     Docusate Sodium (Liquid)          DOCU100L   \n",
       "\n",
       "       gsn          ndc     prod_strength dose_val_rx dose_unit_rx  \\\n",
       "0  48548.0    6494300.0  25mcg/0.5mL Vial         0.5           mL   \n",
       "1   2947.0  536338101.0          5 mg Tab          10           mg   \n",
       "2   2944.0  574705050.0  10mg Suppository          10           mg   \n",
       "3  19964.0  904516561.0          1 Tablet           1          TAB   \n",
       "4   3017.0  121054410.0      100mg UD Cup         100           mg   \n",
       "\n",
       "  form_val_disp form_unit_disp route  \n",
       "0             1           VIAL    IM  \n",
       "1             2            TAB    PO  \n",
       "2             1           SUPP    PR  \n",
       "3             1            TAB    PO  \n",
       "4             1          UDCUP    PO  "
      ]
     },
     "execution_count": 67,
     "metadata": {},
     "output_type": "execute_result"
    }
   ],
   "source": [
    "df = pd.read_csv('Data/dataset/PRESCRIPTIONS.csv', encoding = 'ascii')\n",
    "\n",
    "\n",
    "# Visualizamos los primeros 5 registros.\n",
    "df.head()"
   ]
  },
  {
   "cell_type": "code",
   "execution_count": 68,
   "metadata": {},
   "outputs": [
    {
     "name": "stdout",
     "output_type": "stream",
     "text": [
      "<class 'pandas.core.frame.DataFrame'>\n",
      "RangeIndex: 10398 entries, 0 to 10397\n",
      "Data columns (total 19 columns):\n",
      " #   Column             Non-Null Count  Dtype  \n",
      "---  ------             --------------  -----  \n",
      " 0   row_id             10398 non-null  int64  \n",
      " 1   subject_id         10398 non-null  int64  \n",
      " 2   hadm_id            10398 non-null  int64  \n",
      " 3   icustay_id         7046 non-null   float64\n",
      " 4   startdate          10398 non-null  object \n",
      " 5   enddate            10397 non-null  object \n",
      " 6   drug_type          10398 non-null  object \n",
      " 7   drug               10398 non-null  object \n",
      " 8   drug_name_poe      5766 non-null   object \n",
      " 9   drug_name_generic  5772 non-null   object \n",
      " 10  formulary_drug_cd  10397 non-null  object \n",
      " 11  gsn                9122 non-null   float64\n",
      " 12  ndc                10397 non-null  float64\n",
      " 13  prod_strength      10398 non-null  object \n",
      " 14  dose_val_rx        10398 non-null  object \n",
      " 15  dose_unit_rx       10398 non-null  object \n",
      " 16  form_val_disp      10398 non-null  object \n",
      " 17  form_unit_disp     10397 non-null  object \n",
      " 18  route              10398 non-null  object \n",
      "dtypes: float64(3), int64(3), object(13)\n",
      "memory usage: 1.5+ MB\n"
     ]
    }
   ],
   "source": [
    "df.info()"
   ]
  },
  {
   "cell_type": "code",
   "execution_count": 69,
   "metadata": {},
   "outputs": [
    {
     "data": {
      "text/plain": [
       "MAIN        7709\n",
       "BASE        2617\n",
       "ADDITIVE      72\n",
       "Name: drug_type, dtype: int64"
      ]
     },
     "execution_count": 69,
     "metadata": {},
     "output_type": "execute_result"
    }
   ],
   "source": [
    "# Vemos la distribución de la columna 'drug_type' \n",
    "df.drug_type.value_counts()\n",
    "\n",
    "\n"
   ]
  },
  {
   "cell_type": "code",
   "execution_count": 70,
   "metadata": {},
   "outputs": [],
   "source": [
    "# Expotamos a un .csv\n",
    "df.to_csv(\"df_prescriptions.csv\", index=False)\n",
    "\n"
   ]
  },
  {
   "cell_type": "code",
   "execution_count": null,
   "metadata": {},
   "outputs": [],
   "source": []
  },
  {
   "attachments": {},
   "cell_type": "markdown",
   "metadata": {},
   "source": [
    "\n",
    "\n",
    "#### Tabla SERVICES"
   ]
  },
  {
   "cell_type": "code",
   "execution_count": 71,
   "metadata": {},
   "outputs": [
    {
     "data": {
      "text/html": [
       "<div>\n",
       "<style scoped>\n",
       "    .dataframe tbody tr th:only-of-type {\n",
       "        vertical-align: middle;\n",
       "    }\n",
       "\n",
       "    .dataframe tbody tr th {\n",
       "        vertical-align: top;\n",
       "    }\n",
       "\n",
       "    .dataframe thead th {\n",
       "        text-align: right;\n",
       "    }\n",
       "</style>\n",
       "<table border=\"1\" class=\"dataframe\">\n",
       "  <thead>\n",
       "    <tr style=\"text-align: right;\">\n",
       "      <th></th>\n",
       "      <th>row_id</th>\n",
       "      <th>subject_id</th>\n",
       "      <th>hadm_id</th>\n",
       "      <th>transfertime</th>\n",
       "      <th>prev_service</th>\n",
       "      <th>curr_service</th>\n",
       "    </tr>\n",
       "  </thead>\n",
       "  <tbody>\n",
       "    <tr>\n",
       "      <th>0</th>\n",
       "      <td>14974</td>\n",
       "      <td>10006</td>\n",
       "      <td>142345</td>\n",
       "      <td>2164-10-23 21:10:15</td>\n",
       "      <td>NaN</td>\n",
       "      <td>MED</td>\n",
       "    </tr>\n",
       "    <tr>\n",
       "      <th>1</th>\n",
       "      <td>14979</td>\n",
       "      <td>10011</td>\n",
       "      <td>105331</td>\n",
       "      <td>2126-08-14 22:34:00</td>\n",
       "      <td>NaN</td>\n",
       "      <td>MED</td>\n",
       "    </tr>\n",
       "    <tr>\n",
       "      <th>2</th>\n",
       "      <td>14981</td>\n",
       "      <td>10013</td>\n",
       "      <td>165520</td>\n",
       "      <td>2125-10-04 23:38:00</td>\n",
       "      <td>NaN</td>\n",
       "      <td>MED</td>\n",
       "    </tr>\n",
       "    <tr>\n",
       "      <th>3</th>\n",
       "      <td>14985</td>\n",
       "      <td>10017</td>\n",
       "      <td>199207</td>\n",
       "      <td>2149-05-26 17:21:09</td>\n",
       "      <td>NaN</td>\n",
       "      <td>MED</td>\n",
       "    </tr>\n",
       "    <tr>\n",
       "      <th>4</th>\n",
       "      <td>14986</td>\n",
       "      <td>10019</td>\n",
       "      <td>177759</td>\n",
       "      <td>2163-05-14 20:43:56</td>\n",
       "      <td>NaN</td>\n",
       "      <td>MED</td>\n",
       "    </tr>\n",
       "  </tbody>\n",
       "</table>\n",
       "</div>"
      ],
      "text/plain": [
       "   row_id  subject_id  hadm_id         transfertime prev_service curr_service\n",
       "0   14974       10006   142345  2164-10-23 21:10:15          NaN          MED\n",
       "1   14979       10011   105331  2126-08-14 22:34:00          NaN          MED\n",
       "2   14981       10013   165520  2125-10-04 23:38:00          NaN          MED\n",
       "3   14985       10017   199207  2149-05-26 17:21:09          NaN          MED\n",
       "4   14986       10019   177759  2163-05-14 20:43:56          NaN          MED"
      ]
     },
     "execution_count": 71,
     "metadata": {},
     "output_type": "execute_result"
    }
   ],
   "source": [
    "df = pd.read_csv('Data/dataset/SERVICES.csv', encoding = 'ascii')\n",
    "\n",
    "\n",
    "# Visualizamos los primeros 5 registros.\n",
    "df.head()"
   ]
  },
  {
   "cell_type": "code",
   "execution_count": 72,
   "metadata": {},
   "outputs": [
    {
     "name": "stdout",
     "output_type": "stream",
     "text": [
      "<class 'pandas.core.frame.DataFrame'>\n",
      "RangeIndex: 163 entries, 0 to 162\n",
      "Data columns (total 6 columns):\n",
      " #   Column        Non-Null Count  Dtype \n",
      "---  ------        --------------  ----- \n",
      " 0   row_id        163 non-null    int64 \n",
      " 1   subject_id    163 non-null    int64 \n",
      " 2   hadm_id       163 non-null    int64 \n",
      " 3   transfertime  163 non-null    object\n",
      " 4   prev_service  34 non-null     object\n",
      " 5   curr_service  163 non-null    object\n",
      "dtypes: int64(3), object(3)\n",
      "memory usage: 7.8+ KB\n"
     ]
    }
   ],
   "source": [
    "df.info()"
   ]
  },
  {
   "cell_type": "code",
   "execution_count": 73,
   "metadata": {},
   "outputs": [
    {
     "data": {
      "text/plain": [
       "MED      14\n",
       "OMED      8\n",
       "CMED      3\n",
       "NSURG     2\n",
       "TSURG     2\n",
       "CSURG     2\n",
       "VSURG     1\n",
       "SURG      1\n",
       "NMED      1\n",
       "Name: prev_service, dtype: int64"
      ]
     },
     "execution_count": 73,
     "metadata": {},
     "output_type": "execute_result"
    }
   ],
   "source": [
    "df.prev_service.value_counts()"
   ]
  },
  {
   "cell_type": "code",
   "execution_count": 74,
   "metadata": {},
   "outputs": [
    {
     "data": {
      "text/plain": [
       "MED      87\n",
       "OMED     16\n",
       "SURG     15\n",
       "CMED     14\n",
       "NMED      6\n",
       "CSURG     6\n",
       "TSURG     6\n",
       "NSURG     5\n",
       "TRAUM     4\n",
       "VSURG     2\n",
       "ORTHO     1\n",
       "GU        1\n",
       "Name: curr_service, dtype: int64"
      ]
     },
     "execution_count": 74,
     "metadata": {},
     "output_type": "execute_result"
    }
   ],
   "source": [
    "df.curr_service.value_counts()\n",
    "\n"
   ]
  },
  {
   "cell_type": "code",
   "execution_count": 75,
   "metadata": {},
   "outputs": [],
   "source": [
    "# Expotamos a un .csv\n",
    "df.to_csv(\"df_services.csv\", index=False)"
   ]
  },
  {
   "cell_type": "code",
   "execution_count": null,
   "metadata": {},
   "outputs": [],
   "source": []
  }
 ],
 "metadata": {
  "kernelspec": {
   "display_name": "Python 3",
   "language": "python",
   "name": "python3"
  },
  "language_info": {
   "codemirror_mode": {
    "name": "ipython",
    "version": 3
   },
   "file_extension": ".py",
   "mimetype": "text/x-python",
   "name": "python",
   "nbconvert_exporter": "python",
   "pygments_lexer": "ipython3",
   "version": "3.10.6"
  },
  "orig_nbformat": 4
 },
 "nbformat": 4,
 "nbformat_minor": 2
}
